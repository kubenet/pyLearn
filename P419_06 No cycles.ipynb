{
 "cells": [
  {
   "cell_type": "markdown",
   "metadata": {},
   "source": [
    "# P419 06 Вместо циклов\n",
    "\n",
    "Автор: Шабанов Павел Александрович\n",
    "\n",
    "Email: pa.shabanov@gmail.com\n",
    "\n",
    "URL: \n",
    "\n",
    "+ [Заметки по программированию в науках о Земле](http://progeoru.blogspot.ru/)\n",
    "\n",
    "+ [GitHub: PyLearn](https://github.com/whitehorn/pyLearn)\n",
    "\n",
    "+ [О списках с сайта pythonWorld](https://pythonworld.ru/tipy-dannyx-v-python/spiski-list-funkcii-i-metody-spiskov.html)\n",
    "\n",
    "+ [HABR: Основы Python — кратко. Часть 4. Генераторы списков](https://habr.com/post/30232/) \n",
    "\n",
    "+ [HABR: Python: советы, уловки, хаки (часть 1) > 2.1 Генераторы списков](https://habr.com/post/85238/)\n",
    "\n",
    "+ [HABR: Python: коллекции, часть 4/4: Все о выражениях-генераторах, генераторах списков, множеств и словарей](https://habr.com/post/320288/#7)\n",
    "\n",
    "Дата последнего обновления: **20.10.2018**\n",
    "\n",
    "<a id='up'></a>\n",
    "### План\n",
    "\n",
    "1. [Вместо списков](#intro)\n",
    "2. [Генератор списков](#lc)\n",
    "    + [Создание списков с помощью генератора](#create_list)\n",
    "    + [Модификация списков с помощью генератора](#modify_list)\n",
    "    + [Генератор списков с условием](#lc_if)\n",
    "    + [Вложенные генераторы списков](#lc_doubled)\n",
    "    + [Выражения-генераторы](#ge) \n",
    "\n",
    "3. [Функции, похожие на циклы](#ffunc)\n",
    "    + [map](#map)\n",
    "    + [filter](#filter)\n",
    "\n",
    "### Цель: \n",
    "\n",
    "+ научиться пользоваться высокоэффектиным методом обработки и создания списков - генератором списка."
   ]
  },
  {
   "cell_type": "markdown",
   "metadata": {},
   "source": [
    "<a id='intro'></a>\n",
    "## Вместо списков\n",
    "[Вверх](#up)\n",
    "Для python вычисления по индексам в нескольких циклах - это неправильный путь. Python будет делать это медленно по сравнению с компилируемыми языками программирования. \n",
    "\n",
    "Однако в python есть возможности, чтобы обойти эти слабости. Для стандартной библиотеки (т.е. чистого python, без использования numpy-массивов и других типов данных) такими средствами являются `генераторы списков` и специальные функции `map() и filter()`. \n",
    "\n",
    "Ниже приведены результаты времени создания списков длиной 10 млн значений (строковые значения) с помощью трёх методов: циклов, функции map() и генератора списков."
   ]
  },
  {
   "cell_type": "code",
   "execution_count": 23,
   "metadata": {},
   "outputs": [
    {
     "name": "stdout",
     "output_type": "stream",
     "text": [
      "Цикл: 4.13 секунд\n",
      "Map(): 3.85 секунд\n",
      "Генератор списка: 3.12 секунд\n"
     ]
    }
   ],
   "source": [
    "import time\n",
    "\n",
    "t1 = time.time()\n",
    "N = 10000000\n",
    "egg = range(N)\n",
    "box1 = []\n",
    "for i in egg:\n",
    "    box1.append(str(i))\n",
    "t2 = time.time()\n",
    "print('Цикл: {:.2f} секунд'.format(t2 - t1))\n",
    "# Map()\n",
    "t1 = time.time()\n",
    "box2 = list(map(lambda x: str(x), egg))\n",
    "t2 = time.time()\n",
    "print('Map(): {:.2f} секунд'.format(t2 - t1))\n",
    "\n",
    "t1 = time.time()\n",
    "box3 = [str(x) for x in egg]\n",
    "t2 = time.time()\n",
    "print('Генератор списка: {:.2f} секунд'.format(t2 - t1))"
   ]
  },
  {
   "cell_type": "markdown",
   "metadata": {},
   "source": [
    "Для проверки можно воспользоваться волшебной функцией jupyter notebook - **%%timeit**"
   ]
  },
  {
   "cell_type": "code",
   "execution_count": 25,
   "metadata": {},
   "outputs": [],
   "source": [
    "N = 10000000\n",
    "egg = range(N)"
   ]
  },
  {
   "cell_type": "code",
   "execution_count": 26,
   "metadata": {},
   "outputs": [
    {
     "name": "stdout",
     "output_type": "stream",
     "text": [
      "3.46 s ± 156 ms per loop (mean ± std. dev. of 7 runs, 1 loop each)\n"
     ]
    }
   ],
   "source": [
    "%%timeit\n",
    "box1 = []\n",
    "for i in egg:\n",
    "    box1.append(str(i))"
   ]
  },
  {
   "cell_type": "code",
   "execution_count": 27,
   "metadata": {},
   "outputs": [
    {
     "name": "stdout",
     "output_type": "stream",
     "text": [
      "4.2 s ± 346 ms per loop (mean ± std. dev. of 7 runs, 1 loop each)\n"
     ]
    }
   ],
   "source": [
    "%%timeit\n",
    "box2 = list(map(lambda x: str(x), egg))"
   ]
  },
  {
   "cell_type": "code",
   "execution_count": 28,
   "metadata": {},
   "outputs": [
    {
     "name": "stdout",
     "output_type": "stream",
     "text": [
      "2.9 s ± 69.1 ms per loop (mean ± std. dev. of 7 runs, 1 loop each)\n"
     ]
    }
   ],
   "source": [
    "%%timeit\n",
    "box3 = [str(x) for x in egg]"
   ]
  },
  {
   "cell_type": "markdown",
   "metadata": {},
   "source": [
    "Функция `range()` возвращает итератор, а не список. Посмотрим, что будет, если egg станет явным списком."
   ]
  },
  {
   "cell_type": "code",
   "execution_count": 24,
   "metadata": {},
   "outputs": [
    {
     "name": "stdout",
     "output_type": "stream",
     "text": [
      "Цикл: 4.79 секунд\n",
      "Map(): 4.24 секунд\n",
      "Генератор списка: 3.71 секунд\n"
     ]
    }
   ],
   "source": [
    "import time\n",
    "\n",
    "t1 = time.time()\n",
    "N = 10000000\n",
    "egg = list(range(N))\n",
    "box1 = []\n",
    "for i in egg:\n",
    "    box1.append(str(i))\n",
    "t2 = time.time()\n",
    "print('Цикл: {:.2f} секунд'.format(t2 - t1))\n",
    "# Map()\n",
    "t1 = time.time()\n",
    "box2 = list(map(lambda x: str(x), egg))\n",
    "t2 = time.time()\n",
    "print('Map(): {:.2f} секунд'.format(t2 - t1))\n",
    "\n",
    "t1 = time.time()\n",
    "box3 = [str(x) for x in egg]\n",
    "t2 = time.time()\n",
    "print('Генератор списка: {:.2f} секунд'.format(t2 - t1))"
   ]
  },
  {
   "cell_type": "markdown",
   "metadata": {},
   "source": [
    "<a id='lc'></a>\n",
    "## Генератор списков\n",
    "[Вверх](#up)\n",
    "\n",
    "В python есть целый ряд конструкций, за которые этот язык программирования невозможно не любить. Такие особенности языка, наверное, можно назвать \"питоничными\" (pythonic).\n",
    "\n",
    "Одним из них является так называемый `генератор списков` (**list comprehension**).\n",
    "\n",
    "**Генератор списков** - это заключённая в квадратные скобки (как список) конструкция, которую схематично можно представить так:\n",
    "\n",
    "> box = [`<операции с элементами последовательности>` **цикл for по элементам последовательности** *условия if-else*]\n",
    "\n",
    "Это удобный и альтернативный способ создать список из некоторых значений без явного использования цикла."
   ]
  },
  {
   "cell_type": "markdown",
   "metadata": {},
   "source": [
    "<a id='create_list'></a>\n",
    "### Создание списков с помощью генератора\n",
    "[Вверх](#up)\n",
    "\n",
    "Помимо создания новых списков, удобно использовать генераторы списков для применения некоторого шаблона-функции к каждому элементу уже созданного списка. Часто в этом случае используются т.н. \"анонимные\" функции или лямбда-функции (тоже весьма pythonic way на взгляд автора этих строк)."
   ]
  },
  {
   "cell_type": "code",
   "execution_count": null,
   "metadata": {},
   "outputs": [],
   "source": [
    "# Вариант с явным циклом\n",
    "import random\n",
    "\n",
    "# Генерация списка с псевдослучайными целыми числами длиной N\n",
    "N = 50\n",
    "box = []\n",
    "for i in range(N):\n",
    "    rval = random.randint(-50, 100)\n",
    "    box.append(rval)\n",
    "print(box[::5])"
   ]
  },
  {
   "cell_type": "code",
   "execution_count": null,
   "metadata": {},
   "outputs": [],
   "source": [
    "# Вариант с генератором списка\n",
    "import random\n",
    "\n",
    "# Генерация списка с псевдослучайными целыми числами длиной N\n",
    "N = 50\n",
    "box = [random.randint(-50, 100) for i in range(N)]\n",
    "print(box[::5])"
   ]
  },
  {
   "cell_type": "markdown",
   "metadata": {},
   "source": [
    "Чтобы создать список из квадратов последовательности от 1 до 37 с шагом 3, нужна всего одна строчка"
   ]
  },
  {
   "cell_type": "code",
   "execution_count": null,
   "metadata": {},
   "outputs": [],
   "source": [
    "res = [x**2 for x in range(1, 37, 3)]\n",
    "print(res)"
   ]
  },
  {
   "cell_type": "markdown",
   "metadata": {},
   "source": [
    "<a id='modify_list'></a>\n",
    "### Модификация списков с помощью генератора\n",
    "[Вверх](#up)"
   ]
  },
  {
   "cell_type": "code",
   "execution_count": null,
   "metadata": {},
   "outputs": [],
   "source": [
    "print(box)\n",
    "box = list(range(12))\n",
    "newBox = ['>>{}<<'.format(elem - 4) for elem in box]\n",
    "print(newBox)"
   ]
  },
  {
   "cell_type": "markdown",
   "metadata": {},
   "source": [
    "<a id='lc_if'></a>\n",
    "### Генератор списков с условием\n",
    "[Вверх](#up)\n",
    "\n",
    "В генераторах списков можно использовать условия if-else, они располагаются после описания цикла в теле генератора и отделяются от предыдущих блоков лишь пробелом."
   ]
  },
  {
   "cell_type": "code",
   "execution_count": null,
   "metadata": {},
   "outputs": [],
   "source": [
    "import random\n",
    "\n",
    "# Генерация списка fbox только из чётных и отрицательных элементов списка abox\n",
    "N = 50\n",
    "abox = [random.randint(-50, 100) for i in range(N)]\n",
    "fbox = [elem + 451 for elem in abox if ((elem % 2 == 0) and (elem < 0))]\n",
    "print(fbox[:])"
   ]
  },
  {
   "cell_type": "markdown",
   "metadata": {},
   "source": [
    "<a id='lc_doubled'></a>\n",
    "### Вложенные генераторы списков\n",
    "[Вверх](#up)\n",
    "    \n",
    "Как и вложенные циклы, генераторы списков также могут иметь вложенную структуру. Можно сочетать не только циклы, но и условия."
   ]
  },
  {
   "cell_type": "code",
   "execution_count": 1,
   "metadata": {},
   "outputs": [
    {
     "name": "stdout",
     "output_type": "stream",
     "text": [
      "['ls', 'lp', 'lm', 'ss', 'sp', 'sm', 'ts', 'tp', 'tm']\n"
     ]
    }
   ],
   "source": [
    "#c = [c * 3 for c in 'list' if c != 'i']\n",
    "c = [c + d for c in 'list' if c != 'i' for d in 'spam' if d != 'a']\n",
    "print(c)"
   ]
  },
  {
   "cell_type": "markdown",
   "metadata": {},
   "source": [
    "<a id='ge'></a>\n",
    "### Выражения-генераторы\n",
    "[Вверх](#up)\n",
    "\n",
    "Помимо генераторов списков  в python существуют `выражения-генераторы (Generator Expressions)`, которые представляют собой особые типы данных, итераторы, которые можно использовать для преобразования к типам данных коллекций: кортежам, множествам и словарям).\n",
    "\n",
    "**Выражения-генераторы** отличаются по синтаксису от генераторов списков формой используемых скобок. \n",
    "\n",
    "Используя круглые скобки () вы получите выражение-генератор. \n",
    "\n",
    "Используя фигурные скобки {} можно получить множество или словарь (см. примеры).\n",
    "\n",
    "Выражения-генераторы не являются \"твёрдыми\" объектами, они не хранят данные (в отличие от списков, множеств, словарей или кортежей). Генераторы не поддерживают взятие среза, обращение по индексу и т.д. Они умеют лишь выдавать \"следующие по списку\" значение. Т.е. на каждой итерации генератор выдаёт одно значение, остальные значения (до слеюущей итерации) в генераторах недоступны.\n",
    "\n",
    "Попробуем использовать фантазию и представить следующее (надеюсь, что это прояснит понимание):\n",
    "\n",
    ">Пусть списки создаёт гномик, а генераторы - джин.\n",
    "\n",
    ">Когда мы просим создать список длины N, гномик должен физически создать N листков с номерами от 0 до N-1, на которых содержится какая-то информация.\n",
    "\n",
    ">В тоже время, когда мы просим создать генератор длины N, то джин готовит не бумажки, а меловую доску. Как мы помним, сам генератор данные не хранит, они появятся, когда это потребуется при итерациях или переборе. Когда будет нужно, джин нарисует на доске цифру ноль, нанесёт на неё информацию, покажет её и будет ждать дальше. Когда будет нужно, он сторёт ноль, нарисует один и нанесёт на доску информацию. Ну и так далее. Т.е. под любое значение N у джина всегда одна доска, а не N листков в случае элементов списка, которые готовит гномик.\n",
    "\n",
    ">Очевидно, что для больших N, это сильно экономит память. Другое дело, что генераторы можно лишь перебирать, индексацию они не поддерживают (джин умеют рисовать лишь один элемент на доске). Но в каких-то задачах это может серьёзно помочь.`\n",
    "\n",
    "P.S. Спасибо за объяснение Григорию Петрову и [Python Junior Podcast](https://podcast.python.ru)"
   ]
  },
  {
   "cell_type": "code",
   "execution_count": 30,
   "metadata": {},
   "outputs": [
    {
     "name": "stdout",
     "output_type": "stream",
     "text": [
      "{('a', 1): 0, ('b', 1): 0, ('a', 2): 0, ('b', 2): 0, ('a', 3): 0, ('b', 3): 0}\n"
     ]
    }
   ],
   "source": [
    "# Генерация словаря с помощью генератора\n",
    "#Пример для словаря из https://habr.com/post/320288/#7\n",
    "\n",
    "rows = 1, 2, 3, -4, -5\n",
    "cols = 'a', 'b', 'abc'\n",
    "# Для наглядности разнесем на несколько строк\n",
    "my_dict = {\n",
    "    (col, row): 0  # каждый элемент состоит из ключа-кортежа и нулевого знаечния\n",
    "    for row in rows if row > 0   # Только положительные значения\n",
    "    for col in cols if len(col) == 1  # Только односимвольные\n",
    "    }\n",
    "print(my_dict)  # {('a', 1): 0, ('b', 2): 0, ('b', 3): 0, ('b', 1): 0, ('a', 3): 0, ('a', 2): 0}"
   ]
  },
  {
   "cell_type": "code",
   "execution_count": 37,
   "metadata": {},
   "outputs": [
    {
     "name": "stdout",
     "output_type": "stream",
     "text": [
      "<class 'generator'>\n",
      "{-2: 4, -1: 1, 0: 0, 1: 1, 2: 4, 3: 9, 4: 16, 5: 25}\n",
      "<class 'dict'>\n"
     ]
    }
   ],
   "source": [
    "# Генерация словаря с помощью генератора\n",
    "#Пример для словаря из https://habr.com/post/320288/#7\n",
    "\n",
    "list_a = [-2, -1, 0, 1, 2, 3, 4, 5]\n",
    "\n",
    "gen_a = ((x, x ** 2) for x in list_a)\n",
    "print(type(gen_a))\n",
    "dict_a = dict(gen_a)\n",
    "print(dict_a)\n",
    "print(type(dict_a))\n"
   ]
  },
  {
   "cell_type": "code",
   "execution_count": 39,
   "metadata": {},
   "outputs": [
    {
     "name": "stdout",
     "output_type": "stream",
     "text": [
      "{0, 1, 2, 3, 4, 5, -1, -2}\n",
      "<class 'set'>\n"
     ]
    }
   ],
   "source": [
    "# Генерация множества с помощью генератора\n",
    "#Пример для словаря из https://habr.com/post/320288/#7\n",
    "\n",
    "list_a = [-2, -1, 0, 1, 2, 3, 4, 5]\n",
    "my_set= {i for i in list_a}\n",
    "print(my_set)   # порядок элементов в множестве неважен, это неупорядоченная коллекция \n",
    "print(type(my_set))"
   ]
  },
  {
   "cell_type": "code",
   "execution_count": 42,
   "metadata": {},
   "outputs": [
    {
     "name": "stdout",
     "output_type": "stream",
     "text": [
      "<generator object <genexpr> at 0x000002BC07BE0F48>\n",
      "<class 'generator'>\n",
      "<class 'tuple'>\n"
     ]
    }
   ],
   "source": [
    "# Генерация кортежа с помощью генератора\n",
    "#Пример для словаря из https://habr.com/post/320288/#7\n",
    "\n",
    "list_a = [-2, -1, 0, 1, 2, 3, 4, 5]\n",
    "my_tup = (i for i in list_a)   # это не кортеж, а генератор!\n",
    "print(my_tup)   # порядок элементов в множестве неважен, это неупорядоченная коллекция \n",
    "print(type(my_tup))   # это не кортеж, а генератор!\n",
    "\n",
    "real_tup = tuple(my_tup)\n",
    "print(type(real_tup))"
   ]
  },
  {
   "cell_type": "markdown",
   "metadata": {},
   "source": [
    "<a id='ffunc'></a>\n",
    "## Функции, похожие на циклы\n",
    "[Вверх](#up)\n",
    "\n",
    "В python есть средства функционального программирования (третья общепризнанная парадигма программирования после процедурной и объектно-ориентированной), которые во многом похожи на циклы. Они также позволяют повторять операции и некоторый код, однако делают это не используя циклы. \n",
    "\n",
    "Среди таких инструментов стоит рассмотреть следующие функции:\n",
    "\n",
    "+ **map()**;\n",
    "+ **filter()**.\n",
    "\n",
    "Такие функции также являются альтернативой циклам в python, когда необходимо преобразовывать, фильтровать данные и рекурсивно применять какие-то операции.\n",
    "\n",
    "<a id='map'></a>\n",
    "### Map()\n",
    "[Вверх](#up)\n",
    "\n",
    "**Map()** - это встроенная функция, которая принимает два аргумента:\n",
    "\n",
    "1. функцию (имя функции без круглых скобок);\n",
    "2. последовательность, к которой будет применяться функция.\n",
    "\n",
    "Map() позволяет применить к каждому элементу последовательности некоторую функцию. Таким образом, это функциональный способ замнить цикл. \n",
    "\n",
    "Следует помнить, что map() возвращает `тип данных \"map\"`, а не список или кортеж. Для получения твёрдых данных, необходимо явное преобразование типа с помощью функций list(), tuple() и т.д."
   ]
  },
  {
   "cell_type": "code",
   "execution_count": 43,
   "metadata": {},
   "outputs": [
    {
     "name": "stdout",
     "output_type": "stream",
     "text": [
      "0 <class 'int'>\n",
      "<class 'map'>\n",
      "0 <class 'str'>\n"
     ]
    }
   ],
   "source": [
    "# Преобразовать числа к строковому типу данных\n",
    "\n",
    "box = range(24)\n",
    "print(box[0], type(box[0]))\n",
    "\n",
    "mapped = map(str, box)   # mapped - это не список!!!\n",
    "print(type(mapped))   # mapped - это особый тип данных \"map\"\n",
    "\n",
    "arr = list(mapped)\n",
    "print(arr[0], type(arr[0]))"
   ]
  },
  {
   "cell_type": "code",
   "execution_count": null,
   "metadata": {},
   "outputs": [],
   "source": [
    "# Длина списков, которые являются элементами другого списка box\n",
    "import random\n",
    "\n",
    "M = 10\n",
    "N = 6\n",
    "box = [list(range(N))*random.randint(1, 10) for i in range(M)]\n",
    "\n",
    "view = list(map(len, box))\n",
    "print(view)"
   ]
  },
  {
   "cell_type": "markdown",
   "metadata": {},
   "source": [
    "<a id='filter'></a>\n",
    "### Filter()\n",
    "[Вверх](#up)\n",
    "\n",
    "**Filter()** - это встроенная функция, которая позволяет фильтовать значения. Синтаксис у неё такой же, как у **map()**, она принимает два аргумента:\n",
    "\n",
    "1. функцию (имя функции без круглых скобок);\n",
    "2. последовательность, к которой будет применяться функция.\n",
    "\n",
    "Filter() позволяет фильтровать значения по условию-функции: результат функции проверяется логически и если это Истина, то добавляется в пул.\n",
    "\n",
    "Следует помнить, что filter(), как и map(), возвращает `тип данных \"filter\"`, а не список или кортеж. Для получения твёрдых данных, необходимо явное преобразование типа с помощью функций list(), tuple() и т.д."
   ]
  },
  {
   "cell_type": "code",
   "execution_count": 45,
   "metadata": {},
   "outputs": [
    {
     "name": "stdout",
     "output_type": "stream",
     "text": [
      "<class 'filter'>\n",
      "['мак', 'мак', 'мак', 'мак', 'мак']\n"
     ]
    }
   ],
   "source": [
    "mixed = ['мак', 'просо', 'мак', 'бобы', 'мак', 'просо', 'мак', 'просо', 'просо', 'просо', 'мак']\n",
    "\n",
    "# В качестве функции здесь использована не готовая, а созданная на лету анонимная функция\n",
    "ff = filter(lambda x: x == 'мак', mixed)\n",
    "print(type(ff))\n",
    "\n",
    "zolushka = list(ff)\n",
    "print(zolushka)"
   ]
  },
  {
   "cell_type": "code",
   "execution_count": null,
   "metadata": {},
   "outputs": [],
   "source": [
    "# Пример фильтрации положительных данных\n",
    "N = 365\n",
    "temp = [random.randint(-10, 41) for i in range(N)]\n",
    "print(temp)\n",
    "\n",
    "# Если y < 0, то это истина и отбирается фильтром\n",
    "ff = filter(lambda y: y < 0, temp)\n",
    "\n",
    "pos = list(ff)\n",
    "print(pos)"
   ]
  },
  {
   "cell_type": "code",
   "execution_count": null,
   "metadata": {},
   "outputs": [],
   "source": [
    "# Пример фильтрации отсутствующих данных\n",
    "\n",
    "print(x)\n",
    "x = list(range(15))\n",
    "x[2] = None\n",
    "x[-2] = None\n",
    "\n",
    "ff = filter(lambda y: y, x)\n",
    "\n",
    "withoutNone = list(ff)\n",
    "print(withoutNone)"
   ]
  },
  {
   "cell_type": "code",
   "execution_count": null,
   "metadata": {},
   "outputs": [],
   "source": []
  }
 ],
 "metadata": {
  "kernelspec": {
   "display_name": "Python 3",
   "language": "python",
   "name": "python3"
  },
  "language_info": {
   "codemirror_mode": {
    "name": "ipython",
    "version": 3
   },
   "file_extension": ".py",
   "mimetype": "text/x-python",
   "name": "python",
   "nbconvert_exporter": "python",
   "pygments_lexer": "ipython3",
   "version": "3.7.0"
  }
 },
 "nbformat": 4,
 "nbformat_minor": 1
}
