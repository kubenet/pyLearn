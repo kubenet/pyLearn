{
 "cells": [
  {
   "cell_type": "markdown",
   "metadata": {},
   "source": [
    "# P419 10 NumPy. Массивы I\n",
    "\n",
    "Автор: Шабанов Павел Александрович\n",
    "\n",
    "Email: pa.shabanov@gmail.com\n",
    "\n",
    "URL:\n",
    "\n",
    "+ [PythonWorld: NumPy](https://pythonworld.ru/numpy)\n",
    "\n",
    "+ [ХАБР: NumPy, пособие для новичков](https://habr.com/post/121031/)\n",
    "\n",
    "Дата последнего обновления: **15.11.2018**\n",
    "\n",
    "<a id='up'></a>\n",
    "### План\n",
    "\n",
    "1. **[Модуль numpy](#numpy)**\n",
    "    \n",
    "2. **[Массивы](#arrays)**\n",
    "    + [создание массивов](#create);\n",
    "    + [numpy.ndarrays](#ndarrays);\n",
    "    + [reshape - изменения формы массива](#reshape);\n",
    "    + [cоздание \"плоского\" массива из N-мерного](#flatten)\n",
    "\n",
    "3. **[Операции с массивами](#array_opers)**\n",
    "    + [индексация элементов массивов](#index)\n",
    "    + [cрезы массивов](#slice);\n",
    "    + [векторные срезы](#fancy_slice);\n",
    "    + [арифметические операции с массивами](#oper);\n",
    "    + [логические операции с массивами](#logic);\n",
    "\n",
    "4. **[Запись числовых массивов](#wrarray)**\n",
    "    + [numpy.save](#save);\n",
    "    + [numpy.savetxt](#savetxt);\n",
    "    + [numpy.savez](#savez)\n",
    "    + [numpy.savez_compressed](#savez_compressed)\n",
    "    \n",
    "5. **[Чтение числовых массивов](#rdarray)**\n",
    "    + [numpy.load](#load);    \n",
    "    + [numpy.genfromtxt](#genfromtxt)\n",
    "    \n",
    "### Цель: \n",
    "\n",
    "+ изучить массивы - особые типы данных в python из модуля numpy, которые особенно эффективны для работы с числовыми данными"
   ]
  },
  {
   "cell_type": "markdown",
   "metadata": {},
   "source": [
    "<a id='numpy'></a>\n",
    "## Модуль numpy\n",
    "[Вверх](#up)\n",
    "\n",
    "[NumPy](http://www.scipy.org/scipylib/download.html) — это расширение языка Python, добавляющее поддержку больших многомерных массивов и матриц, вместе с [большой библиотекой высокоуровневых математических функций](http://pythonworld.ru/numpy) для операций с этими массивами.\n",
    "\n",
    "Краткий список возможностей numpy по категориям:\n",
    "\n",
    "+ Array creation routines\n",
    "+ Array manipulation routines\n",
    "+ Discrete Fourier Transform\n",
    "+ Indexing routines\n",
    "+ Input and output\n",
    "+ Linear algebra\n",
    "+ Masked array operations\n",
    "+ Mathematical functions\n",
    "+ Polynomials\n",
    "+ Random sampling\n",
    "+ Sorting, searching, and counting\n",
    "+ Statistics\n",
    "\n",
    "Стандартным способом импортирования модуля numpy является:\n",
    "\n",
    "> **import numpy as np**\n",
    "\n",
    "Здесь использован импорт с сокращением вместо полного имени модуля `numpy` до короткого `np`. После этого доступ к функциям осуществляется через аббревиатуру."
   ]
  },
  {
   "cell_type": "markdown",
   "metadata": {},
   "source": [
    "<a id='arrays'></a>\n",
    "## Массивы\n",
    "[Вверх](#up)\n",
    "\n",
    "Центральным объектом, вокруг которого строится большинство функций библиотеки `numpy` - это особый типа данных, называющийся `numpy.ndarrays`, т.е. N-мерный массив или просто массив.\n",
    "\n",
    "**Массивы - упорядоченные последовательности ОДНОТИПНЫХ данных.**\n",
    "\n",
    "Массивы характеризуются:\n",
    "\n",
    "1. **типом элементов массива (dtype)**;\n",
    "\n",
    "2. **формой (shape)**;\n",
    "\n",
    "3. **числом осей/измерений (axis / dimensions, ndim)**;\n",
    "\n",
    "4. **размером (size)**.\n",
    "\n",
    "**Тип данных** - это тип данных элементов массива. Т.к. массив - это упорядоченная совокупность однотипных данных по определению, то тип данных един для всех элементов массива. Тип данных задаётся атрибутов dtype и может быть вызван от имени массива через одноимённый метод **.dtype**. Чаще всего `dtype` отражает числовые типы данных, но необязательно (например, логически массивы, состояющие из True/False).\n",
    "\n",
    "**Форма** - это кортеж, состоящий из целых чисел, где каждое значение определяет число элементов по выбранной оси или измерению в массиве. Форму массива можно узнать через метод **arr.shape** или через функцию **np.shape(arr)**. \n",
    "\n",
    "**Число измерений (axis)** - это число осей, ранг, размерность массива. Длина кортежа и число осей должны совпадать. Оси нумеруются также с нуля.\n",
    "\n",
    "**Размер** - это общее число элементов, содержащееся в массиве. Размер равен произведению длин всех осей. Так для массива с формой (3, 4, 2) размер будет равен 24.\n",
    "\n",
    "Форма может состоять из одного числа. Тогда число осей для такого массива будет равно единице. Такие массивы часто называются **одномерными массивами** или **векторами**.\n",
    "\n",
    "В случае, когда число осей **ndim**(метод массива) равно двум, тогда он называется двумерным или матрицей (для чисел). В случае более высоких порядков (3 и более) говорят о многомерных массивах. Т.о. число осей определяет N-мерность массива.\n",
    "\n",
    "![caption](files/pictures/anatomyarrayrus.png \"Рисунок 1 Шпаргалка по массивам в numpy\")"
   ]
  },
  {
   "cell_type": "code",
   "execution_count": null,
   "metadata": {},
   "outputs": [],
   "source": [
    "import numpy as np\n",
    "\n",
    "x = np.arange(12)   # похоже на list(range(12))\n",
    "print(type(x))\n",
    "\n",
    "box = [x.size, x.shape, x.ndim, x.dtype]\n",
    "print('Size={} Shape={} Ndim={} Dtype={}'.format(*box))"
   ]
  },
  {
   "cell_type": "markdown",
   "metadata": {},
   "source": [
    "<a id='create'></a>\n",
    "### Cоздание массивов\n",
    "[Вверх](#up)\n",
    "\n",
    "В **numpy** есть функции, похожие на функции стандартной библиотеки, для создания массивов заданного наполнения и формы.\n",
    "\n",
    "+ **numpy.linspace(start, stop, num=50, endpoint=True, retstep=False, dtype=None)** - позволяет получить массив, состоящий из равномерно распределённых в заданом интервале значений. Опционально верхняя граница интервала может быть исключена из рассмотрения (параметр endpoint=False);\n",
    "\n",
    "+ **numpy.arange([start,] stop[, step,], dtype = None)** - функция, похожая на range(). Позволяет получать последовательность как целых, так и действительных чисел, используя конструктор \"начальное значение, конечное значение, шаг\" ;\n",
    "\n",
    "+ **numpy.random.random(shape)** - возвращает массив заданной формы, состоящий из псевдослучайных чисел в интервале [0, 1) не включая единицу;\n",
    "\n",
    "+ **numpy.random.randint(shape)** - возвращает массив заданной формы, состоящий из псевдослучайных чисел в интервале [0, 1) не включая единицу;\n",
    "\n",
    "+ **numpy.zeros(shape)** - возвращает массив заданной формы, состоящий из нулей (0);\n",
    "\n",
    "+ **numpy.ones(shape)** - возвращает массив заданной формы, состоящий из единиц (1);\n",
    "\n",
    "+ **numpy.eye(L)** - возвращает единичную (очевидно, квадратную) матрицу заданной длины L;\n",
    "\n",
    "+ **numpy.full(shape, const)** - возвращает массив заданной формы с постоянным значением.\n"
   ]
  },
  {
   "cell_type": "code",
   "execution_count": null,
   "metadata": {},
   "outputs": [],
   "source": [
    "# Некоторые функции numpy для создания массивов\n",
    "\n",
    "import numpy as np\n",
    "\n",
    "# linspace()\n",
    "x1 = np.linspace(0, 10, 50)\n",
    "x2 = np.linspace(0, 10, 50, endpoint=False)\n",
    "\n",
    "# arange()\n",
    "x1 = np.arange(50, dtype='float')\n",
    "x2 = np.arange(-10.5, 30.75, 2.7)\n",
    "\n",
    "# random.random()\n",
    "x1 = np.random.random(50)\n",
    "x2 = np.random.random((10, 7, 2))  # можно сразу задать форму массива\n",
    "\n",
    "# zeros()\n",
    "x1 = np.zeros(50, dtype=int)\n",
    "x2 = np.zeros((10, 4, 2, 4))   # можно сразу задать форму массива\n",
    "\n",
    "# ones()\n",
    "x1 = np.ones(50)\n",
    "x2 = np.ones((10, 24), dtype=int)\n",
    "\n",
    "# full() & eye()\n",
    "x1 = np.full((14, 7), -99)\n",
    "x1 = np.eye(10)"
   ]
  },
  {
   "cell_type": "markdown",
   "metadata": {},
   "source": [
    "<a id='ndarrays'></a>\n",
    "### numpy.ndarrays\n",
    "[Вверх](#up)\n",
    "\n",
    "Помимо этих функций, есть функция `numpy.array(lst)`, которая позволяет явно преобразовать однотипную последовательность к типу массивов. Это могут быть списки, кортежи, множества, например. \n",
    "\n",
    "+ **numpy.array(lst)**"
   ]
  },
  {
   "cell_type": "code",
   "execution_count": null,
   "metadata": {},
   "outputs": [],
   "source": [
    "import numpy as np\n",
    "\n",
    "x = list(range(12))\n",
    "xa = np.array(x)\n",
    "\n",
    "box = [xa.size, xa.shape, xa.ndim, xa.dtype]\n",
    "print('Size={} Shape={} Ndim={} Dtype={}'.format(*box))"
   ]
  },
  {
   "cell_type": "code",
   "execution_count": null,
   "metadata": {},
   "outputs": [],
   "source": [
    "import numpy as np\n",
    "\n",
    "y = [[1, 2, 4], [2, 4, 0], [1, 1, -1]]\n",
    "ya = np.array(y)\n",
    "\n",
    "box = [ya.size, ya.shape, ya.ndim, ya.dtype]\n",
    "print('Size={} Shape={} Ndim={} Dtype={}'.format(*box))"
   ]
  },
  {
   "cell_type": "markdown",
   "metadata": {},
   "source": [
    "<a id='reshape'></a>\n",
    "### reshape - изменения формы массива\n",
    "[Вверх](#up)\n",
    "\n",
    "Изменить форму массива позволяет метод массивов **.reshape()** или функция модуля **numpy.reshape()**. \n",
    "\n",
    "Правило изменения формы: существующую ось можно разбить на несколько новых только нацело. То есть ось длиной 12 можно разбить на:\n",
    "\n",
    "1. (1,12) - тривиальное преобразование (вектор-столбец)\n",
    "2. (2,6)\n",
    "3. (3,4)\n",
    "4. (4,3)\n",
    "5. (6,2)\n",
    "6. (12,1) - аналогичное тривиальное преобразование (вектор-строка)"
   ]
  },
  {
   "cell_type": "code",
   "execution_count": null,
   "metadata": {},
   "outputs": [],
   "source": [
    "# Numpy\n",
    "\n",
    "import random\n",
    "import numpy as np\n",
    "\n",
    "shapes = [(1,12), (2,6), (3,4), (4,3), (6,2), (12,1)]\n",
    "\n",
    "a = np.arange(12)   # аналог стандартному range\n",
    "\n",
    "print('Origin Size={} Shape={} Ndim={}'.format(a.size, a.shape, a.ndim))\n",
    "\n",
    "for i, sh in enumerate(shapes):\n",
    "\n",
    "    if i % 2 == 0:\n",
    "        y = a.reshape(sh)\n",
    "    else:\n",
    "        y = np.reshape(a, sh)\n",
    "        \n",
    "    print(i)\n",
    "    print('Size={} Shape={} Ndim={}'.format(y.size, y.shape, y.ndim))\n",
    "    print(y)\n"
   ]
  },
  {
   "cell_type": "markdown",
   "metadata": {},
   "source": [
    "Очевидно, что (2, 6) и (6, 2) - это разные формы. \n",
    "\n",
    "Т.о. каждую ось можно разбить на несколько других. При этом следует помнить, что преобразуя одномерный ряд в двумерный массив (или вектор в матрицу), указывайте число \"столбцов\" вторым элементом, а количество \"строк\" - первым."
   ]
  },
  {
   "cell_type": "code",
   "execution_count": null,
   "metadata": {},
   "outputs": [],
   "source": [
    "# Более сложные примеры reshape\n",
    "import numpy as np\n",
    "\n",
    "N = 24\n",
    "shape1 = (4, 3, 2)   # кортеж\n",
    "a = np.arange(N).reshape(shape1)   # сразу меняем форму массиву длины N\n",
    "print(a.shape)\n",
    "print(a)"
   ]
  },
  {
   "cell_type": "markdown",
   "metadata": {},
   "source": [
    "<a id='flatten'></a>\n",
    "### Создание \"плоского\" массива из N-мерного\n",
    "[Вверх](#up)\n",
    "\n",
    "Для \"выпрямления\" N-мерного массива в вектор есть несколько способов:\n",
    "\n",
    "+ метод массивов **flatten()**\n",
    "\n",
    "+ метод массивов **ravel()** или функция **numpy.ravel()**"
   ]
  },
  {
   "cell_type": "code",
   "execution_count": null,
   "metadata": {},
   "outputs": [],
   "source": [
    "import numpy as np\n",
    "\n",
    "sh = (4, 3, 5)   # кортеж\n",
    "a = np.random.randint(-50, 50, sh)  # сразу меняем форму массиву длины N\n",
    "print('Origin a with shape {}'.format(a.shape))\n",
    "print(a)\n",
    "\n",
    "# \"Выравнивание\" N-мерного массива в одномерный\n",
    "fa1 = a.flatten()\n",
    "fa3 = a.ravel()\n",
    "\n",
    "for i, fa in enumerate([fa1, fa3]):\n",
    "    print(i, 'Flatten array', fa)"
   ]
  },
  {
   "cell_type": "markdown",
   "metadata": {},
   "source": [
    "Не забываем, что массив - ИЗМЕНЯЕМЫЙ (mutable) тип данных!\n",
    "\n",
    "Разница методов **ravel()** (в т.ч. и **np.ravel()**) и **flatten()** состоит в том, что **flatten()** возвращает глубокую КОПИЮ массива в плоском виде, а ravel остаётся связанным с исходным массивом. Если исходный массив изменится, изменится и переменная, полученная через ravel (и наоборот, при изменении вектора, полученного с помощью ravel, изменится и исходный массив). "
   ]
  },
  {
   "cell_type": "code",
   "execution_count": null,
   "metadata": {},
   "outputs": [],
   "source": [
    "# Пример разницы между методами ravel() и flatten()\n",
    "\n",
    "import numpy as np\n",
    "\n",
    "sh = (4, 3, 5)   # кортеж\n",
    "a = np.random.randint(-50, 50, sh)  # сразу меняем форму массиву длины N\n",
    "\n",
    "# \"Выравнивание\" N-мерного массива в одномерный\n",
    "fa1 = a.flatten()\n",
    "fa3 = a.ravel()\n",
    "\n",
    "fa1[-1] = 777\n",
    "print('Nothing wrong with a', a)\n",
    "\n",
    "fa3[-1] = 777\n",
    "print('Oups ... sorry a', a)\n",
    "\n",
    "a[3, 1, 3] = -10000\n",
    "print(fa1 - fa3)"
   ]
  },
  {
   "cell_type": "markdown",
   "metadata": {},
   "source": [
    "<a id='array_opers'></a>\n",
    "## Операции с массивами\n",
    "[Вверх](#up)\n",
    "\n",
    "В отличие от списков, массивы по-другому ведут себя даже в самых базовых операциях (сложение, умножение).\n",
    "\n",
    "Так умножение массива на число приведёт к тому, что каждый элемент массива будет умножен на это число. При этом исходный массив не изменяется.\n",
    "\n",
    "Также от массива можно брать не только **срезы**, но и **векторные срезы** (они же *fancy slices*), т.е. непоследовательные наборы индексов по соответствующим осям. Такие наборы должны быть оформлены как списки или кортежи."
   ]
  },
  {
   "cell_type": "markdown",
   "metadata": {},
   "source": [
    "<a id='slice'></a>\n",
    "### Индексация элементов массивов\n",
    "[Вверх](#up)\n",
    "\n",
    "Одна из главных особенностей массивов, позволяющая им эффективно работать с числовыми данными, является гибкая поддержка индексации, т.е. возможности обращаться к элементам и группам элементов (строки, столбцы, срезы и т.д.) массива с помощью набора целых чисел-индексов.\n",
    "\n",
    "Синтаксис индексации элементов массива почти не отличается от синтаксиса индексации списков: целочисленные значения задаются в квадратных скобках от имени переменной массива.\n",
    "\n"
   ]
  },
  {
   "cell_type": "code",
   "execution_count": null,
   "metadata": {},
   "outputs": [],
   "source": [
    "import numpy as np\n",
    "\n",
    "x = np.arange(12)\n",
    "print(x[0], x[-1], x[11])"
   ]
  },
  {
   "cell_type": "markdown",
   "metadata": {},
   "source": [
    "Как и в случае многомерных списков (а массивы можно рассматривать как одну из реализаций многомерных списков с равным количеством однотипных элементов в каждом вложенном уровне), для обращения к элементу N-мерного массива, нужно указать N индексов в квадратных скобках. Первая цифра будет соответствовать нулевой оси (axis 0), вторая - первой оси (axis 1) и т.д.\n",
    "\n",
    "В случае N-мерного массива обратиться к элементам можно аж тремя способами:\n",
    "\n",
    "+ **b[2, 3]** - обращение через оси массива (запятая тут отделяет оси);\n",
    "\n",
    "+ **b[(2,3)]** - обращение через кортеж;\n",
    "\n",
    "+ **b[2][3]** - синтаксис вложенных списков;"
   ]
  },
  {
   "cell_type": "code",
   "execution_count": null,
   "metadata": {},
   "outputs": [],
   "source": [
    "import numpy as np\n",
    "\n",
    "sh = (4, 8, 6)   # кортеж\n",
    "a = np.random.randint(0, 200, sh)  # сразу меняем форму массиву длины N\n",
    "\n",
    "b1 = a[2, 4, 5]\n",
    "b2 = a[(2, 4, 5)]\n",
    "b3 = a[2][4][5]   # синтаксис вложенных списков\n",
    "\n",
    "for b in (b1, b2, b3):\n",
    "    print(b)"
   ]
  },
  {
   "cell_type": "markdown",
   "metadata": {},
   "source": [
    "<a id='slice'></a>\n",
    "### Срезы массивов\n",
    "[Вверх](#up)\n",
    "\n",
    "Срезы в массивах работают также как и у списков, т.е. элемент второго индекса (правый) не будет включён в срез."
   ]
  },
  {
   "cell_type": "code",
   "execution_count": null,
   "metadata": {},
   "outputs": [],
   "source": [
    "import numpy as np\n",
    "\n",
    "a = np.arange(1, 13)\n",
    "sa = a[3:7]\n",
    "print('Элементы с индексами 3 4 5 6 ', sa)"
   ]
  },
  {
   "cell_type": "markdown",
   "metadata": {},
   "source": [
    "В случае N-мерного массива срезы можно использовать от каждой оси массива отдельно! Так в случае двумерного массива чтобы взять срез можно использовать следующие способы:\n",
    "    \n",
    "1. **b[slice0, slice1]**   # Рекомендуется использовать именно такой способ\n",
    "\n",
    "2. **b[slice0][slice1]** \n",
    "\n",
    "> Настоятельно рекомендуется использовать только **первый способ a[i:j, i1:j1]** для взятия срезов. Такой синтаксис явно даёт понять, что объект b является массивом, а не списком!"
   ]
  },
  {
   "cell_type": "code",
   "execution_count": null,
   "metadata": {},
   "outputs": [],
   "source": [
    "import numpy as np\n",
    "\n",
    "a = np.arange(1, 25).reshape((6, 4))\n",
    "b1 = a[:4, :] \n",
    "b3 = a[:4][:]\n",
    "\n",
    "print(b1 - b3)"
   ]
  },
  {
   "cell_type": "markdown",
   "metadata": {},
   "source": [
    "Не забываем, что срезы даже вдоль всего одной оси массива можно сформировать очень по-разному. И такое многообразие вариантов может быть применено к любой из осей массива! Это позволяет очень гибко выбирать данные из массивов (по сравнению с вложенными списками, где размер списков мог быть разным вдоль даже одного уровня вложенности)!"
   ]
  },
  {
   "cell_type": "code",
   "execution_count": null,
   "metadata": {},
   "outputs": [],
   "source": [
    "# Много срезов\n",
    "\n",
    "import numpy as np\n",
    "\n",
    "box = list(range(1, 13))\n",
    "arr = np.array(box)\n",
    "\n",
    "pool = []\n",
    "for j, seq in enumerate([box, arr]):\n",
    "    pool.append(seq[3:])  # срез\n",
    "    pool.append(seq[:5])  # и это срез\n",
    "    pool.append(seq[2:8])  # тоже срез\n",
    "    pool.append(seq[2:8:2])  # опять срез\n",
    "    pool.append(seq[-8:-1])  # кажется это срез\n",
    "    pool.append(seq[1::3])  # ну и это срез\n",
    "    pool.append(seq[-2:-10:-1])  # отрицательная индексация - тоже срез\n",
    "    pool.append(seq[-1:-12:-2])  # и снова срез\n",
    "    pool.append(seq[-8:-2:1])  # наверняка это тоже срез!\n",
    "    \n",
    "for i, s in enumerate(pool):\n",
    "    if i == 9:\n",
    "        print('')\n",
    "    print(i, s)"
   ]
  },
  {
   "cell_type": "markdown",
   "metadata": {},
   "source": [
    "<a id='fancy_slice'></a>\n",
    "### Векторные срезы\n",
    "[Вверх](#up)\n",
    "\n",
    "Помимо обычных срезов, которые представляют собой последовательности с регулярным шагом (единичным или другим), массивы (**в отличие от списков!**) поддерживают ещё и т.н. `векторные срезы`. Иногда такой срез называют `fancy slicing`.\n",
    "\n",
    "Поддержка массивами векторных срезов позволяет: \n",
    "\n",
    "+ гибко выбирать данные используя логические условия (arr[arr > 5]);\n",
    "\n",
    "+ использовать списки/массивы целых чисел (с нерегулярным шагом, с повторами и в несортированном виде) при взятии срезов от массивов."
   ]
  },
  {
   "cell_type": "code",
   "execution_count": null,
   "metadata": {},
   "outputs": [],
   "source": [
    "import numpy as np\n",
    "\n",
    "box = list(range(1, 13))\n",
    "arr = np.array(box)\n",
    "\n",
    "ii = [0, 4, 5, 7]\n",
    "jj = np.array([0, 7, 4, 0])\n",
    "\n",
    "a1 = arr[arr > 5]\n",
    "a2 = arr[ii]\n",
    "a3 = arr[jj]\n",
    "\n",
    "for a in [a1, a2, a3]:\n",
    "    print(a)"
   ]
  },
  {
   "cell_type": "markdown",
   "metadata": {},
   "source": [
    "Для списков вектоные срезы не работают!"
   ]
  },
  {
   "cell_type": "code",
   "execution_count": null,
   "metadata": {},
   "outputs": [],
   "source": [
    "import numpy as np\n",
    "\n",
    "box = list(range(1, 13))\n",
    "\n",
    "ii = [0, 4, 5, 7]\n",
    "\n",
    "try:\n",
    "    box[ii]\n",
    "except:\n",
    "    print('Списки не поддерживают векторные срезы!')\n",
    "    \n",
    "try:\n",
    "    box[box > 5]\n",
    "except:\n",
    "    print('Списки не поддерживают векторные срезы!')"
   ]
  },
  {
   "cell_type": "markdown",
   "metadata": {},
   "source": [
    "<a id='oper'></a>\n",
    "### Арифметические операции с массивами\n",
    "[Вверх](#up)\n",
    "\n",
    "(Используя перегрузку операторов) массивы numpy при арифметических операциях ведут себя не так, как списки.\n",
    "\n",
    "При арифметических операциях массива с числом, результат будет применён к каждому элементу массива: например, при умножении массива на действительное числ0, каждый элемент массива будет умножен на это число. При этом исходный массив не изменяется."
   ]
  },
  {
   "cell_type": "code",
   "execution_count": null,
   "metadata": {},
   "outputs": [],
   "source": [
    "import numpy as np\n",
    "\n",
    "brr = np.arange(12)\n",
    "\n",
    "b0 = brr + 1\n",
    "b1 = brr - 2.5\n",
    "b2 = brr * 2\n",
    "b3 = brr / 2*np.pi\n",
    "b4 = brr ** 3\n",
    "b5 = brr % 2\n",
    "b6 = brr // 3\n",
    "\n",
    "for i, b in enumerate([b0, b1, b2, b3, b4, b5, b6]):\n",
    "    print(i, b)"
   ]
  },
  {
   "cell_type": "markdown",
   "metadata": {},
   "source": [
    "В случае взаимодействия массивов друг с другом, операции также будут поэлементные, но такая операция может быть выполнена только для массивов одинаковой формы."
   ]
  },
  {
   "cell_type": "code",
   "execution_count": null,
   "metadata": {},
   "outputs": [],
   "source": [
    "import numpy as np\n",
    "\n",
    "N = 12\n",
    "arr = np.arange(N)\n",
    "brr = np.array([-1 if (s % 2 == 0) else 1 for s in range(N)])\n",
    "\n",
    "print('    arr', arr)\n",
    "print('    brr', brr)\n",
    "               \n",
    "res = arr*brr\n",
    "print('arr*brr', res)"
   ]
  },
  {
   "cell_type": "markdown",
   "metadata": {},
   "source": [
    "В случае, когда нужно применить вектор с какой-то операцией к каким-то частям массива (вектор к строкам или вектор к столбцам), также следует привести вектор к форме массива и применить операцию.\n",
    "\n",
    "Например, необходимо провести нормализацию двумерного массива, т.е. вычесть среднее j-го столбца из каждого значения j-го столбца, а затем поделить каждый элемент j-го столбца на стандартное отклонение j-го столбца. Такая задача сводится к расчёту средней оценки и стандартного отклонения для каждого столбца, расширении полуенных векторов на двумерного массива и последовательного вычитания и деления двух массивов. "
   ]
  },
  {
   "cell_type": "code",
   "execution_count": null,
   "metadata": {},
   "outputs": [],
   "source": [
    "import numpy as np\n",
    "\n",
    "def z_transfer0(x):\n",
    "    '''\n",
    "    Fisher's z-transformation. Normalization using axis=0 (N)\n",
    "    \n",
    "    ### INPUT\n",
    "    x - 2D array (N, M)\n",
    "    \n",
    "    ### OUTPUT\n",
    "    xz - 2D array (N, M)\n",
    "    '''\n",
    "    \n",
    "    xm = x.mean(axis=0)\n",
    "    xxm = np.ones((x.shape[0], 1)) * xm\n",
    "\n",
    "    xs = x.std(axis=0)\n",
    "    xxs = np.ones((x.shape[0], 1)) * xs\n",
    "\n",
    "    xz = (x - xxm) / xxs\n",
    "    \n",
    "    return xz\n",
    "\n",
    "sh = (5, 4)\n",
    "x = np.arange(1, 21).reshape(sh)\n",
    "xz = z_transfer0(x)\n",
    "print(xz)\n"
   ]
  },
  {
   "cell_type": "markdown",
   "metadata": {},
   "source": [
    "> **МНЕМОНИЧЕСКОЕ ПРАВИЛО**: если в форме массива закрыть пальцем значение оси, то результатом любой универсальной функции numpy будет объект с формой из оставшихся значений (слева направо). Это универсально для любой оси. \n",
    "\n",
    "Т.е. если для массива с формой (400, 30, 50) требуется применить функцию по оси X, то форма объекта в результате работы универсальной функции numpy (np.max, np.mean, np.std и др.) будет такой:\n",
    "\n",
    "+ оси 0 -> (X, 30, 50) -> (30, 50)\n",
    "\n",
    "+ оси 1 -> (400, X, 50) -> (400, 50)\n",
    "\n",
    "+ оси 2 -> (400, 30, X) -> (400, 30)\n",
    "\n",
    "В случае отрицательной индексации:\n",
    "\n",
    "+ ось -1 -> (400, 30, X) -> (400, 30)\n",
    "\n",
    "+ ось -2 -> (400, X, 50) -> (400, 50)\n",
    "\n",
    "+ ось -3 -> (X, 30, 50) -> (30, 50)"
   ]
  },
  {
   "cell_type": "code",
   "execution_count": null,
   "metadata": {},
   "outputs": [],
   "source": [
    "import numpy as np\n",
    "\n",
    "sh = (10, 3, 4)\n",
    "x = np.arange(120).reshape(sh)\n",
    "print('Origin shape {}'.format(x.shape))\n",
    "\n",
    "a0 = np.max(x, axis=0)\n",
    "a1 = np.mean(x, axis=1)\n",
    "a2 = np.median(x, axis=2)\n",
    "\n",
    "abox = [a0, a1, a2]\n",
    "for i, a in enumerate(abox):\n",
    "    print('axis {} -> shape {}'.format(i, a.shape))"
   ]
  },
  {
   "cell_type": "markdown",
   "metadata": {},
   "source": [
    "<a id='logic'></a>\n",
    "### Логические операции с массивами\n",
    "[Вверх](#up)    \n",
    "\n",
    "С логическими операциями всё также - они применяются поэлементно. Результатом таких операций являются массивы, состоящие из булевых переменных. Такие логические массивы можно использовать как **логические маски** для выбора данных.\n",
    "\n",
    "Массивы могут принимать логические маски в качестве срезов и возвращать элементы, которым соответствуют только **True** значения в логической маске (одинаковые индексы).\n",
    "\n",
    "> Логические маски можно инверсировать (т.е. все False станут True и наоборот) с помощью знака \"~\" (тильда) перед именем переменной логической маски"
   ]
  },
  {
   "cell_type": "code",
   "execution_count": null,
   "metadata": {},
   "outputs": [],
   "source": [
    "import numpy as np\n",
    "\n",
    "arr = np.arange(-12, 13)\n",
    "mask = arr > 5\n",
    "new = arr[mask]\n",
    "\n",
    "inv_mask = ~mask   # тильда! Инверсия логической маски\n",
    "\n",
    "print(type(mask))\n",
    "print(f'Логическая маска {mask}')\n",
    "print(f'Инверсированная логическая маска {inv_mask}')\n",
    "\n",
    "print(new)"
   ]
  },
  {
   "cell_type": "markdown",
   "metadata": {},
   "source": [
    "Если есть необходимость объединить несколько логических условий, относящихся к элементам массива, то нужно применять т.н. **побитовые логические операции**:\n",
    "\n",
    "+ **and заменяется на &**\n",
    "\n",
    "+ **or заменяется на |**"
   ]
  },
  {
   "cell_type": "code",
   "execution_count": null,
   "metadata": {},
   "outputs": [],
   "source": [
    "import numpy as np\n",
    "\n",
    "arr = np.arange(-12, 13)\n",
    "mask = (arr > 5) | (arr < -3)   # побитовое логическое ИЛИ\n",
    "mask2 = (arr > -6) & (arr <= 0)   # побитовое логическое И\n",
    "\n",
    "new = arr[mask]\n",
    "new2 = arr[mask2]\n",
    "\n",
    "print('mask', mask)\n",
    "print(new)\n",
    "\n",
    "print('mask2', mask2)\n",
    "print(new2)"
   ]
  },
  {
   "cell_type": "markdown",
   "metadata": {},
   "source": [
    "В случае логических операций между массивами (в т.ч. и N-мерного с одномерными) такая операция может быть выполнена только для массивов одинаковой формы. Результатом будет массив из логических переменных.\n",
    "\n",
    "Часто в таких случаях используются функции **np.all** и **np.any**, которые позволяют оценить соотношение `True` и `False` значений для всех элементов массива (all) или хотя бы одного (any)."
   ]
  },
  {
   "cell_type": "code",
   "execution_count": null,
   "metadata": {},
   "outputs": [],
   "source": [
    "import numpy as np\n",
    "\n",
    "arr = np.arange(-12, 13)\n",
    "brr = np.arange(-10, 15)\n",
    "\n",
    "mask = (brr > arr)   # сравнение\n",
    "res1 = np.all(mask)\n",
    "print(f'Все элементы массива brr больше соответсвующих элементов arr >>> {res1}')\n",
    "res2 = np.any(~mask)  # ТИЛЬДА!!!! ИНВЕРСИЯ ЛОГИЧЕСКОЙ МАСКИ!!!\n",
    "print(f'Хотя бы один элемент массива arr больше соответсвующих элементов brr >>> {res2}')"
   ]
  },
  {
   "cell_type": "code",
   "execution_count": null,
   "metadata": {},
   "outputs": [],
   "source": [
    "import numpy as np\n",
    "\n",
    "arr = np.arange(-12, 13)\n",
    "mask = (arr > -99)   # побитовое логическое ИЛИ\n",
    "mask2 = (arr > -6) & (arr <= 0)   # побитовое логическое И\n",
    "\n",
    "res1 = np.all(mask)\n",
    "print(f'Все элементы больше -99 >>> {res1}')\n",
    "res2 = np.any(mask2)\n",
    "print(f'Хотя бы один элемент массива попадает в интервал (-6, 0] >>> {res2}')"
   ]
  },
  {
   "cell_type": "markdown",
   "metadata": {
    "collapsed": true
   },
   "source": [
    "<a id='wrarray'></a>\n",
    "## Запись числовых массивов\n",
    "[Вверх](#up)\n",
    "\n",
    "В numpy существует несколько удобных функций и методов для сохранения данных массивов в виде файлов (как текстовых, так и компактных бинарных):\n",
    "\n",
    "+ **numpy.save()** - позволяет сохранить массив в формате **npy**, который достаточно компактный, но главное - он сохраняет форму массива при обратном чтении!;\n",
    "\n",
    "+ **numpy.savetxt()** - позволяет сохранить данные массива (ndim < 3) в текстовом виде (не компактно, но видно \"на глаз\");\n",
    "\n",
    "+ **numpy.savez()** - позволяет сохранить несколько массивов в один файл в **несжатом** формате `.npz`;\n",
    "\n",
    "+ **numpy.savez_compressed()** -  - позволяет сохранить несколько массивов в один файл в **сжатом** формате `.npz`."
   ]
  },
  {
   "cell_type": "markdown",
   "metadata": {},
   "source": [
    "<a id='save'></a>\n",
    "## numpy.save\n",
    "[Вверх](#up)\n"
   ]
  },
  {
   "cell_type": "code",
   "execution_count": null,
   "metadata": {},
   "outputs": [],
   "source": [
    "import numpy as np\n",
    "\n",
    "sh = (73, 144)\n",
    "arr = np.random.random(sh)*10\n",
    "\n",
    "fileName = 'arr'\n",
    "try:\n",
    "    np.save(fileName, arr)\n",
    "    print(f'Файл \"{fileName}\" был успешно записан!')\n",
    "except:\n",
    "    print(f'Ошибка! Файл \"{fileName}\" не записан!')\n"
   ]
  },
  {
   "cell_type": "markdown",
   "metadata": {},
   "source": [
    "<a id='savetxt'></a>\n",
    "### numpy.savetxt\n",
    "[Вверх](#up)\n",
    "\n",
    "Для записи данных массива в текстовый файл есть функция **numpy.savetxt()**.\n",
    "\n",
    "> **N.B.** При записи числовых данных рекомендуется использовать `разделитель`. Например, **точка с запятой (;)**. > Разделитель задаётся аргументом **delimiter** (по умолчанию разделитель - это пробел). \n",
    "\n",
    "В модуле `pandas` аргумент, отвечающий за разделитель, называется **sep**.\n",
    "\n",
    "Наличие явного разделителя позволяет просто открыть такой текстовый файл в MS Excel."
   ]
  },
  {
   "cell_type": "code",
   "execution_count": null,
   "metadata": {},
   "outputs": [],
   "source": [
    "import numpy as np\n",
    "\n",
    "sh = (73, 144)\n",
    "arr = np.random.random(sh)*10\n",
    "\n",
    "fileName = 'arr.txt'\n",
    "try:\n",
    "    np.savetxt(fileName, arr, delimiter=';')\n",
    "    print(f'Файл \"{fileName}\" был успешно записан!')\n",
    "except:\n",
    "    print(f'Ошибка! Файл \"{fileName}\" не записан!')"
   ]
  },
  {
   "cell_type": "markdown",
   "metadata": {
    "collapsed": true
   },
   "source": [
    "Можно добиться значительно более компактного хранения данных, если задать точность (число значимых цифр после плавающей запятой) для действительных чисел. Точность можно задать с помощью аргумента **fmt**."
   ]
  },
  {
   "cell_type": "code",
   "execution_count": null,
   "metadata": {},
   "outputs": [],
   "source": [
    "import numpy as np\n",
    "\n",
    "sh = (73, 144)\n",
    "arr = np.random.random(sh)*10\n",
    "\n",
    "fileName = 'arr_fmt2.txt'\n",
    "try:\n",
    "    np.savetxt(fileName, arr, delimiter=';', \n",
    "               fmt='%.2f')   # два знака после запятой для типа float\n",
    "    print(f'Файл \"{fileName}\" был успешно записан!')\n",
    "except:\n",
    "    print(f'Ошибка! Файл \"{fileName}\" не записан!')"
   ]
  },
  {
   "cell_type": "markdown",
   "metadata": {},
   "source": [
    "Если данные массива - целые числа, то имеет смысл указать в аргументе **fmt** формат целых чисел. Длина файла здесь определяется набором чисел (единицы занимают меньше места, чем 200)"
   ]
  },
  {
   "cell_type": "code",
   "execution_count": null,
   "metadata": {},
   "outputs": [],
   "source": [
    "import numpy as np\n",
    "\n",
    "sh = (73, 144)\n",
    "arr = np.ones(sh[0]*sh[1]).reshape(sh) + 200\n",
    "\n",
    "fileName = 'arr_int.txt'\n",
    "try:\n",
    "    np.savetxt(fileName, arr, fmt='%d')\n",
    "    print(f'Файл \"{fileName}\" был успешно записан!')\n",
    "except:\n",
    "    print(f'Ошибка! Файл \"{fileName}\" не записан!')"
   ]
  },
  {
   "cell_type": "markdown",
   "metadata": {},
   "source": [
    "<a id='savez'></a>\n",
    "###  numpy.savez\n",
    "[Вверх](#up)"
   ]
  },
  {
   "cell_type": "code",
   "execution_count": null,
   "metadata": {},
   "outputs": [],
   "source": [
    "import numpy as np\n",
    "\n",
    "sh = (73, 144)\n",
    "arr = np.random.random(sh)*10\n",
    "arr2 = np.arange(200) - 50.\n",
    "\n",
    "fileName = 'arr_z'\n",
    "try:\n",
    "    np.savez(fileName, a=arr, b=arr2)\n",
    "    print(f'Файл \"{fileName}\" был успешно записан!')\n",
    "except:\n",
    "    print(f'Ошибка! Файл \"{fileName}\" не записан!')"
   ]
  },
  {
   "cell_type": "markdown",
   "metadata": {},
   "source": [
    "<a id='savez_compressed'></a>\n",
    "###  numpy.savez_compressed\n",
    "[Вверх](#up)\n"
   ]
  },
  {
   "cell_type": "code",
   "execution_count": null,
   "metadata": {},
   "outputs": [],
   "source": [
    "import numpy as np\n",
    "\n",
    "sh = (73, 144)\n",
    "arr = np.random.random(sh)*10\n",
    "arr2 = np.arange(200) - 50.\n",
    "\n",
    "fileName = 'arr_z_comp'\n",
    "try:\n",
    "    np.savez_compressed(fileName, a=arr, b=arr2)\n",
    "    print(f'Файл \"{fileName}\" был успешно записан!')\n",
    "except:\n",
    "    print(f'Ошибка! Файл \"{fileName}\" не записан!')"
   ]
  },
  {
   "cell_type": "markdown",
   "metadata": {},
   "source": [
    "<a id='rdarray'></a>\n",
    "## Чтение числовых массивов\n",
    "[Вверх](#up)\n",
    "\n",
    "Numpy предоставляет возможность считывать данные в массивы как из текстовых форматов (.dat, .txt, .csv и др.) с помощью функции **numpy.genfromtxt()**, так и из специальных форматов хранения массивов numpy **.npy** и **.npz** (с помощью **numpy.load()**).\n",
    "\n",
    "+ **numpy.genfromtxt()** - позволяет считать однотипные данные из текстового файла в массив (ndim < 3);\n",
    "\n",
    "+ **numpy.load()** - позволяет считать однотипные данные из бинарных файла форматов **.npy** и **npz** в виде одного (**.npy**) или нескольких (**.npz**) массивов."
   ]
  },
  {
   "cell_type": "markdown",
   "metadata": {},
   "source": [
    "<a id='genfromtxt'></a>\n",
    "### numpy.genfromtxt\n",
    "[Вверх](#up)\n",
    "\n",
    "Для чтения данных текстовых файлов в модуле numpy есть функция **numpy.genfromtxt()**. \n",
    "\n",
    "> Её более ранней версией является функция **np.loadtxt()** - явно прослеживается подобие название \"load - loadtxt\", > \"save - savetxt\"."
   ]
  },
  {
   "cell_type": "code",
   "execution_count": null,
   "metadata": {
    "scrolled": true
   },
   "outputs": [],
   "source": [
    "# Способы работы с числовыми данными с помощью numpy.genfromtxt(), записанными в текстовые файлы\n",
    "\n",
    "import os\n",
    "import numpy as np\n",
    "\n",
    "dataPath = './data'\n",
    "fileName = [s for s in os.listdir(dataPath) if ('nao' in s) and ('.txt' in s)][0]\n",
    "\n",
    "ya = np.genfromtxt('{}/{}'.format(dataPath, fileName))\n",
    "\n",
    "box = [ya.size, ya.shape, ya.ndim, ya.dtype]\n",
    "print('Size={} Shape={} Ndim={} Dtype={}'.format(*box))\n",
    "\n",
    "x = ya[:, 0]  # первый столбец\n",
    "y = ya[:, -1]   # последний столбец"
   ]
  },
  {
   "cell_type": "code",
   "execution_count": null,
   "metadata": {},
   "outputs": [],
   "source": [
    "%matplotlib inline\n",
    "import calendar\n",
    "import matplotlib.pyplot as plt\n",
    "\n",
    "monN = 11\n",
    "m = monN - 1\n",
    "lab = calendar.month_abbr[monN]\n",
    "\n",
    "x0 = x[m::12]\n",
    "y0 = y[m::12]\n",
    "\n",
    "fig = plt.figure()\n",
    "\n",
    "plt.plot(x0, y0)\n",
    "plt.title(lab)\n",
    "plt.grid(ls=':')\n",
    "plt.show()"
   ]
  },
  {
   "cell_type": "markdown",
   "metadata": {},
   "source": [
    "Связка аргументов **usecols** и **unpack** в `numpy.genfromtxt()` позволяет выбирать отдельные столбцы (по индексам столбцов начиная от нуля) вместо всех столбцов, записанных в файле. \n",
    "\n",
    "Если исходная таблица (а в текстовом виде можно сохранить только одномерный или двумерный массив) содержит много столбцов, а для анализа нужны лишь некоторые, определённо не стоит считывать и хранить лишнюю информацию."
   ]
  },
  {
   "cell_type": "code",
   "execution_count": null,
   "metadata": {},
   "outputs": [],
   "source": [
    "# Расширенные возможности чтения данных\n",
    "\n",
    "dataPath = './data'\n",
    "fileName = [s for s in os.listdir(dataPath) if ('nao' in s) and ('.txt' in s)][0]\n",
    "\n",
    "fullPath = '{}/{}'.format(dataPath, fileName)\n",
    "year, mon, nao = np.genfromtxt(fullPath, usecols=[0, 1, 2], unpack=True)\n",
    "\n",
    "print(\"NAO type:\", type(nao), nao.shape)\n",
    "print('Max: {:.2f} Min: {:.2f}'.format(nao.max(), nao.min()))\n",
    "print('Mean:{:.3f} Std: {:.2f}'.format(nao.mean(), nao.std()))"
   ]
  },
  {
   "cell_type": "markdown",
   "metadata": {},
   "source": [
    "<a id='load'></a>\n",
    "### numpy.load\n",
    "[Вверх](#up)\n",
    "\n",
    "Функция **np.load()** позволяет считывать как формат **.npy**, так и формат **.npz** (compressed и обычный). При этом сохраняется форма массивов!"
   ]
  },
  {
   "cell_type": "code",
   "execution_count": null,
   "metadata": {},
   "outputs": [],
   "source": [
    "import os\n",
    "import numpy as np\n",
    "\n",
    "ffiles = [s for s in os.listdir(os.getcwd()) if ('.npy' in s)]\n",
    "f = ffiles[0]\n",
    "\n",
    "print(f)\n",
    "# Считываем файл в формате npy. Форма сохраняется!!!\n",
    "ya = np.load(f)\n",
    "\n",
    "box = [ya.size, ya.shape, ya.ndim, ya.dtype]\n",
    "print('Size={} Shape={} Ndim={} Dtype={}'.format(*box))"
   ]
  },
  {
   "cell_type": "markdown",
   "metadata": {},
   "source": [
    "Файлы формата **.npz** позволяет хранить несколько массивов в одном файле под именами-ключами. Чтобы получить данные из этого формата, нужно считать файл с расширением npz с помощью np.load() в условный объект-файл (на самом деле это класс `\"numpy.lib.npyio.NpzFile\"`), а затем обратиться от объект-файла по ключу к данным массива. \n",
    "\n",
    "Ключ - имя переменной, под которой происходило сохранение в формат npz. Узнать набор ключей в файле \".npz\" позволяет атрибут **.files** от условного объект-файла и метод **.keys()** (требует явного преобрзования к какому-либо типу последовательности, например к списку). "
   ]
  },
  {
   "cell_type": "code",
   "execution_count": null,
   "metadata": {},
   "outputs": [],
   "source": [
    "import os\n",
    "import numpy as np\n",
    "\n",
    "ffiles = [s for s in os.listdir(os.getcwd()) if ('.npz' in s)]\n",
    "f1 = ffiles[0]\n",
    "f2 = ffiles[1]\n",
    "\n",
    "for i, f in enumerate([f1, f2]):\n",
    "    npz = np.load(f)\n",
    "    keys = sorted(list(npz.keys()))\n",
    "    \n",
    "    if i == 0:\n",
    "        word = 'Uncompressed'\n",
    "        print('There are {} keys in npz'.format(keys))\n",
    "        print(type(npz))\n",
    "    else:\n",
    "        word = 'Compressed'\n",
    "        \n",
    "    print(f'npz {word} {f}')\n",
    "    for val in sorted(npz.files):\n",
    "        ya = npz[val]\n",
    "        box = [ya.size, ya.shape, ya.ndim, ya.dtype]\n",
    "        print('Size={} Shape={} Ndim={} Dtype={}'.format(*box))"
   ]
  },
  {
   "cell_type": "markdown",
   "metadata": {},
   "source": [
    "[Наверх](#up)"
   ]
  }
 ],
 "metadata": {
  "anaconda-cloud": {},
  "kernelspec": {
   "display_name": "Python 3",
   "language": "python",
   "name": "python3"
  },
  "language_info": {
   "codemirror_mode": {
    "name": "ipython",
    "version": 3
   },
   "file_extension": ".py",
   "mimetype": "text/x-python",
   "name": "python",
   "nbconvert_exporter": "python",
   "pygments_lexer": "ipython3",
   "version": "3.7.0"
  }
 },
 "nbformat": 4,
 "nbformat_minor": 1
}
