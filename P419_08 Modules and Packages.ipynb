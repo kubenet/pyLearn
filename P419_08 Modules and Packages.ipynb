{
 "cells": [
  {
   "cell_type": "markdown",
   "metadata": {},
   "source": [
    "# P419 08 Модули и пакеты\n",
    "\n",
    "Автор: Шабанов Павел Александрович\n",
    "\n",
    "Email: pa.shabanov@gmail.com\n",
    "\n",
    "URL: [Заметки по программированию в науках о Земле](http://progeoru.blogspot.ru/)\n",
    "\n",
    "**Дата последнего обновления: 28.10.2018**\n",
    "\n",
    "<a id='up'></a>\n",
    "### План\n",
    "\n",
    "1. **[Модули](#modules)**\n",
    "    + [правила импортирования](#import);\n",
    "    + [dir()](#dir).\n",
    "2. **[Модули в других папках. Пакеты](#modules_folders)**\n",
    "    + [пакеты и файл **\\_\\_init\\_\\_.py**](#packages);\n",
    "    + [if \\_\\_name\\_\\_ == 'main':](#valid_import)\n",
    "    + [имена и пути к функциям в модулях и древах каталогов](#tree).\n",
    "\n",
    "### Ссылки:\n",
    "\n",
    "+ Н.А. Прохорёнок \"Python самое необходимое\", Глава 12 Модули и пакеты, с. 194-206"
   ]
  },
  {
   "cell_type": "markdown",
   "metadata": {},
   "source": [
    "<a id='modules'></a>\n",
    "## Модули\n",
    "[Вверх](#up)\n",
    "\n",
    "`Модуль` - это программная единица. Программа на python состоит хотя бы из 1 т.н. главного модуля. \n",
    "\n",
    "Главный модуль можно определить с помощью особой переменной **\\_\\_name\\_\\_**, которую можно вызвать всегда из тела python-скрипта. \n",
    "\n",
    "У главного модуля этот параметр имеет значение **'main'**."
   ]
  },
  {
   "cell_type": "code",
   "execution_count": null,
   "metadata": {},
   "outputs": [],
   "source": [
    "s = __name__\n",
    "if s == '__main__':\n",
    "    print(f'Это главный модуль, его имя {s}')\n",
    "else:\n",
    "    print(f'Это сторонний модуль, его имя {s}')"
   ]
  },
  {
   "cell_type": "markdown",
   "metadata": {},
   "source": [
    "Модулем в языке Python может называться любой текстовый файл расширением **.py**. \n",
    "\n",
    "Каждый модуль может импортировать другой модуль, получая, таким образом, доступ к содержимому импортированного модуля. Следует заметить, что импортируемый модуль может содержать программу не только на языке Python, но и скомпилированный модуль, написанный на языке Fortran или C.\n",
    "\n",
    "Любой дистрибутив python поставляется с наобором стандартных модулей (т.н. \"батареек\"), которые можно использовать всегда. Приведём примеры некоторых модулей, которые встречались нам ранее:\n",
    "\n",
    "+ **os** - модуль для работы с операционной системой;\n",
    "+ **time** - модуль для работы со временем;\n",
    "+ **sys** - модуль для работы с переменными и функциям, взаимодействующими с интерпретатором python;\n",
    "+ **keyword** - модуль для работы с ключевыми словами языка python;\n",
    "+ **random** - модуль для работы с псевдослучайными числами.\n",
    "\n",
    "> **sys.modules - словарь имен загруженных модулей;**\n",
    "\n",
    "> **sys.path - список путей поиска модулей;**\n",
    "\n",
    "> **sys.prefix - путь установки интерпретатора Python.**\n",
    "\n",
    "<a id='import'></a>\n",
    "### Правила импортирования \n",
    "[Наверх](#up)\n",
    "\n",
    "Импортировать модуль позволяет инструкция **import**.\n",
    "\n",
    "Общий вид данной инструкции выглядит так:\n",
    "\n",
    "> **from** MODULE1 **import** FUNCTION_or_CLASS **as** myShortName\n",
    "\n",
    "После ключевого слова `import` через пробел указывается имя модуля (без расширения и пути к файлу - см. ниже). При именовании модулей выполняются те же правила, что и для всех переменных. Следует избегать совпадения с ключевыми словами, встроенными идентификаторами и названиями модулей, входящих в стандартную библиотеку.\n",
    "\n",
    "За один раз можно импортировать сразу несколько модулей, перечислив их через запятую."
   ]
  },
  {
   "cell_type": "code",
   "execution_count": null,
   "metadata": {},
   "outputs": [],
   "source": [
    "import os, sys\n",
    "import time\n",
    "\n",
    "print ('Место установки интерпретатора Python: {}'.format(sys.prefix))\n",
    "print ('А в этих папках Python ищет модули: {}\\n'.format(sys.prefix))\n",
    "for v in sys.path:\n",
    "    j = sys.path.index(v)\n",
    "    print(j, v)"
   ]
  },
  {
   "cell_type": "markdown",
   "metadata": {},
   "source": [
    "При обращение к модулю можно использовать не его имя, а аббревиатуру или псевдоним. Для этого следует использовать ключевое слово **as** в конструкции **import** после имени модуля: \n",
    "\n",
    "> **import numpy as np**\n",
    "\n",
    "> **import pandas as pd**\n",
    "\n",
    "> **import matplotlib.pyplot as plt**\n",
    "\n",
    "Также при импорте модуля можно воспользоваться ключевым словом **from** для импортирования только необходимой части модуля. Слово **from** ставится вначале конструкции `import`. Например, *from numpy import random as rr*.\n",
    "\n",
    "Конструкция `from имя_модуля import *` позволяет импортировать все идентификаторы модуля и обращаться к ним далее без использования точечной нотации. Это неявное импортирование (implicit import), оно не рекомендуется к использованию рядом положений и противоречит принципу python-dzen \"Explicit is better than implicit\"."
   ]
  },
  {
   "cell_type": "code",
   "execution_count": 1,
   "metadata": {},
   "outputs": [
    {
     "name": "stdout",
     "output_type": "stream",
     "text": [
      "The Zen of Python, by Tim Peters\n",
      "\n",
      "Beautiful is better than ugly.\n",
      "Explicit is better than implicit.\n",
      "Simple is better than complex.\n",
      "Complex is better than complicated.\n",
      "Flat is better than nested.\n",
      "Sparse is better than dense.\n",
      "Readability counts.\n",
      "Special cases aren't special enough to break the rules.\n",
      "Although practicality beats purity.\n",
      "Errors should never pass silently.\n",
      "Unless explicitly silenced.\n",
      "In the face of ambiguity, refuse the temptation to guess.\n",
      "There should be one-- and preferably only one --obvious way to do it.\n",
      "Although that way may not be obvious at first unless you're Dutch.\n",
      "Now is better than never.\n",
      "Although never is often better than *right* now.\n",
      "If the implementation is hard to explain, it's a bad idea.\n",
      "If the implementation is easy to explain, it may be a good idea.\n",
      "Namespaces are one honking great idea -- let's do more of those!\n"
     ]
    }
   ],
   "source": [
    "# Если при повторном запуске из Jupyter notebook здесь не отображается дзен-python, \n",
    "# перегрузите output: Kernel -> Restart & Clear Output\n",
    "\n",
    "import this"
   ]
  },
  {
   "cell_type": "code",
   "execution_count": 2,
   "metadata": {},
   "outputs": [
    {
     "name": "stdout",
     "output_type": "stream",
     "text": [
      "<class 'module'>\n"
     ]
    }
   ],
   "source": [
    "print(type(this))"
   ]
  },
  {
   "cell_type": "code",
   "execution_count": 3,
   "metadata": {},
   "outputs": [
    {
     "name": "stdout",
     "output_type": "stream",
     "text": [
      "np is a <class 'module'>\n",
      "[[0.49195631 0.9050553  0.94362859]\n",
      " [0.01433571 0.00729072 0.25012357]\n",
      " [0.41842317 0.28322784 0.74256502]]\n"
     ]
    }
   ],
   "source": [
    "import sys\n",
    "\n",
    "import numpy as np   # псевдоним\n",
    "from numpy import random as rn   # импорт части модуля\n",
    "from numpy.random import random # импорт функции\n",
    "from numpy.random import random as randx   # импорт функции под псевдонимом\n",
    "\n",
    "shapexy = (7, 12)\n",
    "print('np is a {}'.format(type(np)))\n",
    "z1 = rn.random(shapexy)\n",
    "z2 = randx(shapexy)\n",
    "z3 = random(shapexy)\n",
    "\n",
    "print(z1[:3, :3])"
   ]
  },
  {
   "cell_type": "markdown",
   "metadata": {},
   "source": [
    "<a id='dir'></a>\n",
    "### dir()\n",
    "[Вверх](#up)\n",
    "\n",
    "Встроенная функция `dir()` возвращает список имен объекта, а если объект не указан,\n",
    "то список имен в текущей локальной области видимости.\n",
    "\n"
   ]
  },
  {
   "cell_type": "code",
   "execution_count": 4,
   "metadata": {},
   "outputs": [
    {
     "name": "stdout",
     "output_type": "stream",
     "text": [
      "<class 'list'>\n",
      "['In', 'Out', '_', '__', '___', '__builtin__', '__builtins__', '__doc__', '__loader__', '__name__', '__package__', '__spec__', '_dh', '_i', '_i1', '_i2', '_i3', '_i4', '_ih', '_ii', '_iii', '_oh', 'exit', 'get_ipython', 'np', 'quit', 'random', 'randx', 'rn', 'shapexy', 'sys', 'this', 'z1', 'z2', 'z3']\n",
      "['In', 'Out', 'd', 'exit', 'ilist', 'np', 'quit', 'random', 'randx', 'rn', 'shapexy', 'sys', 'this', 'z1', 'z2', 'z3']\n"
     ]
    }
   ],
   "source": [
    "d = dir()\n",
    "print(type(d))\n",
    "ilist = sorted(d)\n",
    "print(ilist)\n",
    "\n",
    "# Список без имён переменных с __ и _\n",
    "b = [s for s in dir() if ('_' not in s)]\n",
    "print(b)"
   ]
  },
  {
   "cell_type": "markdown",
   "metadata": {},
   "source": [
    "<a id='modules_folders'></a>\n",
    "## Модули в других папках. Пакеты\n",
    "[Наверх](#up)\n",
    "\n",
    "Хранить все модули и исходные коды, а также необходимые к ним данные, в одной папке неудобно даже для небольших проектов. \n",
    "\n",
    "Чтобы организовать хранение файлов с исходным кодом, функциональные и логичные части кода, оформленные в виде модулей с набором функций и классов, выносят в другие папки, помещают в другие места на компьютере.\n",
    "\n",
    "Чтобы организовать систему хранения модулей, нужно представлять как python ищет модули при импортировании с помощью конструкции **import**. \n",
    "\n",
    "<a id='packages'></a>\n",
    "### Пакеты и файл __init__.py\n",
    "[Наверх](#up)\n",
    "\n",
    "В случае, когда в папке с модулями есть другие папки, также содержащие внутри себя и модули и папки c модулями (\"матрёшка\"), для доступа к модулям внутри папок необходимо превратить папки в **пакеты (packages)**\n",
    "\n",
    "**Пакетом** называется папка с python-файлами, в которой также находится особый файл инициализации **\\_\\_init\\_\\_.py**. \n",
    "\n",
    "> folder4/\\_\\_init\\_\\_.py\n",
    "\n",
    "`Файл инициализации` может быть пустым или содержать код, который будет выполнен при первом обращении к пакету. В любом случае, он обязательно должен быть внутри папки с модулями.\n",
    "\n",
    "В Листинге \"A\" представлено две функции непосредственно в теле модуля **ffunc4.py**."
   ]
  },
  {
   "cell_type": "code",
   "execution_count": null,
   "metadata": {},
   "outputs": [],
   "source": [
    "%%writefile ./folder4/ffunc4.py\n",
    "\n",
    "# ЛИСТИНГ \"А\" Пакеты main1\n",
    "\n",
    "# -*- coding: utf-8 -*-\n",
    "\"\"\"\n",
    "Created on Fri Mar 11 22:48:27 2016\n",
    "\n",
    "@author: pasha\n",
    "\"\"\"\n",
    "\n",
    "import sys\n",
    "import math\n",
    "import random\n",
    "import numpy as np\n",
    "\n",
    "def haversine(origin, destination):\n",
    "    '''\n",
    "    Points are tuples of (latitude, longitude)\n",
    "    '''\n",
    "    lat1, lon1 = origin\n",
    "    lat2, lon2 = destination\n",
    "    radius = 6371. # km\n",
    "\n",
    "    dlat = math.radians(lat2-lat1)\n",
    "    dlon = math.radians(lon2-lon1)\n",
    "    a = math.sin(dlat/2.) * math.sin(dlat/2.) + math.cos(math.radians(lat1)) \\\n",
    "        * math.cos(math.radians(lat2)) * math.sin(dlon/2.) * math.sin(dlon/2.)\n",
    "    c = 2 * math.atan2(math.sqrt(a), math.sqrt(1.-a))\n",
    "    d = radius * c\n",
    "\n",
    "    return d\n",
    "\n",
    "def pirson_cc(x, y):\n",
    "    u'''\n",
    "    Это строка документирования!\n",
    "    Функция вычисляет для двух последовательностей \\\n",
    "    коэффициент корреляции Пирсона.\n",
    "    \n",
    "    Входящие параметры:\n",
    "    ===================\n",
    "    \n",
    "    **x [ndarray]** - одномерный массив длины N;\n",
    "    **y [ndarray]** - одномерный массив длины N;\n",
    "    \n",
    "    Результат выполнения функции:\n",
    "    =============================\n",
    "    **сс [float]** - коэффициент корреляции Пирсона.\n",
    "    '''\n",
    "    \n",
    "    xm = x.mean()\n",
    "    ym = y.mean()\n",
    "\n",
    "    a = 0\n",
    "    b1 = 0\n",
    "    b2 = 0\n",
    "    for xi, yi in zip(x, y):\n",
    "        a += (xi - xm)*(yi - ym)\n",
    "        b1 += (xi - xm)**2 \n",
    "        b2 += (yi - ym)**2\n",
    "    b = np.sqrt(b1*b2)\n",
    "    \n",
    "    cc = float(a)/b\n",
    "    return cc\n",
    "\n",
    "# **************************************\n",
    "\n",
    "N = 60\n",
    "# методы списка + модуль random\n",
    "a = list(range(N))\n",
    "random.shuffle(a)\n",
    "a = np.array(a)\n",
    "\n",
    "# модуль numpy\n",
    "b = np.arange(N)\n",
    "np.random.shuffle(b)\n",
    "\n",
    "TSK = (56.49, 84.95)   # 56°29′19″ с. ш. 84°57′08″ в. д.\n",
    "MSK = (55.76, 37.61)  # 55°45′21″ с. ш. 37°37′04″ в. д.\n",
    "SPB = (59.95, 30.61) # 59°57′00″ с. ш. 30°19′00″ в. д. (G) (O) (Я)\n",
    "\n",
    "filename = sys.argv\n",
    "print((f'Привет! Я файл {filename[0]} и ты видишь это всё,'\n",
    "       'хотя хотел импортировать лишь одну функцию haversine'))\n",
    "print ('От Москвы до Ленинграда {:.2f} км'.format(haversine(SPB, MSK)))\n",
    "print ('CC from def cc: {:.3f}'.format(pirson_cc(a, b)))\n",
    "print ('\\n Сравни: \\n')\n",
    "print ('CC from numpy: {:.3f}'.format(np.corrcoef(a, b)[0][1]))"
   ]
  },
  {
   "cell_type": "code",
   "execution_count": 6,
   "metadata": {},
   "outputs": [
    {
     "name": "stdout",
     "output_type": "stream",
     "text": [
      "Привет! Я файл C:\\Users\\pasha\\Anaconda3\\lib\\site-packages\\ipykernel_launcher.py и ты видишь это всё,хотя хотел импортировать лишь одну функцию haversine\n",
      "От Москвы до Ленинграда 622.71 км\n",
      "CC from def cc: 0.024\n",
      "\n",
      " Сравни: \n",
      "\n",
      "CC from numpy: 0.024\n",
      "От Питера до Москвы 622.71 км\n"
     ]
    }
   ],
   "source": [
    "#%%writefile test_pash4.py\n",
    "\n",
    "from folder4.ffunc4 import haversine\n",
    "\n",
    "MSK = (55.76, 37.61)  # 55°45′21″ с. ш. 37°37′04″ в. д.\n",
    "SPB = (59.95, 30.61) # 59°57′00″ с. ш. 30°19′00″ в. д. (G) (O) (Я)\n",
    "\n",
    "dist = haversine(SPB, MSK)\n",
    "print (f'От Питера до Москвы {dist:.2f} км')"
   ]
  },
  {
   "cell_type": "markdown",
   "metadata": {},
   "source": [
    "При первом импорте у нас вместе с импортом функции haversine всплывёт ещё и весь код, которые не является функцией. В том числе и фраза:\n",
    "\n",
    "> *Привет! Я файл ffunc4.py и ты видишь это всё, хотя хотел импортировать лишь одну функцию haversine!*\n",
    "\n",
    "При этом объявленные переменные из тела импортированного (например, b) не будут в области видимости главного модуля."
   ]
  },
  {
   "cell_type": "markdown",
   "metadata": {},
   "source": [
    "<a id='valid_import'></a>\n",
    "### if \\_\\_name\\_\\_ == 'main':\n",
    "[Вверх](#up)\n",
    "\n",
    "Чтобы избежать нежелательного конетента при импортировании, предлагается использовать следующий приём: проверять является ли модуль главным. \n",
    "\n",
    "> if \\_\\_name\\_\\_ == 'main':\n",
    "\n",
    "Если да, тогда будет исполняться основное тело скрипта. Если же нет, то всё содержимое скрипта будет проигнорировано."
   ]
  },
  {
   "cell_type": "code",
   "execution_count": null,
   "metadata": {},
   "outputs": [],
   "source": [
    "def foo1():\n",
    "    pass\n",
    "\n",
    "def foo2():\n",
    "    pass\n",
    "\n",
    "if __name__ == 'main':\n",
    "    pass"
   ]
  },
  {
   "cell_type": "markdown",
   "metadata": {},
   "source": [
    "Сравни содержание ffunc4.py и ffunc42.py\n",
    "\n",
    "При импорте функции \"haversine\" из ffunc42.py появления побочного контента не будет."
   ]
  },
  {
   "cell_type": "code",
   "execution_count": 7,
   "metadata": {},
   "outputs": [
    {
     "name": "stdout",
     "output_type": "stream",
     "text": [
      "От Питера до Москвы 622.71 км\n"
     ]
    }
   ],
   "source": [
    "from folder4.ffunc42 import haversine\n",
    "\n",
    "MSK = (55.76, 37.61)  # 55°45′21″ с. ш. 37°37′04″ в. д.\n",
    "SPB = (59.95, 30.61) # 59°57′00″ с. ш. 30°19′00″ в. д. (G) (O) (Я)\n",
    "\n",
    "dist = haversine(SPB, MSK)\n",
    "print (f'От Питера до Москвы {dist:.2f} км')"
   ]
  },
  {
   "cell_type": "markdown",
   "metadata": {},
   "source": [
    "Если запустить честно файл ffunc4.py из командной строки, то имя файла будет нормальным. В случае же jupyter notebook, происходит \"оборачивание\", поэтому `sys.argv` выводит на экран что-то иное... "
   ]
  },
  {
   "cell_type": "code",
   "execution_count": 9,
   "metadata": {},
   "outputs": [
    {
     "name": "stdout",
     "output_type": "stream",
     "text": [
      "Writing test_sysargv.py\n"
     ]
    }
   ],
   "source": [
    "#%%writefile test_sysargv.py\n",
    "\n",
    "import sys\n",
    "s = sys.argv\n",
    "print(s[0])"
   ]
  },
  {
   "cell_type": "markdown",
   "metadata": {},
   "source": [
    "<a id='tree'></a>\n",
    "### Имена и пути к функциям в модулях и древах каталогов.\n",
    "[Наверх](#up)\n",
    "\n",
    "Узнать список папок и каталогов, где интерпретатор python ищет модули, позволяет метод **path** модуля **sys (sys.path)**."
   ]
  },
  {
   "cell_type": "code",
   "execution_count": null,
   "metadata": {},
   "outputs": [],
   "source": [
    "import sys\n",
    "lst = sys.path\n",
    "print(type(lst))\n",
    "\n",
    "for i, s in enumerate(lst):\n",
    "    print(i+1, s)"
   ]
  },
  {
   "cell_type": "markdown",
   "metadata": {},
   "source": [
    "Так как sys.path является списком, значит в этот список можно добавить любой элемент (в т.ч. строка).\n",
    "\n",
    "Для добавления в этот список какой-либо папки следует воспользоваться методом списков *append()*: \n",
    "\n",
    "> **sys.path.append(абсолютный путь к папке)**."
   ]
  },
  {
   "cell_type": "code",
   "execution_count": null,
   "metadata": {},
   "outputs": [],
   "source": [
    "import sys\n",
    "sys.path.append(r'C:/pylib')"
   ]
  },
  {
   "cell_type": "markdown",
   "metadata": {
    "collapsed": true
   },
   "source": [
    "Другой вариант - добавить путь к нужной папке в переменную среды **\"PYTHONPATH\"**. Для разных ОС процедура добавления переменных среды различается.\n",
    "\n",
    "Так Spyder позволяет добавить папку в процессе текущей сессии (см. Инструменты -> менеджер PYTHONPATH).\n",
    "\n",
    "[Вверх](#up)"
   ]
  },
  {
   "cell_type": "code",
   "execution_count": null,
   "metadata": {},
   "outputs": [],
   "source": []
  }
 ],
 "metadata": {
  "kernelspec": {
   "display_name": "Python 3",
   "language": "python",
   "name": "python3"
  },
  "language_info": {
   "codemirror_mode": {
    "name": "ipython",
    "version": 3
   },
   "file_extension": ".py",
   "mimetype": "text/x-python",
   "name": "python",
   "nbconvert_exporter": "python",
   "pygments_lexer": "ipython3",
   "version": "3.7.0"
  }
 },
 "nbformat": 4,
 "nbformat_minor": 1
}
