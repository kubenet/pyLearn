{
 "cells": [
  {
   "cell_type": "markdown",
   "metadata": {},
   "source": [
    "# P419 07 Функции\n",
    "\n",
    "Автор: Шабанов Павел Александрович\n",
    "\n",
    "Email: pa.shabanov@gmail.com\n",
    "\n",
    "URL: [Заметки по программированию в науках о Земле](http://progeoru.blogspot.ru/)\n",
    "\n",
    "**Дата последнего обновления: 28.10.2018**\n",
    "\n",
    "<a id='up'></a>\n",
    "### План\n",
    "\n",
    "1. **[Пользовательские функции](#dеf_func)**\n",
    "    + [вызов функции](#call);\n",
    "    + [return](#return).\n",
    "2. **[Локальные и глобальные переменные](#local)**\n",
    "3. **[Аргументы функций](#def_params)**;\n",
    "    + [примеры функций](#def_examples);\n",
    "        + [формула гаверсинусов](#haversine);\n",
    "        + [корреляция Пирсона](#pearson);\n",
    "    + [распаковка аргументов](#def_unpack).\n",
    "\n",
    "4. **[Анонимные функции](#lambda)**\n",
    "\n",
    "5. **[Функция от функции](#ff)**\n",
    "    + [декораторы](#deco).\n",
    "\n",
    "\n",
    "### URLs:\n",
    "\n",
    "+ [Функциональное программирование в Python](http://pythonicway.com/python-functinal-programming)\n",
    "\n",
    "+ [ХАБР. Понимаем декораторы в Python'e, шаг за шагом. Шаг 1](https://habr.com/post/141411/)\n",
    "\n",
    "### Ссылки:\n",
    "\n",
    "+ Н.А. Прохорёнок \"Python самое необходимое\", Глава 11 Пользовательские функции, с. 177-183"
   ]
  },
  {
   "cell_type": "markdown",
   "metadata": {},
   "source": [
    "<a id=\"dеf_func\"></a>\n",
    "## Пользовательские функции\n",
    "[Наверх](#up)\n",
    "\n",
    "**Функция** - это программная единица, которая является управляющей конструкцией (т.е. влияет на поток выполнения алгоритма). Функцию можно вызывать в любом месте программы. Содержимое или тело функции всегда вложено на один уровень ниже уровня объявления функции (правило 4 пробелов для вложенных структур).\n",
    "\n",
    ">Функции целесообразно использовать тогда, когда:\n",
    "> + код повторяется многократно в разных участках программы;\n",
    "> + один и тот же алгоритм применяется несколько раз к разным данным;\n",
    "> + участок кода решает законченную, логически завершённую задачу;\n",
    "\n",
    "Функция в Python объявляется через `ключевое слово` **def()**. \n",
    "\n",
    "После него следует имя функции (к нему применяются все правила относительно именования переменных). Затем в круглых скобках указывают переданные функции параметры - их может не быть, тогда в круглых скобках ничего не указывается. После скобок ставится двоеточие, и во вложенном блоке описывается тело функции.\n",
    "\n",
    "Между строкой объявления функции (**def nameFunc():**) и телом функции может быть помещена строка документации - docstring, которая вызывается особым методом .\\__doc\\__, который можно применить к любому объекту. Это удобный способ документировать пользовательский код.\n",
    "\n",
    "<a id='call'></a>\n",
    "### Вызов функции\n",
    "[Наверх](#up)\n",
    "\n",
    "Чтобы вызвать функцию, необходимо написать её имя, открыть круглую скобку и через запятую передать ей необходимые параметры-переменные. Вызов функции всегда сопровождается круглыми скобками, даже если ей не передаётся никаких параметров.\n",
    "\n",
    "**N.B.** \n",
    "*На имя функции налагаются те же ограничения и рекомендации, что и на переменную. Так имя функции не может совпадать с ключевыми словами, также следует избегать совпадения имён пользовательских функций и встроенных идентификаторов (**len()**, например). Имя функции лучше начинать со строчного символа (заглавная буква является негласным признаком класса).*\n",
    "\n",
    "Так как Python выполняет команды сверху вниз, то в момент вызова функции она должна быть уже объявлена и описана. Иначе говоря сначала нужно описать функцию, а затем уже её вызывать. Поэтому имеет смысл размещать функции в главном модуле в начале программы (в fortran - наоборот, сначала шла основная программа, а затем после неё перечислялись подпрограммы subroutine и функции function)."
   ]
  },
  {
   "cell_type": "code",
   "execution_count": null,
   "metadata": {},
   "outputs": [],
   "source": [
    "# Пользовательская функция printer\n",
    "\n",
    "def printer(s):\n",
    "    '''\n",
    "    Это пользовательская функция \"printer\"\\n\n",
    "    Описание функции называется строкой документации\\n\n",
    "    и вызывается с помощью метода __doc__\n",
    "    '''\n",
    "    print('sfdsfds {:s}'.format(s))\n",
    "\n",
    "s = 'Sasha'\n",
    "printer(s)\n",
    "print(printer.__doc__)\n",
    "#print(np.array.__doc__)"
   ]
  },
  {
   "cell_type": "code",
   "execution_count": null,
   "metadata": {},
   "outputs": [],
   "source": [
    "# Пользовательский класс с методом printer2 внутри класса\n",
    "# Функции внутри класса Функуии называются МЕТОДАМИ\n",
    "\n",
    "class MED():\n",
    "    def __init__(self, s):\n",
    "        self.printer2(s)\n",
    "    def printer2(self, s):\n",
    "        print(s)\n",
    "s = 'Sasha'     \n",
    "med = MED(s)"
   ]
  },
  {
   "cell_type": "markdown",
   "metadata": {},
   "source": [
    "<a id='return'></a>\n",
    "### return\n",
    "\n",
    "[Наверх](#up)\n",
    "\n",
    "Все параметры функции (объекты и переменные, которые узказываются в круглых скобках функции) в python являются ВХОДЯЩИМИ! \n",
    "\n",
    "Чтобы вернуть результат выполнения функции в ту программную единицу, из которой она была вызвана, существует ключевое слово **return**.\n",
    "\n",
    "Все переменные в функции являются **локальными** и забываются системой сразу после окончания исполнения функции. Чтобы сохранить результат функции и используют **return**. Оно также находится на расстоянии в 4 пробела от начала объявления функции (обычно это начало строки, но необязательно). После ключевого слово ставится пробел, а далее через запятую перечисляются необходимые объекты (числа, строки, списки, словари, массивы, функции и т.д.).\n",
    "\n",
    "Данная конструкция не является обязательно для функции **def**. Если возращается несколько объектов, а ссылка при вызове функции всего одна, то ссылка будет привязана к КОРТЕЖУ из возвращённых объектов. "
   ]
  },
  {
   "cell_type": "code",
   "execution_count": null,
   "metadata": {},
   "outputs": [],
   "source": [
    "def powerxy1(x, y):\n",
    "    return x**y\n",
    "\n",
    "def powerxy2(x, y):\n",
    "    z = x**y\n",
    "    zm = -x**y\n",
    "    return z, zm, z, zm\n",
    "    \n",
    "x = 2\n",
    "y = 4\n",
    "\n",
    "f1 = powerxy1(x, y)\n",
    "print(type(f1), f1)\n",
    "\n",
    "f2 = powerxy2(x, y)\n",
    "print(type(f2), f2)\n",
    "\n",
    "x1, *y1 = powerxy2(x, y)\n",
    "print(type(x1), x1)\n",
    "print(type(y1), y1)"
   ]
  },
  {
   "cell_type": "markdown",
   "metadata": {},
   "source": [
    "<a id='local'></a>\n",
    "### Локальные и глобальные переменные\n",
    "[Наверх](#up)\n",
    "\n",
    "Все переменные в функции являются **локальными** и забываются системой сразу после окончания исполнения функции. \n",
    "\n",
    "Помимо локальных переменных существуют также **глобальные** переменные. Все переменные, которые объявляются в основном потоке исполенения скрипта, а не в фукнциях и классах, являются **глобальными** по умолчанию!\n",
    "\n"
   ]
  },
  {
   "cell_type": "code",
   "execution_count": null,
   "metadata": {},
   "outputs": [],
   "source": [
    "def abc(b):\n",
    "    '''\n",
    "    bc - локальная переменная\n",
    "    '''\n",
    "    bc = str(b)\n",
    "# можно напечатать переменную a, т.к. она глобальная\n",
    "    print('Это значение глобальной переменной a: {}'.format(a))\n",
    "    \n",
    "    return bc\n",
    "\n",
    "a = 2   # это глобальная переменная \n",
    "d = abc(3)"
   ]
  },
  {
   "cell_type": "markdown",
   "metadata": {},
   "source": [
    "Что это практически означает для пользователя? А то, что глобальными переменными можно пользоваться внутри функций и классов без их прямой передачи в функцию или класс! Это удобно, но может служить источником ошибок, которые сложно отследить. Особая опасность возникает для объектов, которые относятся к изменияемым типам данных (списки, словари, numpy-массивы, pandas-таблицы и т.д.)."
   ]
  },
  {
   "cell_type": "code",
   "execution_count": null,
   "metadata": {},
   "outputs": [],
   "source": [
    "import math\n",
    "\n",
    "def hypo(a, b):\n",
    "    '''\n",
    "    a,b - неизменяемые типы данных (числа)\n",
    "    '''\n",
    "    a = a + 3\n",
    "    b = b - 1\n",
    "    c = math.sqrt(a**2 + b**2)\n",
    "    \n",
    "    return c\n",
    "\n",
    "x = 35\n",
    "y = 45\n",
    "\n",
    "print('1 - BEFORE:', x, y)\n",
    "hypo(x, y)\n",
    "print('1 - AFTER:', x, y)"
   ]
  },
  {
   "cell_type": "markdown",
   "metadata": {},
   "source": [
    "Но всё меняется, когда в функцию приходят они - изменяемые объекты!"
   ]
  },
  {
   "cell_type": "code",
   "execution_count": null,
   "metadata": {},
   "outputs": [],
   "source": [
    "# Изменяемые типы данных\n",
    "def change(a, xa, b, xb):\n",
    "    if xa in a: \n",
    "        i = a.index(xa)\n",
    "        a[i] = -99.\n",
    "        \n",
    "    if xb in b:\n",
    "        b[xb] = '0'\n",
    "\n",
    "x = list(range(34))\n",
    "xa = 17\n",
    "y = {'one':1, 'two':2, 'three':3}\n",
    "ya = 'two'\n",
    "\n",
    "print ('2 - BEFORE:', x[15:20], y)\n",
    "change(x, xa, y, ya)\n",
    "print ('2 - AFTER:', x[15:20], y)"
   ]
  },
  {
   "cell_type": "code",
   "execution_count": null,
   "metadata": {},
   "outputs": [],
   "source": [
    "# Изменяемые типы данных - массивы\n",
    "\n",
    "\n",
    "def achan(lst):\n",
    "    if len(lst) > 10: \n",
    "        lst[10] = -99\n",
    "    else:\n",
    "        lst[0] = lst[-1]\n",
    "\n",
    "n = 20\n",
    "a = list(range(n))\n",
    "\n",
    "print('3 - BEFORE:', a[9:16])\n",
    "achan(a)\n",
    "print('3 - AFTER:', a[9:16])"
   ]
  },
  {
   "cell_type": "markdown",
   "metadata": {},
   "source": [
    "Стоит сказать, что можно использовать одинаковые имена переменных в скрипте и в функции. В этом случае переменная в функции будет локальной и не связаной с одноименной глобальной переменной вне функции (разные пространства имён)."
   ]
  },
  {
   "cell_type": "code",
   "execution_count": null,
   "metadata": {},
   "outputs": [],
   "source": [
    "def abc(a, b):\n",
    "    '''\n",
    "    В данном примере a,b,c в функции и a,b,c в скрпите ниже суть\\n\n",
    "    разные переменные!\n",
    "    '''\n",
    "    a = a + 1\n",
    "    c = a + b\n",
    "\n",
    "    return c\n",
    "\n",
    "a = 0\n",
    "b = 3.14\n",
    "c = abc(a, b)\n",
    "print(abc.__doc__)"
   ]
  },
  {
   "cell_type": "markdown",
   "metadata": {},
   "source": [
    "Даже с изменяеми типами данных \"переменные-тёзки\" не будут мешать друг другу. Важен способо и порядок их передачи в функцию, а также происходит ли что-то с содержимым изменяемых объектов или нет."
   ]
  },
  {
   "cell_type": "code",
   "execution_count": null,
   "metadata": {},
   "outputs": [],
   "source": [
    "def foo(a, b):\n",
    "    '''\n",
    "    a - первый аргумент (в него будет передано значение глобальной переменной b=25)\n",
    "    b - второй аргумент (в него будет передано значение глобальной переменной a=list(range(N)))\n",
    "    '''\n",
    "    b.append(a+2)\n",
    "    \n",
    "    return b\n",
    "\n",
    "N = 15\n",
    "a = list(range(N))\n",
    "print(a)\n",
    "\n",
    "b = 25\n",
    "c = foo(b, a)\n",
    "\n",
    "print(a)"
   ]
  },
  {
   "cell_type": "markdown",
   "metadata": {
    "collapsed": true
   },
   "source": [
    "<a id='def_params'></a>\n",
    "## Аргументы функции\n",
    "[Наверх](#up)\n",
    "\n",
    "Объекты, которые передаются функции, или `Аргументы` могут быть:\n",
    "\n",
    "+ **обязательными**;\n",
    "+ **необязательными**.\n",
    "\n",
    "Если при вызове функции ей не будет переданы все обязательные аргументы, указанные в описании функции (в скобках в строке с `def`), то произойдёт ошибка. \n",
    "\n",
    "Необязательные аргументы всегда имеют некоторое предописанное состояние, так что их можно передавать при вызове функции, а можно и не передавать.\n",
    "\n",
    "**Обязательные** аргументы в описании функции обозначаются как *имена переменных*, а **необязательные**, как *имена переменных = некоторое значение\"*."
   ]
  },
  {
   "cell_type": "code",
   "execution_count": null,
   "metadata": {},
   "outputs": [],
   "source": [
    "'''\n",
    "my_function - имя функции;\n",
    "a - обязательный аргумент;\n",
    "b - необязательный аргумент.\n",
    "'''\n",
    "\n",
    "def my_function(a, b=10): \n",
    "    pass"
   ]
  },
  {
   "cell_type": "code",
   "execution_count": null,
   "metadata": {},
   "outputs": [],
   "source": [
    "# Обязательные и необязательные аргументы\n",
    "\n",
    "import math\n",
    "\n",
    "def call_me(ans, name='дорогой пользователь'):\n",
    "    '''\n",
    "    Функция округляет все действительные числа до целых\n",
    "    '''\n",
    "    ss = ('Здравствуйте, {}! Оставьте, пожалуйста,'\n",
    "         'свой номер телефона (7 цифр):'.format(name))\n",
    "    phone = input(ss)\n",
    "    ans = False\n",
    "    if not str(phone).isdigit():\n",
    "        print ('Номер должен содержать только цифры!')\n",
    "    else:\n",
    "        if len(phone) < 7:\n",
    "            print ('Номер слишком короткий!')\n",
    "        elif len(phone) > 7:\n",
    "            print ('Номер слишком длинный!')\n",
    "        else:\n",
    "            print ('Спасибо! Мы обязательно перезвоним вам!')\n",
    "            ans = True\n",
    "    return ans\n",
    "\n",
    "ans = False\n",
    "myname = 'Павел'\n",
    "while not ans:\n",
    "    ans = call_me(ans)\n",
    "#    ans = call_me(ans, myname)\n",
    "print('До скоро свидания!')"
   ]
  },
  {
   "cell_type": "markdown",
   "metadata": {},
   "source": [
    "**Необязательные аргументы функции ВСЕГДА указываются после обязательных!** Такое жёсткое правило связано с поддержкой языком python нескольких типов обращения к параметрам функции. Их два:\n",
    "\n",
    "1. **позиционный** - когда связывание переданных в функцию аргументов, описанными в конструкторе функции, происходит по принципу \"слева направо, последовательно\".\n",
    "\n",
    "2. **по ключу** - когда при передаче аргумента в функцию он связывается с конкретным именем в описании функции. Похоже на обращение к элементам словаря по ключам.\n",
    "\n",
    "В общем случае аргументы передаются слева направо."
   ]
  },
  {
   "cell_type": "code",
   "execution_count": 4,
   "metadata": {},
   "outputs": [
    {
     "name": "stdout",
     "output_type": "stream",
     "text": [
      "1 0 12 -12\n",
      "12 14 55 -12\n",
      "2 5 4 9\n",
      "12 14 94 True\n",
      "12 14 78 -9\n"
     ]
    }
   ],
   "source": [
    "def abc(a, b, c=12, d=-12):\n",
    "    '''\n",
    "    У функции два обязательных a и b\\n\n",
    "    И два необязательных параметра c и d\n",
    "    '''\n",
    "    print(a, b, c, d)\n",
    "\n",
    "# Функция требует минимум два аргумента, но можно передать и 2, и 3, и 4.\n",
    "abc(1, 0)\n",
    "abc(12, 14, 55)\n",
    "abc(2, 5, 4, 9)\n",
    "abc(12, 14, c=94, d=True)\n",
    "abc(12, 14, d=-9, c=78)  # Присваивание по ключу"
   ]
  },
  {
   "cell_type": "markdown",
   "metadata": {},
   "source": [
    "Сопоставление по ключам очень удобно использовать, если функция имеет несколько необязательных параметров. В этом случае не нужно перечислять все значения, а достаточно присвоить значение лишь нужному параметру."
   ]
  },
  {
   "cell_type": "code",
   "execution_count": null,
   "metadata": {},
   "outputs": [],
   "source": [
    "# Типы передачи параметров функции\n",
    "\n",
    "def f_sum(a=2, b=3, c=4): # Все параметры являются необязательными\n",
    "    print (a + b + c)\n",
    "\n",
    "f_sum()\n",
    "f_sum(20) # Позиционное присваивание\n",
    "f_sum(2, 3, 20) # Позиционное присваивание\n",
    "f_sum(c=20) # Присваивание по ключу\n",
    "f_sum(1, c=34) # Присваивание по ключу"
   ]
  },
  {
   "cell_type": "markdown",
   "metadata": {},
   "source": [
    "<a id='def_examples'></a>\n",
    "### Примеры функций\n",
    "[Наверх](#up)\n",
    "\n",
    "В качестве \"географических\" функций приведём следуюшие примеры:\n",
    "    \n",
    "+ формула гаверсинуса для расчёта расстояний между двумя точками на шаре (приближение формы Земли);\n",
    "\n",
    "+ формула корреляции Пирсона;\n",
    "\n",
    "<a id='haversine'></a>\n",
    "#### Формула гаверсинуса\n",
    "[Вверх](#up)"
   ]
  },
  {
   "cell_type": "code",
   "execution_count": 1,
   "metadata": {},
   "outputs": [
    {
     "data": {
      "image/gif": "[encoded data removed]",
      "text/plain": [
       "<IPython.core.display.Image object>"
      ]
     },
     "execution_count": 1,
     "metadata": {},
     "output_type": "execute_result"
    }
   ],
   "source": [
    "from IPython.display import Image\n",
    "Image('./pictures/haver.gif')"
   ]
  },
  {
   "cell_type": "code",
   "execution_count": 24,
   "metadata": {},
   "outputs": [
    {
     "name": "stdout",
     "output_type": "stream",
     "text": [
      "От Москвы до Санкт-Петербурга 622.71 км\n"
     ]
    }
   ],
   "source": [
    "# Формула гаверсинусов\n",
    "\n",
    "import math\n",
    "\n",
    "def haversine(origin, destination, radius=6371.):\n",
    "    '''\n",
    "    Points are tuples of (latitude, longitude)\n",
    "\n",
    "    radius=6371. km\n",
    "    '''\n",
    "    lat1, lon1 = origin\n",
    "    lat2, lon2 = destination\n",
    "\n",
    "    dlat = math.radians(lat2-lat1)\n",
    "    dlon = math.radians(lon2-lon1)\n",
    "    a = math.sin(dlat/2.) * math.sin(dlat/2.) + math.cos(math.radians(lat1)) \\\n",
    "        * math.cos(math.radians(lat2)) * math.sin(dlon/2.) * math.sin(dlon/2.)\n",
    "    c = 2 * math.atan2(math.sqrt(a), math.sqrt(1.-a))\n",
    "    d = radius * c\n",
    "\n",
    "    return d\n",
    "\n",
    "MSK = (55.76, 37.61)  # 55°45′21″ с. ш. 37°37′04″ в. д.\n",
    "SPB = (59.95, 30.61) # 59°57′00″ с. ш. 30°19′00″ в. д. (G) (O) (Я)\n",
    "\n",
    "print('От Москвы до Санкт-Петербурга {:.2f} км'.format(haversine(SPB, MSK)))"
   ]
  },
  {
   "cell_type": "markdown",
   "metadata": {},
   "source": [
    "<a id='pearson'></a>\n",
    "#### Формула корреляции Пирсона\n",
    "[Вверх](#up)"
   ]
  },
  {
   "cell_type": "code",
   "execution_count": 2,
   "metadata": {},
   "outputs": [
    {
     "data": {
      "image/png": "[encoded data removed]",
      "text/plain": [
       "<IPython.core.display.Image object>"
      ]
     },
     "execution_count": 2,
     "metadata": {},
     "output_type": "execute_result"
    }
   ],
   "source": [
    "from IPython.display import Image\n",
    "Image('./pictures/pearson.png')"
   ]
  },
  {
   "cell_type": "code",
   "execution_count": 25,
   "metadata": {},
   "outputs": [
    {
     "name": "stdout",
     "output_type": "stream",
     "text": [
      "[35 46 56 43  2 59 54  0 38 10 36 13 25 33 53 26 58 37 11 16 41 47 51 30\n",
      " 22  1 17 44 57 50 21 24 29  9 52 42  8 39 23 14 45 19 31 18  4 49  3 15\n",
      " 55 20 40 48 34 32 27  5 28  7  6 12]\n",
      "[ 4  6 33 32 10 41  1 43 29 12 13  7 42 48  5 37 22 35  3 45 46 24 47 56\n",
      " 52 20  0 11 26 17  2 51 30 57  8 31 15 23 21 25 28 39 44 55 49 54 59 18\n",
      " 53 58 34 50  9 38 27 19 40 36 16 14]\n",
      "CC from def cc: -0.020\n",
      "CC from numpy: -0.020\n"
     ]
    }
   ],
   "source": [
    "# Коэффициент корреляции Пирсона \n",
    "\n",
    "import random\n",
    "import numpy as np\n",
    "\n",
    "def pirson_cc(x, y):\n",
    "    '''\n",
    "    Это строка документирования!\n",
    "    Функция вычисляет для двух последовательностей \\\n",
    "    коэффициент корреляции Пирсона.\n",
    "    \n",
    "    Входящие параметры:\n",
    "    ===================\n",
    "    \n",
    "    **x [ndarray]** - одномерный массив длины N;\n",
    "    **y [ndarray]** - одномерный массив длины N;\n",
    "    \n",
    "    Результат выполнения функции:\n",
    "    =============================\n",
    "    **сс [float]** - коэффициент корреляции Пирсона.\n",
    "    '''\n",
    "    \n",
    "    xm = x.mean()\n",
    "    ym = y.mean()\n",
    "\n",
    "    a = 0\n",
    "    b1 = 0\n",
    "    b2 = 0\n",
    "    for xi, yi in zip(x, y):\n",
    "        a += (xi - xm)*(yi - ym)\n",
    "        b1 += (xi - xm)**2 \n",
    "        b2 += (yi - ym)**2\n",
    "    b = np.sqrt(b1*b2)\n",
    "    \n",
    "    cc = a/b\n",
    "    \n",
    "    return cc\n",
    "\n",
    "N = 60\n",
    "# методы списка + модуль random\n",
    "a = list(range(N))\n",
    "random.shuffle(a)\n",
    "a = np.array(a)\n",
    "\n",
    "# модуль numpy\n",
    "b = np.arange(N)\n",
    "np.random.shuffle(b)\n",
    "\n",
    "print (a)\n",
    "print (b)\n",
    "print ('CC from def cc: %.3f' % pirson_cc(a, b))\n",
    "print ('CC from numpy: %.3f' % np.corrcoef(a, b)[0][1])"
   ]
  },
  {
   "cell_type": "markdown",
   "metadata": {},
   "source": [
    "<a id='def_unpack'></a>\n",
    "### Распаковка аргументов\n",
    "[Наверх](#up)\n",
    "\n",
    "Помимо передачи по позициям и по ключам, существует способ задать в функции переменное число аргументов. Оно будет зависеть от конкретной реализации вызова функции.\n",
    "\n",
    "Передавать можно последовательности и словари. За последовательности отвечает символ звёздочка, а за словари - две звёздочки. Распространёнными именами переменных являются:\n",
    "\n",
    "+ для последовательности ***args**\n",
    "+ для словаря ****kwargs**\n",
    "\n",
    "Собственно `args` и `kwargs` - это произвольные имена переменных для распаковки. \n",
    "\n",
    "Принято использовать именно такие имена, поэтому их часто можно встретить. Но такими они быть не обязаны. Так имена `*foo` и `**dic` ничем не хуже.\n",
    "\n",
    "Зная имена таких переменных, их можно использовать для итерационного перебора, либо перебора по ключам.\n",
    "\n",
    "> Звёздочки необходимо указывать как при описании функции, так и при передаче аргументов при вызове функции."
   ]
  },
  {
   "cell_type": "code",
   "execution_count": 13,
   "metadata": {},
   "outputs": [
    {
     "name": "stdout",
     "output_type": "stream",
     "text": [
      "190 0 1 2 3 4 5 6 7 8 9 10 11 12 13 14 15 16 17 18 19\n",
      "78 0 1 2 3 4 5 6 7 8 9 10 11 12\n",
      "Key in kwargs: A\n",
      "Key in kwargs: Sasha\n",
      "Key in kwargs: Ginger\n"
     ]
    }
   ],
   "source": [
    "# Универсальная функция\n",
    "\n",
    "def unpack(*args, **kwargs):\n",
    "    '''\n",
    "    '''\n",
    "    \n",
    "    for a in args:\n",
    "        print(sum(a), *a)\n",
    "        \n",
    "    for s in kwargs:\n",
    "        print('Key in kwargs: {}'.format(s))\n",
    "    \n",
    "dic = {'A' : 22, \"Sasha\" : 45, 'Ginger' : 3}   # словарь\n",
    "box = [list(range(20)), list(range(13))]   # список списков\n",
    "\n",
    "unpack(*box, **dic)"
   ]
  },
  {
   "cell_type": "markdown",
   "metadata": {},
   "source": [
    "Можно комбинировать передачу аргументов разных способов соблюдая очередность:\n",
    "    \n",
    "1. сначала **позиционные** аргументы;\n",
    "\n",
    "2. далее **распаковка по позициям**;\n",
    "\n",
    "3. потом аргументы **по ключам**;\n",
    "\n",
    "4. наконец **распаковка словарей**.\n",
    "\n",
    "> Важно соблюдать указанный порядок, иначе поведение функции может привести к ошибке!"
   ]
  },
  {
   "cell_type": "code",
   "execution_count": 15,
   "metadata": {},
   "outputs": [
    {
     "name": "stdout",
     "output_type": "stream",
     "text": [
      "10 10\n"
     ]
    }
   ],
   "source": [
    "# Короткий вариант\n",
    "\n",
    "import random\n",
    "\n",
    "def abc(a, *coors, b=20):\n",
    "    '''\n",
    "    '''\n",
    "    y = a + b\n",
    "    newc = []\n",
    "    for i, cor in enumerate(coors):\n",
    "        z = (cor - random.random()*10.)/y\n",
    "        newc.append(z)\n",
    "#    print(newc)\n",
    "    \n",
    "    return newc\n",
    "\n",
    "box = list(range(-10, 0))\n",
    "xx = abc(10, *box)\n",
    "#print(xx)\n",
    "print(len(box), len(xx))"
   ]
  },
  {
   "cell_type": "code",
   "execution_count": 16,
   "metadata": {},
   "outputs": [
    {
     "name": "stdout",
     "output_type": "stream",
     "text": [
      "0,1,2,3,4,5,6,7,8,9,It is a 0 key: A\n",
      "It is a 1 key: Sasha\n",
      "It is a 2 key: Ginger\n",
      "10 10\n",
      "Saratov\n"
     ]
    }
   ],
   "source": [
    "# Полный вариант синтаксиса\n",
    "\n",
    "import random\n",
    "\n",
    "def abc(a, *coors, b=20, city='Moscow', **kw):\n",
    "    '''\n",
    "    '''\n",
    "    y = a + b\n",
    "    newc = []\n",
    "\n",
    "    for i, cor in enumerate(coors):\n",
    "        print(i, end=',')\n",
    "        z = (cor - random.random()*10.)/y\n",
    "        newc.append(z)\n",
    "\n",
    "    for j, k in enumerate(kw):\n",
    "        print('It is a {} key: {}'.format(j, k))\n",
    "    \n",
    "    return newc, city\n",
    "\n",
    "box = list(range(10))\n",
    "dic = {'A' : 22, \"Sasha\" : 45, 'Ginger' : 3}   # словарь\n",
    "xx, town = abc(10, *box, city='Saratov', **dic)\n",
    "\n",
    "print(len(box), len(xx))\n",
    "print(town)"
   ]
  },
  {
   "cell_type": "markdown",
   "metadata": {},
   "source": [
    "<a id='lambda'></a>\n",
    "## Анонимные функции\n",
    "[Наверх](#up)\n",
    "\n",
    "В python есть т.н. \"анонимные функции\", т.е. функции без собственного имени. Обычно это совсем небольшие фрагменты кода (ограничение на одно выражение), которые востребованы при \"оборачивании\" функции другой функции (например, `map()`, которая принимает в качестве первого аргумента функцию). \n",
    "\n",
    "`Lambda-функцию` можно использовать в любом месте программы, где ожидается использование функции.\n",
    "\n",
    "Иными словами для ряда функций (например **встроенной функции map()**) требуется передать функцию в качестве аргумента. Именно для таких случаев (обычно коротких) и используется анонимная функция, которая в языке python также называется `lambda-функцией`.\n",
    "\n",
    "За анонимные функции отвечает ключевое слово **lambda**. Оно имеет простую структуру, в общем виде после ключевого слова lambda перечисляются входящие аргументы, затем двоеточие и далее операторы и операции, которые необходимы.\n",
    "\n",
    "> af = lambda x, y: x + y\n",
    "\n",
    "У анонимной функции нет **return**, поэтому для возвращения результата необходимо передать анонимную функцию в переменную (af в данном примере). \n",
    "\n",
    "Анонимная функция также может иметь необязательные аргументы."
   ]
  },
  {
   "cell_type": "code",
   "execution_count": 22,
   "metadata": {},
   "outputs": [
    {
     "name": "stdout",
     "output_type": "stream",
     "text": [
      "[-25, -24, -23, -22, -21, -20, -19, -18, -17, -16, -15, -14, -13, -12, -11, -10, -9, -8, -7, -6, -5, -4, -3, -2, -1]\n"
     ]
    }
   ],
   "source": [
    "import math\n",
    "\n",
    "box = range(-25, 10)\n",
    "new = list(filter(lambda x: x < 0, box))\n",
    "\n",
    "print(new)"
   ]
  },
  {
   "cell_type": "code",
   "execution_count": 23,
   "metadata": {},
   "outputs": [
    {
     "name": "stdout",
     "output_type": "stream",
     "text": [
      "1. -8\n",
      "2. 19\n",
      "3.-27\n"
     ]
    }
   ],
   "source": [
    "# Простая lambda-функция\n",
    "f = lambda x, y=10: x - y\n",
    "\n",
    "a = 2\n",
    "b = -17\n",
    "\n",
    "print('1. {}\\n2. {}\\n3.{}'.format(f(a), f(a, b), f(b)))"
   ]
  },
  {
   "cell_type": "code",
   "execution_count": 28,
   "metadata": {},
   "outputs": [
    {
     "name": "stdout",
     "output_type": "stream",
     "text": [
      "<class 'numpy.ndarray'>\n",
      "[-75.86885246 -68.63934426 -61.40983607 -54.18032787 -46.95081967\n",
      " -39.72131148 -32.49180328 -25.26229508 -18.03278689]\n"
     ]
    }
   ],
   "source": [
    "# Более сложная лямбда-функция\n",
    "\n",
    "import numpy as np\n",
    "\n",
    "fi = lambda ss, dd: dd[np.where([(i % 7 == 0) for i in ss])]\n",
    "\n",
    "zz = list(range(1949, 2011))   # some time data\n",
    "tt = np.linspace(-80, -17, len(zz))   # some data\n",
    "\n",
    "x = fi(zz, tt)\n",
    "print(type(x))\n",
    "print(x)"
   ]
  },
  {
   "cell_type": "code",
   "execution_count": 32,
   "metadata": {},
   "outputs": [
    {
     "name": "stdout",
     "output_type": "stream",
     "text": [
      "30/10/2018 : day of the Year is 303\n"
     ]
    }
   ],
   "source": [
    "import pandas as pd\n",
    "\n",
    "tc = lambda x: x.strftime('%j')\n",
    "\n",
    "s = '30/10/2018'\n",
    "date1 = pd.to_datetime(s, format='%d/%m/%Y')\n",
    "doy = tc(date1)\n",
    "print('{} : day of the Year is {}'.format(s, doy))"
   ]
  },
  {
   "cell_type": "markdown",
   "metadata": {},
   "source": [
    "<a id='ff'></a>\n",
    "## Функция от функции\n",
    "[Вверх](#up)\n",
    "\n",
    "Помимо процедурного и объектно-ориентированного стилей или (парадигм) программирования, в python также реализованы элементы **[функционального программирования](https://ru.wikipedia.org/wiki/Функциональное_программирование)**.\n",
    "\n",
    "**[Числа Фибоначи](https://ru.wikipedia.org/wiki/Числа_Фибоначчи)** — элементы числовой последовательности. \n",
    "\n",
    "> 0, 1, 1, 2, 3, 5, 8, 13, 21, 34, 55, 89, 144, 233, 377, 610, 987, 1597, 2584, 4181, 6765, 10946, 17711, …\n",
    "\n",
    "Среди элементов ФП стоит отметить `рекурсию`, т.е. возможность функции вызывать саму себя. Так например задача о числах Фибоначи может быть решена на python так:"
   ]
  },
  {
   "cell_type": "code",
   "execution_count": 23,
   "metadata": {},
   "outputs": [
    {
     "name": "stdout",
     "output_type": "stream",
     "text": [
      "0 1\n",
      "1 1\n",
      "2 1\n",
      "3 2\n",
      "4 3\n",
      "5 5\n",
      "6 8\n",
      "7 13\n",
      "8 21\n",
      "9 34\n"
     ]
    }
   ],
   "source": [
    "def fib(n):\n",
    "    if n > 2:\n",
    "        return fib(n - 1) + fib(n - 2)\n",
    "    else:\n",
    "        return 1\n",
    "\n",
    "for i in range(10):\n",
    "    print(i, fib(i))"
   ]
  },
  {
   "cell_type": "markdown",
   "metadata": {},
   "source": [
    "Тот же самый алгоритм с использованием лямбда-функции."
   ]
  },
  {
   "cell_type": "code",
   "execution_count": 22,
   "metadata": {},
   "outputs": [
    {
     "name": "stdout",
     "output_type": "stream",
     "text": [
      "0 1\n",
      "1 1\n",
      "2 1\n",
      "3 2\n",
      "4 3\n",
      "5 5\n",
      "6 8\n",
      "7 13\n",
      "8 21\n",
      "9 34\n"
     ]
    }
   ],
   "source": [
    "fib = lambda n: fib(n - 1) + fib(n - 2) if n > 2 else 1\n",
    "\n",
    "for i in range(10):\n",
    "    print(i, fib(i))"
   ]
  },
  {
   "cell_type": "markdown",
   "metadata": {},
   "source": [
    "<a id='deco'></a>\n",
    "### Декораторы\n",
    "[Вверх](#up)\n",
    "\n",
    "`Декоратором` называют функцию, которая принимает другую функцию в качестве аргумента. Обычно декоратор расширяет функционал исходной функции или изменяет её поведение.\n",
    "\n",
    "Для декораторов создан особый синтаксис: декоратор оборачивает функцию, располагаясь над строкой с **def()** функции, которую он оборачивает, в виде строки, начинающейся с символа @имя_функции_декоратора."
   ]
  },
  {
   "cell_type": "code",
   "execution_count": 21,
   "metadata": {},
   "outputs": [
    {
     "name": "stdout",
     "output_type": "stream",
     "text": [
      "ДО : 1 97\n",
      "Текст ДО вызова оборачиваемой функции\n",
      "Текст ПОСЛЕ вызова оборачиваемой функции\n",
      "ПОСЛЕ : 14 -33\n"
     ]
    }
   ],
   "source": [
    "def deco(f):\n",
    "    '''\n",
    "    '''\n",
    "    def foo(a):\n",
    "        print('Текст ДО вызова оборачиваемой функции')\n",
    "        a.append(-33)\n",
    "        f(a)\n",
    "        print('Текст ПОСЛЕ вызова оборачиваемой функции')\n",
    "        \n",
    "    return foo\n",
    "        \n",
    "@deco  # это вызов декоратора   \n",
    "def abc(a):\n",
    "    '''\n",
    "    '''\n",
    "    a.append(-99)\n",
    "    a.insert(0, 14)\n",
    "\n",
    "N = 100\n",
    "x = [s for s in range(N) if s % 3 != 0]\n",
    "print('ДО :', x[0], x[-2])\n",
    "r = abc(x)\n",
    "print('ПОСЛЕ :', x[0], x[-2])"
   ]
  },
  {
   "cell_type": "markdown",
   "metadata": {},
   "source": [
    "Сложно и непонятно зачем это всё? Правильно, нужно хорошо подумать, чтобы привести пример, когда вместо хорошо продуманной функции необходимо её оборачивать другой функцией.\n",
    "\n",
    "Вот [одно из объяснений (**\"ЗАЧЕМ, Карл!?\"**)](https://ru.stackoverflow.com/questions/621861/ЗАЧЕМ-нужны-декораторы-НЕ-как-они-работают-а-ЗАЧЕМ):\n",
    "\n",
    "*\"Декораторы — по сути реализация аспектно-ориентированного программирования в Питоне.*\n",
    "\n",
    "*Вы определяете логику или функциональность отдельно от функций, которые будут пользоваться этой функциональностью. Возможно, эту логику разрабатывает для вас другая команда. Пример с логированием, который вы видели практически везде, или те же транзакции — один из возможных примеров аспекта-функциональности. Затем вы влёгкую можете подключить использование этого аспекта без ручного переписывания функций, просто добавлением или убиранием атрибута.*\n",
    "\n",
    "*В любом случае, атрибут — часть вашего исходного кода. Если вы хотите, чтобы недекорированная функция была доступна, вы можете просто не ставить декоратор. Или иметь отдельно недекорированную функцию, и отдельно её декорированный вариант, который вызывает недекорированный. Или дописать функциональность, которую вносил декоратор, вручную (но в этом случае вам нужно будет обновить ваш код, если в декораторе произойдут изменения, например, багфикс; это обычная проблема дубляжа кода.)*\n",
    "\n",
    "*Декоратор просто позволяет вам добавлять функциональность легко.\"*\n",
    "\n",
    "Однако, через синтаксис декораторов реализованы некоторые конструкции, с которыми мы познакомимся чуть позже. Например, `\"свойства\" (@property)` или `\"статические методы классов (@classmethod)\"`\n",
    "\n",
    "[Вверх](#up)"
   ]
  },
  {
   "cell_type": "code",
   "execution_count": null,
   "metadata": {},
   "outputs": [],
   "source": []
  }
 ],
 "metadata": {
  "kernelspec": {
   "display_name": "Python 3",
   "language": "python",
   "name": "python3"
  },
  "language_info": {
   "codemirror_mode": {
    "name": "ipython",
    "version": 3
   },
   "file_extension": ".py",
   "mimetype": "text/x-python",
   "name": "python",
   "nbconvert_exporter": "python",
   "pygments_lexer": "ipython3",
   "version": "3.7.0"
  }
 },
 "nbformat": 4,
 "nbformat_minor": 1
}
