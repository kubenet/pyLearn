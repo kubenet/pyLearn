{
 "cells": [
  {
   "cell_type": "markdown",
   "metadata": {},
   "source": [
    "# P419 01 Типы данных\n",
    "\n",
    "Автор: Шабанов Павел Александрович\n",
    "\n",
    "Email: pa.shabanov@gmail.com\n",
    "\n",
    "URL: \n",
    "+ [Типы данных с сайта Programiz.com](https://www.programiz.com/python-programming/variables-datatypes)\n",
    "\n",
    "**Дата последнего обновления: 07.10.2018**\n",
    "\n",
    "### Цель: \n",
    "\n",
    "+ ознакомиться с синтаксисом операций для стандартных типов данных;\n",
    "\n",
    "+ показать особенности синтаксиса в python при выполнении математических операций.\n",
    "\n",
    "<a id='up'></a>\n",
    "### План\n",
    "\n",
    "1. [Типы данных](#datatypes)\n",
    "\n",
    "2. [Переменные](#variables)\n",
    "    + [правила имен переменных](#var_names);\n",
    "    + [ключевые слова](#keywords)\n",
    "    + [встроенные функции или идентификаторы](#built_in).\n",
    "    \n",
    "3. [Инициализация разных типов данных](#init_data)\n",
    "    + [числа](#numbers);\n",
    "    + [строки](#strings);\n",
    "    + [булевы переменные](#bools).\n",
    "\n",
    "4. [Заключение](#end)\n",
    "\n",
    "<a id=\"datatypes\"></a>\n",
    "## Типы данных\n",
    "[Вверх](#up)\n",
    "\n",
    "Тип данных - это характеристика объекта, позволяющая определить его возможности взаимодействия с другими объектами. Обычно типов данных в языке немного, ведь типы являются кирпичиками, из которых конструируется код. Необходим баланс между действительно базовыми и специальными, полезными для решения каких-либо конкретных задач, типами данных.\n",
    "\n",
    "Типичные примеры типов данных в процедурном программировании являются:\n",
    "\n",
    "+ числа (целые, действительные, комплексные);\n",
    "\n",
    "+ символы (строки);\n",
    "\n",
    "+ булевы выражения или переменные (Истина/Ложь);\n",
    "\n",
    "Более сложные типы данных, такие как последовательности, также могут иметь свой тип данных. Набор типов данных зависит от конкретного языка программирования.\n",
    "\n",
    "В python, как в языке поддерживающим ООП, все \"определённые\" типы данных являются классами. Соответственно, ничто не мешает, используя классы, создать свой тип данных. Однако это требуется не так часто, тем более, что создать действительно удобный и полезный новый тип данных сложно.\n",
    "\n",
    "В большинстве случаев, особенно при обучении основам языка, встроенных типов данных более чем достаточно.\n",
    "\n",
    "Вот неполный список типов данных python:\n",
    "\n",
    "+ **число**:\n",
    "    + целые - **int**;\n",
    "    + действительные - **float**;\n",
    "    + комплексные - **complex**.\n",
    "+ **строка**:\n",
    "    + обычная строка - **str**;\n",
    "    + r-строка (raw string) - **r'some_string'**;\n",
    "+ **булевы переменные** - **bool**;\n",
    "    + True\n",
    "    + False\n",
    "\n",
    "===========================================\n",
    "\n",
    "+ **последовательность**:\n",
    "    + упорядоченная:\n",
    "        + список - **list**;\n",
    "        + кортеж - **tuple**;\n",
    "    + неупорядоченная:\n",
    "        + множество - **set**.\n",
    "+ **отображение**:\n",
    "    + словарь - **dict**;\n",
    "+ **функция** - **function**;\n",
    "+ **файл** - **file**.\n",
    "\n",
    "Узнать тип данных объекта можно с помощью встроенной функции `type()`."
   ]
  },
  {
   "cell_type": "code",
   "execution_count": 7,
   "metadata": {},
   "outputs": [
    {
     "name": "stdout",
     "output_type": "stream",
     "text": [
      "\n",
      "Числа:\n",
      "<class 'int'><class 'float'><class 'complex'>\n",
      "Строки:\n",
      "<class 'str'><class 'str'>\n",
      "Булевы переменные:\n",
      "<class 'bool'><class 'bool'>"
     ]
    }
   ],
   "source": [
    "# Числа\n",
    "x = 123 # целое\n",
    "y = -20.5 # действительное\n",
    "z = complex(1, 2) # комплексное или 1 + 2j\n",
    "\n",
    "# генератор списка (использован для удобства)\n",
    "print('\\nЧисла:')\n",
    "[print(type(g), end='') for g in [x, y, z]]\n",
    "# Строки\n",
    "s1 = 'C: \\n users' # строка\n",
    "s2 = r'C: \\n users' # r-строка\n",
    "print('\\nСтроки:')\n",
    "# генератор списка (использован для удобства)\n",
    "[print(type(g), end='') for g in [s1, s1]]\n",
    "\n",
    "print('\\nБулевы переменные:')\n",
    "# Булевые переменные\n",
    "a, b = True, False # булева переменная (Истина)\n",
    "c = [print(type(g), end='') for g in [a, b]]"
   ]
  },
  {
   "cell_type": "code",
   "execution_count": 8,
   "metadata": {},
   "outputs": [
    {
     "name": "stdout",
     "output_type": "stream",
     "text": [
      "C: \n",
      " users\n",
      "C: \\n users\n"
     ]
    }
   ],
   "source": [
    "print(s1)\n",
    "print(s2)\n"
   ]
  },
  {
   "cell_type": "markdown",
   "metadata": {},
   "source": [
    "<a id=\"variables\"></a>\n",
    "## Переменные\n",
    "\n",
    "<a id=\"var_names\"></a>\n",
    "### Переменные и их имена\n",
    "[Вверх](#up)\n",
    "\n",
    "Основная работа при кодировании алгоритма - это создание различных переменных и отношений между ними (конструкции-контейнеры в виде ветвления, циклов, функций и др.). В python в переменных хранятся не сами данные (числа, строки, булевы выражения и др.), а ссылка на них. Это очень важно сразу усвоить! Переменная в python похожа на ярлык на коробке, но не является коробкой. Ярлык должен быть понятен читающему его человеку. Поэтому в больших программах не стоит использовать такие имена переменных как **a122** или \"gf34\" и т.д. \n",
    "\n",
    "**Переменная** - это имя, состоящее из букв, символов и цифр. Однако существуют ограничения как на состав имени, так и на порядок символов в имени.\n",
    "\n",
    "<a id='keywords'></a>\n",
    "### Ключевые слова. Keywords\n",
    "[Вверх](#up)\n",
    "\n",
    "Именем переменной не может быть ключевое слово. Вот список **зарезервированных ключевых слов**.\n",
    "\t\n",
    "> and , as , assert , break , class , continue , def , del , elif , else , except , exec , finally , for , from , global , if , import , in , is , lambda , not , or , pass , print , raise , return , try , while , with , yield\n",
    "\n",
    "[Список и краткое описания](https://pythonworld.ru/osnovy/klyuchevye-slova-modul-keyword.html) ключевых слов на портале Pythonworld.ru"
   ]
  },
  {
   "cell_type": "code",
   "execution_count": 9,
   "metadata": {},
   "outputs": [
    {
     "name": "stdout",
     "output_type": "stream",
     "text": [
      "False\n",
      "None\n",
      "True\n",
      "and\n",
      "as\n",
      "assert\n",
      "async\n",
      "await\n",
      "break\n",
      "class\n",
      "continue\n",
      "def\n",
      "del\n",
      "elif\n",
      "else\n",
      "except\n",
      "finally\n",
      "for\n",
      "from\n",
      "global\n",
      "if\n",
      "import\n",
      "in\n",
      "is\n",
      "lambda\n",
      "nonlocal\n",
      "not\n",
      "or\n",
      "pass\n",
      "raise\n",
      "return\n",
      "try\n",
      "while\n",
      "with\n",
      "yield\n",
      "\n",
      "< ===================== >\n",
      "def is a keyword\n"
     ]
    }
   ],
   "source": [
    "# Пример вывод ключевых слов\n",
    "\n",
    "import keyword\n",
    "a = keyword.kwlist   #- список всех доступных ключевых слов.\n",
    "\n",
    "\n",
    "for keyw in a:\n",
    "    print(keyw) #, end='')\n",
    "\n",
    "print('\\n< ===================== >')\n",
    "\n",
    "ss = 'def'\n",
    "if keyword.iskeyword(ss):\n",
    "    print(ss, 'is a keyword')\n",
    "else:\n",
    "    print(ss, 'is NOT a keyword. All OK')\n",
    "\n",
    "# Заметили ошибку в коде? ;)"
   ]
  },
  {
   "cell_type": "markdown",
   "metadata": {},
   "source": [
    "<a id='built_in'></a>\n",
    "### Встроенные функции или идентификаторы\n",
    "[Вверх](#up)\n",
    "\n",
    "Следует избегать использования имени **встроенных идентификаторов** при объявлении переменной. К встроенным идентификаторам относятся такие функции как **len()**, **list()**, **str()**, **zip()** и другие. Это не вызовет ошибки, но может привести к неочевидным последствиям при использовании.\n",
    "\n",
    "> [Список имён встроенных функций](https://docs.python.org/2/library/functions.html#built-in-funcs) языка python."
   ]
  },
  {
   "cell_type": "code",
   "execution_count": 10,
   "metadata": {},
   "outputs": [
    {
     "name": "stdout",
     "output_type": "stream",
     "text": [
      "['ArithmeticError', 'AssertionError', 'AttributeError', 'BaseException', 'BlockingIOError', 'BrokenPipeError', 'BufferError', 'BytesWarning', 'ChildProcessError', 'ConnectionAbortedError', 'ConnectionError', 'ConnectionRefusedError', 'ConnectionResetError', 'DeprecationWarning', 'EOFError', 'Ellipsis', 'EnvironmentError', 'Exception', 'False', 'FileExistsError', 'FileNotFoundError', 'FloatingPointError', 'FutureWarning', 'GeneratorExit', 'IOError', 'ImportError', 'ImportWarning', 'IndentationError', 'IndexError', 'InterruptedError', 'IsADirectoryError', 'KeyError', 'KeyboardInterrupt', 'LookupError', 'MemoryError', 'ModuleNotFoundError', 'NameError', 'None', 'NotADirectoryError', 'NotImplemented', 'NotImplementedError', 'OSError', 'OverflowError', 'PendingDeprecationWarning', 'PermissionError', 'ProcessLookupError', 'RecursionError', 'ReferenceError', 'ResourceWarning', 'RuntimeError', 'RuntimeWarning', 'StopAsyncIteration', 'StopIteration', 'SyntaxError', 'SyntaxWarning', 'SystemError', 'SystemExit', 'TabError', 'TimeoutError', 'True', 'TypeError', 'UnboundLocalError', 'UnicodeDecodeError', 'UnicodeEncodeError', 'UnicodeError', 'UnicodeTranslateError', 'UnicodeWarning', 'UserWarning', 'ValueError', 'Warning', 'WindowsError', 'ZeroDivisionError', '__IPYTHON__', '__build_class__', '__debug__', '__doc__', '__import__', '__loader__', '__name__', '__package__', '__spec__', 'abs', 'all', 'any', 'ascii', 'bin', 'bool', 'breakpoint', 'bytearray', 'bytes', 'callable', 'chr', 'classmethod', 'compile', 'complex', 'copyright', 'credits', 'delattr', 'dict', 'dir', 'display', 'divmod', 'enumerate', 'eval', 'exec', 'filter', 'float', 'format', 'frozenset', 'get_ipython', 'getattr', 'globals', 'hasattr', 'hash', 'help', 'hex', 'id', 'input', 'int', 'isinstance', 'issubclass', 'iter', 'len', 'license', 'list', 'locals', 'map', 'max', 'memoryview', 'min', 'next', 'object', 'oct', 'open', 'ord', 'pow', 'print', 'property', 'range', 'repr', 'reversed', 'round', 'set', 'setattr', 'slice', 'sorted', 'staticmethod', 'str', 'sum', 'super', 'tuple', 'type', 'vars', 'zip']\n"
     ]
    }
   ],
   "source": [
    "# Встроенные идентификаторы\n",
    "\n",
    "print(dir(__builtin__))"
   ]
  },
  {
   "cell_type": "markdown",
   "metadata": {},
   "source": [
    "#### Другие важные правила при использовании переменных\n",
    "\n",
    "Нельзя начинать имя переменной с цифры, но можно с буквы или символа подчеркивания!\n",
    "\n",
    "В имени переменной недопустимы следующие символы: **+, -, *, /, %, & и др.** Допускается нижнее подчёркивание.\n",
    "\n",
    "Хотя формально можно использовать **кириллицу** для описания имени переменной, лучше этого никогда не делать и использовать только буквы латинского алфавита в верхнем или нижнем регистре."
   ]
  },
  {
   "cell_type": "code",
   "execution_count": 11,
   "metadata": {},
   "outputs": [],
   "source": [
    "a = 2   # правильно\n",
    "cd_25 = 33   # правильно\n",
    "len = 7   # ОПАСНО, хотя ошибки нет: встроенная функция len переопределена"
   ]
  },
  {
   "cell_type": "code",
   "execution_count": 12,
   "metadata": {},
   "outputs": [
    {
     "ename": "SyntaxError",
     "evalue": "invalid syntax (<ipython-input-12-15190a850af8>, line 1)",
     "output_type": "error",
     "traceback": [
      "\u001b[1;36m  File \u001b[1;32m\"<ipython-input-12-15190a850af8>\"\u001b[1;36m, line \u001b[1;32m1\u001b[0m\n\u001b[1;33m    for = 7   # НЕправильно: for - ключевое (!) слово\u001b[0m\n\u001b[1;37m        ^\u001b[0m\n\u001b[1;31mSyntaxError\u001b[0m\u001b[1;31m:\u001b[0m invalid syntax\n"
     ]
    }
   ],
   "source": [
    "for = 7   # НЕправильно: for - ключевое (!) слово"
   ]
  },
  {
   "cell_type": "code",
   "execution_count": 13,
   "metadata": {},
   "outputs": [
    {
     "ename": "SyntaxError",
     "evalue": "invalid syntax (<ipython-input-13-61019d95e9fa>, line 1)",
     "output_type": "error",
     "traceback": [
      "\u001b[1;36m  File \u001b[1;32m\"<ipython-input-13-61019d95e9fa>\"\u001b[1;36m, line \u001b[1;32m1\u001b[0m\n\u001b[1;33m    1b = 49.7   # неправильно - цифра на первом месте\u001b[0m\n\u001b[1;37m     ^\u001b[0m\n\u001b[1;31mSyntaxError\u001b[0m\u001b[1;31m:\u001b[0m invalid syntax\n"
     ]
    }
   ],
   "source": [
    "1b = 49.7   # неправильно - цифра на первом месте"
   ]
  },
  {
   "cell_type": "markdown",
   "metadata": {
    "collapsed": true
   },
   "source": [
    "<a id='init_data'></a>\n",
    "## Инициализация разных типов данных\n",
    "[Вверх](#up)\n",
    "\n",
    "Инициализация переменной означает её добавление в некоторое пространство имён. Осуществляется инициализация с помощью операции присвоения, которая выражается знаком равно \"=\".\n",
    "\n",
    "Объявленная переменная (левая часть выражения до знака равно =) в python является **ССЫЛКОЙ** на созданный и реально существующий объект в памяти компьютера."
   ]
  },
  {
   "cell_type": "code",
   "execution_count": 15,
   "metadata": {},
   "outputs": [],
   "source": [
    "a = 2   # целое число\n",
    "b12 = [1, 2, 3, 4]    # список целых чисел\n",
    "c_f = (True, False)   # кортеж булевых переменных\n",
    "ded = {1:-1, 2:-2, 3:-3}    # словарь"
   ]
  },
  {
   "cell_type": "code",
   "execution_count": 16,
   "metadata": {},
   "outputs": [
    {
     "data": {
      "text/plain": [
       "dict_values([-1, -2, -3])"
      ]
     },
     "execution_count": 16,
     "metadata": {},
     "output_type": "execute_result"
    }
   ],
   "source": [
    "ded.keys()\n",
    "ded.values()"
   ]
  },
  {
   "cell_type": "markdown",
   "metadata": {},
   "source": [
    "Приведённый выше пример показывает, что в памяти было размещено 4 объекта и для каждого есть своя ссылка-ярлык в виде имён переменных. Можно добавить ешё несколько переменных, которые будут привязаны всё к тем же объектам, то есть на некоторые объекты (числа, списки, кортежи, словари) будет несколько ссылок."
   ]
  },
  {
   "cell_type": "code",
   "execution_count": 17,
   "metadata": {},
   "outputs": [
    {
     "name": "stdout",
     "output_type": "stream",
     "text": [
      "11 {'A': 1, 'Z': 26}\n"
     ]
    }
   ],
   "source": [
    "'''\n",
    "После присвоения переменные e и a ссылаются на один объект - число 2, а переменные f и dic - на словарь.\n",
    "'''\n",
    "\n",
    "a = 11\n",
    "e = a\n",
    "\n",
    "dic = {'A':1, 'Z':26}\n",
    "f = dic\n",
    "\n",
    "print(e, f)"
   ]
  },
  {
   "cell_type": "markdown",
   "metadata": {},
   "source": [
    "Если в какой-то момент все переменные, которые ссылаются на один объект, будут удалены, то сам объект будет удалён из памяти. Удалить переменную можно с помощью функции **del()**."
   ]
  },
  {
   "cell_type": "code",
   "execution_count": 18,
   "metadata": {},
   "outputs": [
    {
     "name": "stdout",
     "output_type": "stream",
     "text": [
      "a= 12.98754\n",
      "b= 12.98754\n"
     ]
    },
    {
     "ename": "NameError",
     "evalue": "name 'a' is not defined",
     "output_type": "error",
     "traceback": [
      "\u001b[1;31m---------------------------------------------------------------------------\u001b[0m",
      "\u001b[1;31mNameError\u001b[0m                                 Traceback (most recent call last)",
      "\u001b[1;32m<ipython-input-18-327739f4a68a>\u001b[0m in \u001b[0;36m<module>\u001b[1;34m()\u001b[0m\n\u001b[0;32m      4\u001b[0m \u001b[1;32mdel\u001b[0m\u001b[1;33m(\u001b[0m\u001b[0ma\u001b[0m\u001b[1;33m)\u001b[0m   \u001b[1;31m# удаляем переменную a\u001b[0m\u001b[1;33m\u001b[0m\u001b[0m\n\u001b[0;32m      5\u001b[0m \u001b[0mprint\u001b[0m\u001b[1;33m(\u001b[0m\u001b[1;34m'b='\u001b[0m\u001b[1;33m,\u001b[0m \u001b[0mb\u001b[0m\u001b[1;33m)\u001b[0m\u001b[1;33m\u001b[0m\u001b[0m\n\u001b[1;32m----> 6\u001b[1;33m \u001b[0mprint\u001b[0m\u001b[1;33m(\u001b[0m\u001b[1;34m'a2='\u001b[0m\u001b[1;33m,\u001b[0m \u001b[0ma\u001b[0m\u001b[1;33m)\u001b[0m \u001b[1;31m# Ошибка! Переменной \"a\" уже нет в пространстве имён!\u001b[0m\u001b[1;33m\u001b[0m\u001b[0m\n\u001b[0m",
      "\u001b[1;31mNameError\u001b[0m: name 'a' is not defined"
     ]
    }
   ],
   "source": [
    "a = 12.98754\n",
    "print('a=', a)\n",
    "b = a\n",
    "del(a)   # удаляем переменную a\n",
    "print('b=', b)\n",
    "print('a2=', a) # Ошибка! Переменной \"a\" уже нет в пространстве имён!"
   ]
  },
  {
   "cell_type": "markdown",
   "metadata": {},
   "source": [
    "<a id='numbers'></a>\n",
    "### Числа\n",
    "[Вверх](#up)\n",
    "\n",
    "Целые числа задаются набором цифр без пробелов.\n",
    "\n",
    "Вещественные или действительные числа могут задаваться по-разному (см. пример). Разделителем целой и дробной части является точка. Отрицательные числа задаются с помощью унарного минуса(минуса перед цифрой). Для положительных чисел унарный плюс не требуется.\n",
    "   \n",
    "Комплексные числа задаются с помощью функции **complex()**, где в качестве аргументов передаются действительная и мнимая части соответственно."
   ]
  },
  {
   "cell_type": "code",
   "execution_count": 19,
   "metadata": {},
   "outputs": [
    {
     "name": "stdout",
     "output_type": "stream",
     "text": [
      "312  5.61  -178.5465  -2000.0  0.015  (2.3+5j)  "
     ]
    }
   ],
   "source": [
    "k = 5   # целое число\n",
    "i = 312   # целое число\n",
    "a = 5.61   # действительное число\n",
    "r = -178.5465   # отрицательное действительное число\n",
    "u = -2e3   # компактная форма записи вещественного числа\n",
    "p = 1.5e-2   # компактная форма записи вещественного числа\n",
    "q = 2.3+5j   # комплексное число\n",
    "\n",
    "out = [print(g, end='  ') for g in [i, a, r, u, p, q]]"
   ]
  },
  {
   "cell_type": "markdown",
   "metadata": {},
   "source": [
    "<a id='strings'></a>\n",
    "### Строки\n",
    "[Вверх](#up)\n",
    "\n",
    "Строки задаются в кавычках (одиночных или двойных; в паре кавычки должны быть одного вида). Внутри строк может находиться всё что угодно. Пробелы также считаются, наравне с другими, за символом.\n",
    "\n",
    "Строки бывают простые строки и т.н. \"сырые (raw-string) r-строки\". Объявляются они одинаково, но перед открывающей кавычкой для r-строки (она же неформатированная строка) ставится буквы r, а перед обычной - ничего.\n",
    "\n",
    "О различиях между типами строк см. соответствующую тему. Кратко:\n",
    "\n",
    "+ неформатированная строка представляет символы так, как они есть. Это важно при анализе входящих строк, так как в python некоторые символы в обычных строках (слэш, например) будут восприниматься как служебные с другим значением;\n",
    "\n",
    "+ обычная строка в python3 поддерживает [Unicode](https://ru.wikipedia.org/wiki/%D0%AE%D0%BD%D0%B8%D0%BA%D0%BE%D0%B4), что позволяет пользоваться не только латинским алфавитом, но и, например, кириллицей (русским языком).\n",
    "\n",
    "Чтобы создать `пустую строку` нужно просто поставить кавычки без пробелов внутри."
   ]
  },
  {
   "cell_type": "code",
   "execution_count": 20,
   "metadata": {},
   "outputs": [
    {
     "name": "stdout",
     "output_type": "stream",
     "text": [
      "<class 'str'> abc\n",
      "<class 'str'> abc\n",
      "<class 'str'> абв\n",
      "абв\n"
     ]
    },
    {
     "data": {
      "text/plain": [
       "'абв'"
      ]
     },
     "execution_count": 20,
     "metadata": {},
     "output_type": "execute_result"
    }
   ],
   "source": [
    "s = 'abc'   # простая строка\n",
    "print(type(s), s)\n",
    "r = r'abc'   # r-строка или неформатированная строка\n",
    "print(type(r), r)\n",
    "u1 = \"абв\"   # кириллица в обычной строке\n",
    "print(type(u1), u1)\n",
    "\n",
    "empty_s = ''   # пустая строка. Её не видно в консоли\n",
    "\n",
    "print(u1)   # вывод на экран с помощью функции print()\n",
    "u1   # неявный вывод на экран консоли. Сравни с print-выводом"
   ]
  },
  {
   "cell_type": "markdown",
   "metadata": {},
   "source": [
    "<a id='bools'></a>\n",
    "### Булевы переменные\n",
    "[Вверх](#up)\n",
    "\n",
    "Булевы переменные могут принимать всего два значения: Истина (True) и Ложь (False). Обратите внимание на регистр заглавной буквы, это важно! Также булевым значениям не требуется кавычек, что отличает их от аналогичных строк."
   ]
  },
  {
   "cell_type": "code",
   "execution_count": 21,
   "metadata": {},
   "outputs": [
    {
     "name": "stdout",
     "output_type": "stream",
     "text": [
      "<class 'bool'> True\n",
      "<class 'bool'> False\n",
      "<class 'str'> True\n"
     ]
    }
   ],
   "source": [
    "b = True\n",
    "f = False\n",
    "s = 'True'\n",
    "\n",
    "a = [print(type(g), g) for g in [b,f,s]]"
   ]
  },
  {
   "cell_type": "markdown",
   "metadata": {},
   "source": [
    "#### О запятой после цифр\n",
    "Обратите внимание на запятую в конце кортежа. Она необязательна, но именно она делает кортеж кортежем. Так для кортежа можно опустить скобки. Чтобы создать список нужно поставить квадратные скобки."
   ]
  },
  {
   "cell_type": "code",
   "execution_count": 22,
   "metadata": {},
   "outputs": [
    {
     "name": "stdout",
     "output_type": "stream",
     "text": [
      "<class 'tuple'> (0,)\n",
      "<class 'tuple'> (1, 2, 3, 4)\n",
      "<class 'tuple'> (1, 2, 3, 4)\n",
      "<class 'list'> [1, 2, 3, 4]\n",
      "<class 'int'> 0\n"
     ]
    }
   ],
   "source": [
    "a = 0,\n",
    "b = 1, 2, 3, 4\n",
    "c = 1, 2, 3, 4,\n",
    "d = [1, 2, 3, 4,]\n",
    "e = 0\n",
    "\n",
    "k = [print(type(g), g) for g in [a, b, c, d, e]]"
   ]
  },
  {
   "cell_type": "markdown",
   "metadata": {},
   "source": [
    "#### Странный случай! "
   ]
  },
  {
   "cell_type": "code",
   "execution_count": 28,
   "metadata": {},
   "outputs": [
    {
     "name": "stdout",
     "output_type": "stream",
     "text": [
      "\"a\" has <class 'tuple'> data type\n"
     ]
    },
    {
     "ename": "TypeError",
     "evalue": "'int' object is not callable",
     "output_type": "error",
     "traceback": [
      "\u001b[1;31m---------------------------------------------------------------------------\u001b[0m",
      "\u001b[1;31mTypeError\u001b[0m                                 Traceback (most recent call last)",
      "\u001b[1;32m<ipython-input-28-f2bf4e55d18c>\u001b[0m in \u001b[0;36m<module>\u001b[1;34m()\u001b[0m\n\u001b[0;32m      4\u001b[0m \u001b[0mprint\u001b[0m\u001b[1;33m(\u001b[0m\u001b[1;34m'\"a\" has {} data type'\u001b[0m\u001b[1;33m.\u001b[0m\u001b[0mformat\u001b[0m\u001b[1;33m(\u001b[0m\u001b[0mtype\u001b[0m\u001b[1;33m(\u001b[0m\u001b[0ma\u001b[0m\u001b[1;33m)\u001b[0m\u001b[1;33m)\u001b[0m\u001b[1;33m)\u001b[0m\u001b[1;33m\u001b[0m\u001b[0m\n\u001b[0;32m      5\u001b[0m \u001b[1;32mif\u001b[0m \u001b[0mtype\u001b[0m\u001b[1;33m(\u001b[0m\u001b[0ma\u001b[0m\u001b[1;33m)\u001b[0m \u001b[1;33m==\u001b[0m \u001b[0mtuple\u001b[0m\u001b[1;33m:\u001b[0m\u001b[1;33m\u001b[0m\u001b[0m\n\u001b[1;32m----> 6\u001b[1;33m     \u001b[0mprint\u001b[0m\u001b[1;33m(\u001b[0m\u001b[0mlen\u001b[0m\u001b[1;33m(\u001b[0m\u001b[0ma\u001b[0m\u001b[1;33m)\u001b[0m\u001b[1;33m)\u001b[0m\u001b[1;33m\u001b[0m\u001b[0m\n\u001b[0m\u001b[0;32m      7\u001b[0m \u001b[1;32melse\u001b[0m\u001b[1;33m:\u001b[0m\u001b[1;33m\u001b[0m\u001b[0m\n\u001b[0;32m      8\u001b[0m     \u001b[0mprint\u001b[0m\u001b[1;33m(\u001b[0m\u001b[1;34m'It is not a tuple!'\u001b[0m\u001b[1;33m)\u001b[0m\u001b[1;33m\u001b[0m\u001b[0m\n",
      "\u001b[1;31mTypeError\u001b[0m: 'int' object is not callable"
     ]
    }
   ],
   "source": [
    "# 23.09.2018 был обнаружен странный факт. Сравни\n",
    "\n",
    "a = -1,\n",
    "print('\"a\" has {} data type'.format(type(a)))\n",
    "if type(a) == tuple:\n",
    "    print(len(a))\n",
    "else:\n",
    "    print('It is not a tuple!')\n",
    "\n",
    "# But!\n",
    "print(type(-1,))"
   ]
  },
  {
   "cell_type": "markdown",
   "metadata": {
    "collapsed": true
   },
   "source": [
    "<a id='end'></a>\n",
    "## Заключение\n",
    "[Вверх](#up)\n",
    "\n",
    "Были представлены основные типы данных (условно их можно назвать \"базовыми\" типами данных для python): числа, строки и булевы переменные. Показаны требования к именам переменных, в которые сохраняются любые данные на python. Приведены примеры инициализации (объявления в теле программы) переменных разных \"базовых\" типов, широко встречающихся в языках программирования."
   ]
  },
  {
   "cell_type": "code",
   "execution_count": 26,
   "metadata": {},
   "outputs": [
    {
     "data": {
      "text/plain": [
       "tuple"
      ]
     },
     "execution_count": 26,
     "metadata": {},
     "output_type": "execute_result"
    }
   ],
   "source": []
  },
  {
   "cell_type": "code",
   "execution_count": null,
   "metadata": {},
   "outputs": [],
   "source": []
  }
 ],
 "metadata": {
  "anaconda-cloud": {},
  "kernelspec": {
   "display_name": "Python 3",
   "language": "python",
   "name": "python3"
  },
  "language_info": {
   "codemirror_mode": {
    "name": "ipython",
    "version": 3
   },
   "file_extension": ".py",
   "mimetype": "text/x-python",
   "name": "python",
   "nbconvert_exporter": "python",
   "pygments_lexer": "ipython3",
   "version": "3.7.0"
  }
 },
 "nbformat": 4,
 "nbformat_minor": 1
}
