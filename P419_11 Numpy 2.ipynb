{
 "cells": [
  {
   "cell_type": "markdown",
   "metadata": {},
   "source": [
    "# P419 11 NumPy. Массивы II\n",
    "\n",
    "Автор: Шабанов Павел Александрович\n",
    "\n",
    "Email: pa.shabanov@gmail.com\n",
    "\n",
    "URL:\n",
    "\n",
    "+ [PythonWorld о NumPy](https://pythonworld.ru/numpy)\n",
    "\n",
    "+ [ХАБР: NumPy, пособие для новичков](https://habr.com/post/121031/)\n",
    "\n",
    "**Дата последнего обновления: 15.11.2018**\n",
    "\n",
    "<a id='up'></a>\n",
    "### План\n",
    "\n",
    "1. **[Изменение элементов массивов](#changes)**\n",
    "    + [присваивание значений срезам](#eq);\n",
    "    + [копии массивов](#copy).\n",
    "    \n",
    "2. **[Объединение массивов](#merging)**\n",
    "    + [Объединение векторов](#vectors)\n",
    "    \n",
    "3. **[Разделение массивов](#spliting)**\n",
    "\n",
    "4. **[Универсальные функции модуля numpy](#numpy_functions)**\n",
    "    + [поиск индексов numpy.where](#where);\n",
    "    + [векторные срезы по нескольким осям на примере numpy.where](#vec_slice);\n",
    "    + [логические условия и fancy-slicing](#logic_fancy);\n",
    "    + [пример с геоданными](#geo).\n",
    "\n",
    "5. **[Массивы с логической маской](#masked)**\n",
    "    + [пространство numpy.ma](#ma);\n",
    "    + [numpy.NaN](#nan);\n",
    "    + [заполнение замаскированных значений](#filled).\n",
    "  \n",
    "6. **[Управляемый вывод представления чисел](#print_numpy)**\n",
    "\n",
    "### Цель: \n",
    "\n",
    "+ дополнить базовые знания о массивах numpy массивы универсальными numpy функциями"
   ]
  },
  {
   "cell_type": "markdown",
   "metadata": {},
   "source": [
    "<a id='changes'></a>\n",
    "## Изменения элементов массивов\n",
    "[Вверх](#up)\n",
    "\n",
    "Базовым способом изменения значений элементов массива является присваивание через индексы - набор целочисленных чисел в квадратных скобках от имени массива."
   ]
  },
  {
   "cell_type": "code",
   "execution_count": null,
   "metadata": {},
   "outputs": [],
   "source": [
    "import numpy as np\n",
    "\n",
    "one = np.arange(1, 13)\n",
    "two = np.random.random((10, 20))\n",
    "four = np.ones((5, 4, 3, 7))\n",
    "\n",
    "temp = 36.6\n",
    "one[2] = temp\n",
    "two[2, 2] = temp\n",
    "four[0, 0, 2, 2] = temp\n",
    "\n",
    "print(four[:2, :2, ...])"
   ]
  },
  {
   "cell_type": "markdown",
   "metadata": {},
   "source": [
    "<a id='eq'></a>\n",
    "### Присваивание значений срезам\n",
    "[Вверх](#up)\n",
    "\n",
    "Помимо изменения значений элементов массивов через обращение по индексам, как в списках, массивы модуля numpy поддерживают удобный механизм присваивания значений элементов через срезы. Т.е. слева указывается желаемый диапазон элементов, которые есть необходимость заменить, а справа (от знака \"=\") указывается новое значение. "
   ]
  },
  {
   "cell_type": "code",
   "execution_count": null,
   "metadata": {},
   "outputs": [],
   "source": [
    "import numpy as np\n",
    "\n",
    "z = np.arange(1, 13)\n",
    "print('Исходный массив z \\n', z)\n",
    "z[3:6] = 0\n",
    "\n",
    "print('Изменённый массив z после среза\\n', z)"
   ]
  },
  {
   "cell_type": "code",
   "execution_count": null,
   "metadata": {},
   "outputs": [],
   "source": [
    "import numpy as np\n",
    "\n",
    "one = np.arange(1, 13)\n",
    "two = np.random.random((10, 20))\n",
    "four = np.ones((5, 4, 3, 7))\n",
    "\n",
    "temp = 36.6\n",
    "two[:, 2] = temp\n",
    "four[..., 2, 2:5] = temp\n",
    "\n",
    "print(four[:2, :2, ...])"
   ]
  },
  {
   "cell_type": "markdown",
   "metadata": {},
   "source": [
    "Присваивать срезу массива можно не только **одно значение**, но любое объект-контейнер, который **по форме (shaoe) будет равен** срезу массива."
   ]
  },
  {
   "cell_type": "code",
   "execution_count": null,
   "metadata": {},
   "outputs": [],
   "source": [
    "import numpy as np\n",
    "\n",
    "sh = (2, 3, 5)\n",
    "z = np.arange(30).reshape(sh)\n",
    "print('Исходный массив z \\n', z)\n",
    "\n",
    "fslice = z[:, 1, 1:3] \n",
    "print(fslice.shape)\n",
    "new = np.random.randint(-5, 50, size=fslice.size)\n",
    "rnew = np.reshape(new, fslice.shape)\n",
    "\n",
    "z[:, 1, 1:3] = rnew\n",
    "\n",
    "print('Изменённый массив z после среза\\n', z)"
   ]
  },
  {
   "cell_type": "markdown",
   "metadata": {},
   "source": [
    "<a id='copy'></a>\n",
    "### Копии массивов\n",
    "[Вверх](#up)\n",
    "\n",
    "Массивы относятся к изменяемым типам данных - **`mutable data type`**.\n",
    "\n",
    "Это означает, что без специального копирования (оно может быть поверхностным или глубоким (deep copy)), массив будет сохранять связь со своими \"производными\", которая будет выражаться в одновременном изменении значений в обоих (или большем) переменных. \n",
    "\n",
    "Только глубокие копии позволяют полностью разнести в памяти данные. Сделать глубокую копию массива или его части просто: либо с помощью функции **np.copy(arr)**, либо с помощью метода массива **arr.copy()**."
   ]
  },
  {
   "cell_type": "code",
   "execution_count": null,
   "metadata": {},
   "outputs": [],
   "source": [
    "import numpy as np\n",
    "\n",
    "sh = (2, 4)\n",
    "z = np.arange(8).reshape(sh)\n",
    "print('Исходный массив z \\n', z)\n",
    "\n",
    "z1 = z   # это просто разные ссылки на одни данные\n",
    "z2 = z[:]   # поверхностная копия\n",
    "z3 = z.copy()   # глубокая копия\n",
    "\n",
    "z[:, 2] = range(-4, -2)\n",
    "for a in zip(z1, z2, z3):\n",
    "    print(a)"
   ]
  },
  {
   "cell_type": "markdown",
   "metadata": {},
   "source": [
    "Обычно все универсальные функции (например, нахождение максимума) возвращают копии, которые не затрагивают исходный массив. Но не стоит забывать про срезы!"
   ]
  },
  {
   "cell_type": "code",
   "execution_count": null,
   "metadata": {},
   "outputs": [],
   "source": [
    "import numpy as np\n",
    "\n",
    "sh = (2, 4)\n",
    "z = np.arange(8).reshape(sh)\n",
    "print('Исходный массив z \\n', z)\n",
    "\n",
    "# Универсальная функция\n",
    "z1 = z.mean(axis=1)   # это просто разные ссылки на одни данные\n",
    "z1[0] = 333   # это глубокия копия!\n",
    "\n",
    "# ВНИМАНИЕ!!! Срез!!! \n",
    "z2 = z[0, :]   # срез - это поверхностная копия!\n",
    "z2[3] = -99   # изменяя срез, изменяет и массив-родитель.\n",
    "\n",
    "print('Изменяя срез, изменяется и массив-родитель!!!\\n', z)\n"
   ]
  },
  {
   "cell_type": "markdown",
   "metadata": {},
   "source": [
    "Чтобы избежать \"перекрытия\" данных, нужно использовать копии."
   ]
  },
  {
   "cell_type": "code",
   "execution_count": null,
   "metadata": {},
   "outputs": [],
   "source": [
    "import numpy as np\n",
    "\n",
    "sh = (2, 4)\n",
    "z = np.arange(8).reshape(sh)\n",
    "print('Исходный массив z \\n', z)\n",
    "\n",
    "# ВНИМАНИЕ!!! Срез!!! \n",
    "z2 = z[0, :].copy()   # копия среза\n",
    "z2[2:4] = -99   # теперь срез не влияет на массив!\n",
    "\n",
    "print('Срез изменился, а массив - нет!!!\\n', z)"
   ]
  },
  {
   "cell_type": "markdown",
   "metadata": {},
   "source": [
    "Такая же \"история\" происходит с `pandas.DataFrame`, когда мы берём срез и получаем `pandas.Series`. Т.к. объект уже другого типа, то часто забывается, что изменения в объекте-Series, приводят к изменениям в родительском объекте-DataFrame. "
   ]
  },
  {
   "cell_type": "markdown",
   "metadata": {},
   "source": [
    "<a id='merging'></a>\n",
    "## Объединение массивов\n",
    "[Вверх](#up)\n",
    "\n",
    "Часто требуется объединить значения из нескольких массивов. \"Склеивание\" или объединение должно проходить по выбранной оси, т.е. объединяем по строкам, столбцам и т.д. \n",
    "\n",
    "Чтобы объединить несколько массивов или векторов или массива с векторами, существуют следующие функции:\n",
    "\n",
    "+ **numpy.concatenate()** - объединяет массивы вдоль существующей оси;\n",
    "+ **numpy.stack()** - объединяет массивы вдоль **новой** оси;\n",
    "+ **numpy.vstack()** - объединяет массивы вдоль строк (row wise);\n",
    "+ **numpy.hstack()** - объединяет массивы вдоль столбцов (column wise);\n",
    "+ **numpy.dstack()** - объединяет массивы вдоль третьей оси \"глубины\" (along third dimension).\n",
    "\n",
    "Наиболее универсальной является **concatenate**, которая принимает сам массив `arr` и номер оси `axis` вдоль которой будет происходить объединение. Объединять вдоль выбранной оси можно только массивы с одинаковой длиной. Так массивы x и y с формами (10, 4) и (7, 4) соответственно можно объединить по нулевой оси (добавить строки массива-y под строки массива-x), т.к. число столбцов совпадает. Но объединить их по первой оси не получится!\n",
    "\n",
    "Автодополнение (как у объектов pandas.DataFrame) у массивов numpy не поддерживается."
   ]
  },
  {
   "cell_type": "markdown",
   "metadata": {},
   "source": [
    "Для объединения по новым осям (т.е. новая ось появляется где-то рядом с уже существующими) используется функция **np.stack**. \n",
    "Так для нескольких двумерных массивов можно провести объединение по трём \"новым\" осям: 0, 1 и 2. Т.е. либо ДО, либо ПОСЛЕ, либо МЕЖДУ существующими осями. В результате число осей исходных массивов увеличивается на один.\n",
    "\n",
    "> Для объединения по новой оси массивы должны быть одинаковой формы!"
   ]
  },
  {
   "cell_type": "code",
   "execution_count": null,
   "metadata": {},
   "outputs": [],
   "source": [
    "import numpy as np\n",
    "\n",
    "sh = (3, 4)\n",
    "x = np.arange(12).reshape(sh)\n",
    "y = np.ones(sh) - 1.5\n",
    "\n",
    "print('Исходные формы массивов', x.shape, y.shape)\n",
    "\n",
    "z0 = np.stack((x, y), axis=0)\n",
    "z1 = np.stack((x, y), axis=1)\n",
    "z2 = np.stack((x, y), axis=2)\n",
    "\n",
    "for i, z in enumerate([z0, z1, z2]):\n",
    "    print(f'Объединение по новой {i} оси', z.shape)\n",
    "\n",
    "try:\n",
    "    z3 = np.stack((x, y), axis=3)\n",
    "except:\n",
    "    print('z3 = np.stack((x, y), axis=3) -->\\n'\n",
    "          'AxisError: axis 3 is out of bounds for array of dimension 3!')"
   ]
  },
  {
   "cell_type": "markdown",
   "metadata": {},
   "source": [
    "В случае когда требуется объединить массивы по существующим осям (т.е. число измерений или осей массива не изменится), объединение также следует проводить вдоль какой-то оси. В случае двумерных массивов объединять можно вдоль строк и вдоль столбцов."
   ]
  },
  {
   "cell_type": "code",
   "execution_count": null,
   "metadata": {},
   "outputs": [],
   "source": [
    "# Объединение вдоль строк\n",
    "import numpy as np\n",
    "\n",
    "sh = (2, 4)\n",
    "x = np.arange(8).reshape(sh)\n",
    "y = np.zeros((5, 4))\n",
    "\n",
    "# Объединяем по строкам! Т.е. один массив сцепляется с предыдущим добавляя свои строки \"ниже\".\n",
    "z1 = np.concatenate((x, y), axis=0)\n",
    "z2 = np.vstack((y, x))\n",
    "z3 = np.row_stack((x, y))\n",
    "\n",
    "for z in [z1, z2, z3]:\n",
    "    print(z.shape)\n",
    "    print(z)"
   ]
  },
  {
   "cell_type": "code",
   "execution_count": null,
   "metadata": {},
   "outputs": [],
   "source": [
    "# Объединение вдоль столбцов\n",
    "import numpy as np\n",
    "\n",
    "sh = (7, 7)\n",
    "x = np.arange(49).reshape(sh)\n",
    "y = np.zeros((7, 3))\n",
    "\n",
    "z1 = np.concatenate((x, y), axis=1)\n",
    "z2 = np.hstack((y, x))\n",
    "z3 = np.column_stack((x, y))\n",
    "\n",
    "for z in [z1, z2, z3]:\n",
    "    print(z.shape)\n",
    "    print(z)"
   ]
  },
  {
   "cell_type": "markdown",
   "metadata": {},
   "source": [
    "<a id='vectors'></a>\n",
    "### Объединение векторов\n",
    "[Вверх](#up)\n",
    "\n",
    "Для объединения **векторов** в массив, а также для объединения вектора и массива существует также ряд функций:\n",
    "\n",
    "+ **numpy.column_stack()** - объединяет вектора по столбцам;\n",
    "\n",
    "+ **numpy.row_stack()** - объединяет вектора по строкам;\n",
    "\n",
    "Зачем они нужны? \n",
    "\n",
    "Т.к. вектора - это одномерные массивы, у которых есть только нулевая ось, то объединить их в столбцы по первой оси (которая отвечает за столбцы в функции *concatenate*) не получается. Нужно либо искусственно добавлять новую ось, либо использовать отдельную функцию.\n",
    "\n",
    "> Добавить новую ось можно на лету с помощью `np.newaxis` прямо внутри квадратных скобок на месте новой оси!"
   ]
  },
  {
   "cell_type": "code",
   "execution_count": null,
   "metadata": {},
   "outputs": [],
   "source": [
    "# Объединяем вектора в массив по столбцам\n",
    "\n",
    "import numpy as np\n",
    "\n",
    "sh = (7, 7)\n",
    "\n",
    "# Три вектора\n",
    "inx = np.arange(5)\n",
    "sst = np.zeros(inx.shape)\n",
    "temp = 273. + 10. * np.random.random(sst.shape)\n",
    "\n",
    "tup = (inx, sst, temp)\n",
    "z1 = np.concatenate(tup, axis=0)\n",
    "z2 = np.hstack(tup)\n",
    "z3 = np.column_stack(tup)   # только эта функция объединяет вектора по столбцам, а не строкам.\n",
    "\n",
    "for z in [z1, z2, z3]:\n",
    "    print(z.shape)\n",
    "    print(z)"
   ]
  },
  {
   "cell_type": "markdown",
   "metadata": {},
   "source": [
    "Добавить новую ось можно на лету с помощью **`np.newaxis`** прямо внутри квадратных скобок на местоположении новой оси! \n",
    "\n",
    "Альтернативно можно сделать reshape массива и добавить \"мнимую\" вторую ось длиной 1.\n",
    "\n",
    "В любом случае вектор (у которых одно ось) станет по форме массивом (с двумя осями). И тогда к нему можно применять выше описанные функции."
   ]
  },
  {
   "cell_type": "code",
   "execution_count": null,
   "metadata": {},
   "outputs": [],
   "source": [
    "# Объединяем вектора в массив по столбцам \"нативными\" методами - столбцы\n",
    "import numpy as np\n",
    "\n",
    "# Три вектора\n",
    "inx = np.arange(5)\n",
    "sst = np.zeros(inx.shape)\n",
    "temp = 273. + 10. * np.random.random(sst.shape)\n",
    "\n",
    "print('inx[:] shape is ... {}'.format(inx.shape))\n",
    "print('inx[:, np.newaxis] shape is ... {}'.format(inx[:, np.newaxis].shape))\n",
    "\n",
    "temp = temp.reshape(len(temp), 1)   # явный reshape от объекта с одной осью к объекту с двумя осями\n",
    "\n",
    "tup = (inx[:, np.newaxis], sst[:, np.newaxis], temp)   # на лету меняем форму, добавляя ось\n",
    "\n",
    "# В случае reshape и np.np.newaxis работают все функции\n",
    "z1 = np.concatenate(tup, axis=1)\n",
    "z2 = np.hstack(tup)\n",
    "z3 = np.column_stack(tup) \n",
    "\n",
    "for z in [z1, z2, z3]:\n",
    "    print(z.shape)\n",
    "    print(z)"
   ]
  },
  {
   "cell_type": "code",
   "execution_count": null,
   "metadata": {},
   "outputs": [],
   "source": [
    "# Объединяем вектора в массив по столбцам \"нативными\" методами - строки\n",
    "import numpy as np\n",
    "\n",
    "# Три вектора\n",
    "inx = np.arange(5)\n",
    "sst = np.zeros(inx.shape)\n",
    "temp = 273. + 10. * np.random.random(sst.shape)\n",
    "\n",
    "print('inx[:] shape is ... {}'.format(inx.shape))\n",
    "print('inx[:, np.newaxis] shape is ... {}'.format(inx[np.newaxis, :].shape))\n",
    "\n",
    "temp = temp.reshape(1, len(temp))   # явный reshape от объекта с одной осью к объекту с двумя осями\n",
    "\n",
    "tup = (inx[np.newaxis, :], sst[np.newaxis, :], temp)   # на лету меняем форму, добавляя ось\n",
    "\n",
    "#tup = (inx, sst)   # на лету меняем форму, добавляя ось\n",
    "\n",
    "# В случае reshape и np.np.newaxis работают все функции\n",
    "z1 = np.concatenate(tup, axis=0)\n",
    "z2 = np.vstack(tup)\n",
    "z3 = np.row_stack(tup) \n",
    "\n",
    "for z in [z1, z2, z3]:\n",
    "    print(z.shape)\n",
    "    print(z)"
   ]
  },
  {
   "cell_type": "markdown",
   "metadata": {},
   "source": [
    "При объединении **вектора с массивом**, нужно пользоваться функциями \"как для векторов\"."
   ]
  },
  {
   "cell_type": "code",
   "execution_count": null,
   "metadata": {},
   "outputs": [],
   "source": [
    "# Объединяем вектор и массив\n",
    "import numpy as np\n",
    "\n",
    "# Три вектора\n",
    "inx = np.arange(5)\n",
    "sst = np.zeros((10, 5))\n",
    "\n",
    "tup = (inx[np.newaxis, :], sst[:])   # на лету меняем форму, добавляя ось\n",
    "\n",
    "# В случае reshape и np.np.newaxis работают все функции\n",
    "z1 = np.concatenate(tup, axis=0)\n",
    "z2 = np.vstack(tup)\n",
    "z3 = np.row_stack((inx, sst))   # позволяет объединить вектор и массив без явной преобразований формы\n",
    "\n",
    "for z in [z1, z2, z3]:\n",
    "    print(z.shape)\n",
    "    print(z)"
   ]
  },
  {
   "cell_type": "markdown",
   "metadata": {},
   "source": [
    "<a id='spliting'></a>\n",
    "## Разделение массивов\n",
    "[Вверх](#up)\n",
    "\n",
    "Часто требуется объединить значения из нескольких массивов. \"Склеивание\" или объединение должно проходить по выбранной оси, т.е. объединяем по строкам, столбцам и т.д. \n",
    "\n",
    "Чтобы объединить несколько массивов или векторов или массива с векторами, существуют следующие функции:\n",
    "\n",
    "+ **numpy.split()** -  разделяет массив на N массивов по заданной оси. Возвращает список массивов;\n",
    "+ **numpy.vsplit()** - разделяет массив на N массивов вдоль строк (row wise). Возвращает список массивов;\n",
    "+ **numpy.hsplit()** - разделяет массив на N массивов вдоль столбцов (column wise). Возвращает список массивов;\n",
    "+ **numpy.dsplit()** - разделяет массив на N массивов вдоль третьей оси \"глубины\" (along third dimension). Возвращает список массивов.\n",
    "\n",
    "Наиболее универсальной является **split**, которая принимает сам массив `arr`, число `N` на которое нужно поделить исходный массив вдоль заданой оси и номер этой самой оси `axis`. В качестве N можно передавать не только число, но и границы (через индексы) интервалов индексов, на которые будут разбиты данные вдоль выбранной оси.\n",
    "\n",
    "Например, разбиение массива arr c формой (5, 10, 3) для оси axis=1, где N определено как N=\\[2, 3\\] будет осуществлено так:\n",
    "\n",
    "+ arr[:2]\n",
    "\n",
    "+ arr[2:3]\n",
    "\n",
    "+ arr[3:]\n",
    "\n",
    "Т.е. из одного массива с формой (5, 10, 3), будет три массива (упакованы в список) с формами (5, 2, 3), (5, 1, 3), (5, 7, 3)"
   ]
  },
  {
   "cell_type": "code",
   "execution_count": null,
   "metadata": {},
   "outputs": [],
   "source": [
    "import numpy as np\n",
    "\n",
    "sh = (5, 10, 3)\n",
    "arr = np.arange(150).reshape(sh)\n",
    "print('Форма исходного массива z \\n', z.shape)\n",
    "\n",
    "# new - это список массивов!\n",
    "new = np.split(arr, [2, 3], axis=1)\n",
    "\n",
    "for i, z1 in enumerate(new):\n",
    "    print(f'Новый массив z-{i} \\n', z1.shape)"
   ]
  },
  {
   "cell_type": "markdown",
   "metadata": {},
   "source": [
    "В отличие от векторов, разделить N-мерные массивы можно только на равные части, т.е. тут работает то же правило, что и при reshape."
   ]
  },
  {
   "cell_type": "code",
   "execution_count": null,
   "metadata": {},
   "outputs": [],
   "source": [
    "# Разделение N-мерных массивов\n",
    "import numpy as np\n",
    "\n",
    "sh = (3, 4, 5)\n",
    "z = np.arange(60).reshape(sh)\n",
    "print(z.shape)\n",
    "print('Исходный массив z \\n', z)\n",
    "\n",
    "# new - это список массивов!\n",
    "new = np.split(z, 2, axis=1)\n",
    "for i, z1 in enumerate(new):\n",
    "    print(f'Новый массив z-{i} \\n', z1.shape, z1)\n",
    "    \n",
    "new2 = np.split(z, 3, axis=0)\n",
    "for i, z1 in enumerate(new2):\n",
    "    print(f'Новый массив z-{i} \\n', z1.shape, z1)"
   ]
  },
  {
   "cell_type": "code",
   "execution_count": null,
   "metadata": {},
   "outputs": [],
   "source": [
    "# Разделение N-мерных массивов с помощью numpy.hsplit и numpy.vsplit\n",
    "import numpy as np\n",
    "\n",
    "sh = (10, 7)\n",
    "z = np.arange(70).reshape(sh)\n",
    "print(z.shape)\n",
    "print('Исходный массив z \\n', z)\n",
    "\n",
    "# new - это список массивов!\n",
    "new = np.vsplit(z, 2)\n",
    "for i, z1 in enumerate(new):\n",
    "    print(f'Новый массив z-{i} \\n', z1.shape)\n",
    "    \n",
    "new2 = np.hsplit(z, [3])   #  [:3] & [3:]\n",
    "for i, z1 in enumerate(new2):\n",
    "    print(f'Новый массив z-{i} \\n', z1.shape)"
   ]
  },
  {
   "cell_type": "markdown",
   "metadata": {},
   "source": [
    "<a id='numpy_functions'></a>\n",
    "## Универсальные функции модуля numpy\n",
    "[Вверх](#up)\n",
    "\n",
    "В модуле `numpy` есть огромное количество функций, которые облегчают работу с массивами и элементами внутри них. Вот только некоторые из них:\n",
    "\n",
    "+ **np.size(arr)** - число элементов в массиве;\n",
    "\n",
    "+ **np.max()/np.min()/np.mean()** - простые статистики: максимум, минимум, среднее;\n",
    "\n",
    "+ **np.std()/np.var()** - стандартное отклонение (сигма)/дисперсия;\n",
    "\n",
    "+ **np.argmin()/np.argmax()** - возвращают индексы экстремумов массива;\n",
    "\n",
    "+ **np.sort()** - сортировка массива;\n",
    "\n",
    "+ **np.argsort()** - возвращает исходные индексы отсортированных элементов;\n",
    "\n",
    "+ **np.gradient()** - возвращает кортеж градиента по осям массива; \n",
    "\n",
    "+ **np.in1d(arr1, arr2)** - сравнивает два массива и возвращает логический массив размера arr1, где True, если есть совпадение, и False - если элементы отличаются.\n",
    "\n",
    "+ **np.meshgrid()** - позволяет преобразовать каждый из данных векторов в массив с размерностью, где каждая ось отражает переданный вектор. Удобно для рисования географических данных и для создания из пары векторов двух массивов. \n",
    "\n",
    "+ **np.all()** - проверяет на истинность условие ко всем элементы массива. Если все значения True, возвращает True.\n",
    "\n",
    "+ **np.any()** - проверяет на истинность условие ко всем элементы массива. Если хотя бы одно значение True, возвращает True.\n",
    "\n",
    "И многие другие. Их очень много. Например, `np.abs()`. Более подробно о массивах из модуля numpy можно [узнать из документации](https://docs.scipy.org/doc/numpy/reference/arrays.ndarray.html)\n",
    "\n",
    "<a id='where'></a>\n",
    "### Поиск индексов элементов массива по логическим условиям\n",
    "[Вверх](#up)\n",
    "\n",
    "Среди универсальных функций есть очень удобный инструмент для поиска элементов по логическим условиям через операции с индексами элементов - **np.where()**.\n",
    "\n",
    "**np.where(условие Y)** возвращает кортеж индексов массива, для элементов которых удовлетворяется условие Y. Длина кортежа равна числу осей массива, для которого составлено условие Y. Т.е. в случае двумерного массива arr функция np.where для условия (arr > 5) вернёт кортеж длины два, где каждый из элементов кортежа будет состоять из массива индексов элементов, для которых истинно условие > 5, для соответствующей оси массива arr. \n",
    "\n",
    "Нужно иметь ввиду, что даже если будет возвращено всего одно значение, оно всё равно будет обёрнуто в кортеж! Чтобы его получить явно, нужно обратиться к элементу кортежа через индекс. \n"
   ]
  },
  {
   "cell_type": "code",
   "execution_count": null,
   "metadata": {},
   "outputs": [],
   "source": [
    "import numpy as np\n",
    "\n",
    "x = np.arange(12)\n",
    "\n",
    "ii = np.where(x >= 11)   # возвращается всего один элемент\n",
    "print(type(ii), 'len', len(ii))\n",
    "print('tuple', ii, 'first elem ot array', ii[0])\n",
    "\n",
    "print(x[ii[0]])"
   ]
  },
  {
   "cell_type": "markdown",
   "metadata": {},
   "source": [
    "В случае, когда `numpy.where` возвращает несколько индексов, кортеж оборачивает массив. И чтобы \"добраться\" до элемента, нужно использовать [] дважды!\n"
   ]
  },
  {
   "cell_type": "code",
   "execution_count": null,
   "metadata": {},
   "outputs": [],
   "source": [
    "import numpy as np\n",
    "\n",
    "x = np.arange(12)\n",
    "\n",
    "ii = np.where(x >= 6)   # возвращается несколько элементов\n",
    "print(type(ii), 'len', len(ii))\n",
    "\n",
    "# Дважды обращаемся по нулевым индексам\n",
    "print('tuple', ii, 'first elem ot array', ii[0])\n",
    "\n",
    "print(x[ii[0]])"
   ]
  },
  {
   "cell_type": "markdown",
   "metadata": {},
   "source": [
    "Поэтому в случае, когда возвращаются одномерные массивы, рекомендуется ставить в конце np.where обращение к нулевому элементу:\n",
    "\n",
    "**`ii = np.where(condition)[0]`**"
   ]
  },
  {
   "cell_type": "code",
   "execution_count": null,
   "metadata": {},
   "outputs": [],
   "source": [
    "import numpy as np\n",
    "\n",
    "x = np.arange(12)\n",
    "\n",
    "ii = np.where(x >= 6)[0]  # x - одномерный массив\n",
    "print(type(ii), 'len', len(ii))\n",
    "print('tuple', ii, 'first elem ot array', ii[0])\n",
    "\n",
    "print(x[ii[0]])"
   ]
  },
  {
   "cell_type": "markdown",
   "metadata": {},
   "source": [
    "**N.B.** Для составления логических цепочек в **np.where()** необходимо использовать символ **&** вместо **and** и символ **|** вместо **or**. Например, так:\n",
    "\n",
    "> **(x > 10) & (x < 20)** вместо **(x > 10) and (x < 20)**"
   ]
  },
  {
   "cell_type": "markdown",
   "metadata": {},
   "source": [
    "<a id='vec_slice'></a>\n",
    "### Векторные срезы по нескольким осям на примере numpy.where\n",
    "[Вверх](#up)\n",
    "\n",
    "В случае взятия векторных срезов в многомерном массиве можно было бы ожидать, что как и в одномерном случае, для многомерного векторного среза нужно лишь передать последовательности индексов в квадратные скобки в соответствующее место. \n",
    "\n",
    "Увы, это не так. \n",
    "\n",
    "Разберём несколько примеров векторных срезов от многомерных массивов с помощью функции **numpy.where**, которая возвращает очень подходящие объекты для взятия срезов.\n",
    "\n",
    "Срезы индексов для каждой оси можно передавать последовательно, а можно просто использовать логическое условие, из которых получены срезы индексов (np.where)."
   ]
  },
  {
   "cell_type": "code",
   "execution_count": null,
   "metadata": {},
   "outputs": [],
   "source": [
    "import numpy as np\n",
    "\n",
    "sh = (4, 6, 9)\n",
    "arr = np.random.random(36*6).reshape(sh)*10.\n",
    "\n",
    "cond = (arr >= 5)\n",
    "\n",
    "x, y, z = np.where(cond)   # передаём массивы индексов для каждой оси массива\n",
    "a = np.where(cond)   # a - кортеж\n",
    "box = [x, y, z]\n",
    "for i, b in enumerate(box):\n",
    "    print(len(b), type(b), b[:7])\n",
    "    \n",
    "brr = arr[cond]   # подставляем условие\n",
    "crr = arr[x, y, z]   # подставляем срезы в каждую ось\n",
    "drr = arr[a]\n",
    "\n",
    "box2 = [brr, crr, drr]\n",
    "for j, b2 in enumerate(box2):\n",
    "    print('j', j, b2.shape)\n",
    "\n",
    "print('Результаты совпадают :', np.sum(brr - crr), np.sum(brr - drr))  # результат одинаковый"
   ]
  },
  {
   "cell_type": "markdown",
   "metadata": {},
   "source": [
    "Обычные срезы берутся также, как и у векторов: в каждую ось задаётся свой интервал или индекс."
   ]
  },
  {
   "cell_type": "code",
   "execution_count": null,
   "metadata": {},
   "outputs": [],
   "source": [
    "# Пример взятия обычных срезов от многомерного массива\n",
    "import numpy as np\n",
    "\n",
    "sh = (4, 6, 9)\n",
    "arr = np.random.random(36*6).reshape(sh)*10.\n",
    "\n",
    "slices = arr[0:2, 2:, :5]\n",
    "print(slices.shape)"
   ]
  },
  {
   "cell_type": "markdown",
   "metadata": {},
   "source": [
    "Прихотливые срезы (fancy slices, они же векторные срезы) позволяют получить массивы формы, отличной от формы исходного массива.\n",
    "\n",
    "Это отлично работает для векторов, одномерных массивов."
   ]
  },
  {
   "cell_type": "code",
   "execution_count": null,
   "metadata": {},
   "outputs": [],
   "source": [
    "# Fancy slicing\n",
    "\n",
    "import numpy as np\n",
    "\n",
    "arr = np.arange(3)\n",
    "a = [0, 0, 0, 1]\n",
    "b = arr[a]\n",
    "\n",
    "print('Before:', arr, arr.shape)\n",
    "print('After \"fancy\" slicing', b, b.shape)"
   ]
  },
  {
   "cell_type": "markdown",
   "metadata": {},
   "source": [
    "В случае многомерных массивов, прихотливые срезы можно применять лишь последовательно. Одновременно передать несколько прихотливых срезов по разным осям не удаётся. \n",
    "\n",
    "Можно скомбинировать обычный срез, прихотливый срез и все значения (комбинацией двоеточий или с помощью символа троеточия, называемого `ellipsis`)."
   ]
  },
  {
   "cell_type": "code",
   "execution_count": null,
   "metadata": {},
   "outputs": [],
   "source": [
    "# Комбинирование обычного среза, прихотливого среза и индекса\n",
    "\n",
    "import numpy as np\n",
    "\n",
    "sh = (4, 6, 9)\n",
    "arr = np.random.random(36*6).reshape(sh)*10.\n",
    "print('Original shape', arr.shape)\n",
    "\n",
    "x = [0, 2]\n",
    "y = [2, 3, 4, 0]\n",
    "z = [1, 0, 2, 4, 7, 1]\n",
    "\n",
    "s2 = arr[x, 3:5, :]\n",
    "s3 = arr[..., z]\n",
    "s4 = arr[:, y, 8]\n",
    "\n",
    "for i, s in enumerate([s2, s3, s4]):\n",
    "    print(f's{i+2} shape', s.shape)"
   ]
  },
  {
   "cell_type": "markdown",
   "metadata": {},
   "source": [
    "Но одновременно применять к разным осям комбинации индексов в виде списков или массивов не удаётся!"
   ]
  },
  {
   "cell_type": "code",
   "execution_count": null,
   "metadata": {},
   "outputs": [],
   "source": [
    "import numpy as np\n",
    "\n",
    "sh = (4, 6, 9)\n",
    "arr = np.random.random(36*6).reshape(sh)*10.\n",
    "print('Original shape', arr.shape)\n",
    "\n",
    "x = (0, 2)\n",
    "y = (0, 2, 3, 4)\n",
    "z = [0, 2, 3, 4, 7]\n",
    "\n",
    "try:\n",
    "    s2 = arr[x, y, :]\n",
    "except:\n",
    "    print('ERROR! Одновременно применять два fancy slice запрещается!')\n",
    "\n",
    "try:\n",
    "    s3 = arr[0, y, z]\n",
    "except:\n",
    "    print('ERROR! Одновременно применять два fancy slice запрещается!')\n",
    "\n",
    "try:\n",
    "    s4 = arr[0, 0:3, z]\n",
    "    print('Можно использовать лишь fancy slice в квадратных скобках!')\n",
    "except:\n",
    "    print('ERROR! Одновременно применять два fancy slice запрещается!')\n",
    "\n",
    "    #s3 = s2[:, y, :]\n",
    "#s4 = s3[..., z]\n",
    "\n",
    "#for i, s in enumerate([s2, s3, s4]):\n",
    "#    print(f's{i+2} shape', s.shape)"
   ]
  },
  {
   "cell_type": "markdown",
   "metadata": {},
   "source": [
    "В отличие от обычных срезов, **`многомерные векторные срезы`** нужно брать ПОСЛЕДОВАТЕЛЬНО!"
   ]
  },
  {
   "cell_type": "code",
   "execution_count": null,
   "metadata": {},
   "outputs": [],
   "source": [
    "# Взятие векторных срезов от многомерных массивов\n",
    "\n",
    "import numpy as np\n",
    "\n",
    "sh = (4, 6, 9)\n",
    "arr = np.random.random(36*6).reshape(sh)*10.\n",
    "\n",
    "x = [0, 2, 1]*3\n",
    "y = [2, 3, 4, 0]\n",
    "z = [1, 0, 2, 4, 7, 1]\n",
    "\n",
    "# ПОСЛЕДОВАТЕЛЬНО!\n",
    "s2 = arr[x, ...]   # раз \n",
    "s3 = s2[:, y, :]   # два\n",
    "s4 = s3[..., z]   # три\n",
    "\n",
    "print(s4.shape, s4[:3,:3,:3])"
   ]
  },
  {
   "cell_type": "markdown",
   "metadata": {},
   "source": [
    "<a id='logic_fancy'></a>\n",
    "### Логические условия и fancy-slicing\n",
    "[Вверх](#up)\n",
    "\n",
    "Логические условия, как и fancy-slicing, можно применять лишь последовательно, но не одновременно в одних квадратных скобках."
   ]
  },
  {
   "cell_type": "code",
   "execution_count": null,
   "metadata": {},
   "outputs": [],
   "source": [
    "import numpy as np\n",
    "\n",
    "sh = (4, 6, 9)\n",
    "arr = np.random.random(36*6).reshape(sh)*10.\n",
    "print('Original shape', arr.shape)\n",
    "\n",
    "condX = arr[:, 0, 0] > 3   # логическое условие для нулевой оси\n",
    "print(condX)\n",
    "y = [0, 2, 3, 4]\n",
    "\n",
    "try:\n",
    "    s2 = arr[condX, y, :]\n",
    "except:\n",
    "    s2 = arr[condX, ...][:, y, :]\n",
    "\n",
    "print('s2 shape', s2.shape)\n",
    "    #s3 = s2[:, y, :]\n",
    "#s4 = s3[..., z]\n",
    "\n",
    "#for i, s in enumerate([s2, s3, s4]):\n",
    "#    print(f's{i+2} shape', s.shape)"
   ]
  },
  {
   "cell_type": "markdown",
   "metadata": {},
   "source": [
    "<a id='geo'></a>\n",
    "### Пример с геоданными\n",
    "[Вверх](#up)\n",
    "\n",
    "Рассмотрим пример для данных в регулярной географической сетке с регулярным шагом 2.5 градуса. Необходимо выбрать данные в заданном регионе [lat1 : lat2, lon1 : lon2]."
   ]
  },
  {
   "cell_type": "code",
   "execution_count": null,
   "metadata": {},
   "outputs": [],
   "source": [
    "import numpy as np\n",
    "\n",
    "lon = np.arange(-180, 180, 2.5)\n",
    "lat = np.arange(-90, 90 + 0.1, 2.5)\n",
    "\n",
    "zarr = np.random.random((lat.shape[0], lon.shape[0]))\n",
    "\n",
    "lat1 = 40.\n",
    "lat2 = 85.\n",
    "lon1 = 0.\n",
    "lon2 = 90.\n",
    "\n",
    "jj = np.where((lat > lat1) & (lat < lat2))\n",
    "ii = np.where((lon > lon1) & (lon < lon2))\n",
    "\n",
    "try:\n",
    "    varr = zarr[jj, ii]\n",
    "    print(varr.shape)\n",
    "except:\n",
    "    print(\"Error! ii - кортеж с длиной один. Единственный элемент такого кортежа - массив индексов с длиной\", len(ii[0]))\n",
    "\n",
    "i1 = ii[0]   # i1 - массив длиной 35\n",
    "j1 = jj[0]   # j1 - массив длиной 17\n",
    "\n",
    "try:\n",
    "    varr = zarr[j1, i1]\n",
    "    print(varr.shape)\n",
    "except:\n",
    "    print(\"Error! i1 - массив, который нельзя использовать одновременно с массивом индексов j1!\")\n",
    "\n",
    "# Последовательно берём срезы по осям\n",
    "try:\n",
    "    z1 = zarr[j1, :] \n",
    "    varr = z1[:, i1]\n",
    "    print(varr.shape)\n",
    "    print('Только последовательность срезов даёт адекватный результат')\n",
    "    print(('Есть возможность \"сцеплять\" как у многомерных списков последовательность взятия срезов.'\n",
    "           'Но это более запутаный с точки зрения синтаксиса по мнению автора способ взятия среза.'))\n",
    "    varr2 = zarr[j1, :][:, i1]\n",
    "    print(varr2.shape)\n",
    "    \n",
    "    \n",
    "except:\n",
    "    print(\"Тут ошибки не будет!\")\n",
    "\n"
   ]
  },
  {
   "cell_type": "markdown",
   "metadata": {},
   "source": [
    "Однако, одновременно в одних квадратных скобках можно взять два обычных среза!"
   ]
  },
  {
   "cell_type": "code",
   "execution_count": null,
   "metadata": {},
   "outputs": [],
   "source": [
    "import numpy as np\n",
    "\n",
    "lon = np.arange(-180, 180, 2.5)\n",
    "lat = np.arange(-90, 90 + 0.1, 2.5)\n",
    "\n",
    "zarr = np.random.random((lat.shape[0], lon.shape[0]))\n",
    "\n",
    "jj = np.where((lat > 40) & (lat < 85))\n",
    "ii = np.where((lon > 0.) & (lon < 90.))\n",
    "\n",
    "i1 = ii[0][0]\n",
    "i2 = ii[0][-1]\n",
    "\n",
    "j1 = jj[0][0]\n",
    "j2 = jj[0][-1]\n",
    "\n",
    "varr = zarr[j1 : j2 + 1, i1 : i2 + 1]\n",
    "print(varr.shape)"
   ]
  },
  {
   "cell_type": "markdown",
   "metadata": {},
   "source": [
    "Также не работают логические маски-условия при одновременном использовании в одних квадратных скобках срезов."
   ]
  },
  {
   "cell_type": "code",
   "execution_count": null,
   "metadata": {},
   "outputs": [],
   "source": [
    "import numpy as np\n",
    "\n",
    "lon = np.arange(-180, 180, 2.5)\n",
    "lat = np.arange(-90, 90 + 0.1, 2.5)\n",
    "\n",
    "zarr = np.random.random((lat.shape[0], lon.shape[0]))\n",
    "\n",
    "condJ = (lat > 40) & (lat < 85)\n",
    "condI = (lon > 0.) & (lon < 90.)\n",
    "\n",
    "try:\n",
    "    varr = zarr[condJ, condI]    \n",
    "except:\n",
    "    print('Рабоает только последовательное наложение логических условий на оси:')\n",
    "    z1 = zarr[condJ, :]\n",
    "    varr = z1[:, condI]\n",
    "    print(varr.shape)\n",
    "    \n",
    "    varr2 = zarr[condJ, ...][:, condI]\n",
    "    print(varr2.shape)"
   ]
  },
  {
   "cell_type": "code",
   "execution_count": null,
   "metadata": {},
   "outputs": [],
   "source": []
  },
  {
   "cell_type": "markdown",
   "metadata": {},
   "source": [
    "<a id='masked'></a>\n",
    "## Массивы с логической маской\n",
    "[Вверх](#up)\n",
    "\n",
    "<a id='ma'></a>\n",
    "### Пространство numpy.ma\n",
    "[Вверх](#up)\n",
    "\n",
    "Для применения математических функций чаще всего требуются \"полные данные\", т.е. данные, в которых нет пропусков, все значения лежат в области изменения функции, являются однотипными и т.д.\n",
    "\n",
    "Такая полнота данных суть идеализированный случай. Реальные наборы данных часто содержат:\n",
    "\n",
    "+ пропуски;\n",
    "\n",
    "+ ошибочные значения;\n",
    "\n",
    "+ значения, очень сильно отличающиеся от соседних значений;\n",
    "\n",
    "+ некорректные значения.\n",
    "\n",
    "Для восстановления полноты данных в модуле numpy существует `пространство ma`, которое позволяет применять почти все универсальные функции numpy к данным-массивам, в которых встречаются выше перечисленные проблемы.\n",
    "\n",
    "\n",
    "\n"
   ]
  },
  {
   "cell_type": "code",
   "execution_count": null,
   "metadata": {},
   "outputs": [],
   "source": [
    "import numpy as np\n",
    "from numpy import ma\n",
    "\n",
    "marr = ma.arange(12)\n",
    "marr2 = np.ma.arange(12)\n",
    "\n",
    "print(type(marr), type(marr2))"
   ]
  },
  {
   "cell_type": "markdown",
   "metadata": {},
   "source": [
    "Пространство ma вводит разновидность numpy-массивов - **MaskedArray** или \"массив с маской\", \"масочный массив\". Этот тип данных очень похож на обычный массив, у которого всегда дополнительно есть ещё и логический массив (массив из значений True/False). По умолчанию все элементы такого логического массива-маски (или просто маски) имеют значения **False**.\n",
    "\n",
    "При создании масочного массива или позже можно указать в качестве аргумента/атрибута *mask* логическое условие. Это условие будет применено к каждому элементу исходного массива и, если значение элемента будет удовлетворять условию, то для такого элемента значение маски массива будет True. Те элементы массива, которые не удовлетворяют условию, получат значения маски False. Т.о. будет сформирована логическая маска массива."
   ]
  },
  {
   "cell_type": "code",
   "execution_count": null,
   "metadata": {},
   "outputs": [],
   "source": [
    "import numpy as np\n",
    "\n",
    "x = np.arange(12)   # обычный массив\n",
    "print(x)\n",
    "marr = np.ma.array(x, mask=(x % 2 == 0))   # масочный массив\n",
    "\n",
    "print(type(marr), marr)\n",
    "marr[0] = marr[0] + 1\n",
    "print(marr.data)\n",
    "\n",
    "marr[marr.mask] = range(-6, 0)\n",
    "print(marr)"
   ]
  },
  {
   "cell_type": "markdown",
   "metadata": {},
   "source": [
    "На основе логической маски массива, все True элементы \"маскируются\" и больше не участвуют в арифметико-логических операциях масочного массива. При печати на экран они обозначаются двумя тире \"--\". Это не значит, что данные стёрты! Нет, их можно получить с помощью атрибута масочного массива **data (arr.data)**. Просто они скрыты, замаскированы для удобства расчётов."
   ]
  },
  {
   "cell_type": "code",
   "execution_count": null,
   "metadata": {},
   "outputs": [],
   "source": [
    "import numpy as np\n",
    "from numpy import ma\n",
    "\n",
    "marr = ma.arange(12)\n",
    "\n",
    "# Создаём логическую маску ()\n",
    "marr.mask = marr < 4\n",
    "\n",
    "# Массив-маска\n",
    "print('marr     ', marr)\n",
    "# Маска массива\n",
    "print('marr.mask', marr.mask)\n",
    "# Значения элементов массива\n",
    "print('marr.data', marr.data)"
   ]
  },
  {
   "cell_type": "markdown",
   "metadata": {},
   "source": [
    "Рассмотрим случай плохо структурированных данных (взятых из файла, например), где значения некоторых столбцов в строках отсутствуют. Тем не менее, необходимо провести расчёты каких-либо статистик на основе даже неполной информации. Этот вариант описывает пропуски в данных. Пропуски можно проигнорировать и провести расчёты по оставшимся значениям, а можно как-то их заполнить, заменить на какие-то значения. Но восполнение целостности данных с помощью методов интерполяции или заполнения пропусков другими значениями - это тема, которую мы частично рассмотрим ниже. Здесь же исследуем только случаи игнорирования пропусков.\n",
    "\n",
    "Наложение маски на пропущенные значения - один из вариантов проведения расчётов по данным с пропусками. Пропуски же возникают чаще всего при чтении плохо структурированных данных и при возникновении ошибок вычислений. \n",
    "\n",
    "<a id='nan'></a>\n",
    "### numpy.NaN\n",
    "[Вверх](#up)\n",
    "\n",
    "В numpy есть особый объект - `np.nan`, что означает \"Это не число!\" (\"Not A Number\"). Для чего он нужен? Для бесшовной работы с числовыми типами данных (т.е. без необходимости перехода к другим типам данных, например, `None`), значений которых нет или их не следует рассматривать при арифметико-логических операциях. [Более подробно с историй возникновения и введения в практику nan-ов - тут](https://en.wikipedia.org/wiki/NaN).\n",
    "\n",
    "Возникают nan-ы при чтении данных (заполняют отсутствующие данные - см. пример с файлом *\"w7_nums.txt\"*), возникают как результат вычислений, вышедших из русла разумного и возможного (например, при обращении матрицы). Когда `nan-ы` есть в массиве, то вычисления с ним становятся мукой. Любая операция с nan возвращает также nan. Т.е. достаточно появиться хотя бы одному np.nan в цепочке вычислений, чтобы итогом стало также **nan**.\n",
    "\n",
    "Nan-ы необходимо маскировать или экранировать для устойчивых вычислений. Безопасно проверить элемент или переменную на принадлежность к nan можно с помощью функции **np.isnan()**.\n",
    "\n",
    "Используя функцию `np.isnan()` в выражении маски для масочного массива можно экранировать nan-ы и продолжить вычисления."
   ]
  },
  {
   "cell_type": "code",
   "execution_count": null,
   "metadata": {},
   "outputs": [],
   "source": [
    "# Пример с np.nan\n",
    "import numpy as np\n",
    "\n",
    "arr = np.array([1., np.nan, 5.3, -0.9, np.nan, -0.3 ])   # обычный массив\n",
    "print('Is arr[1] == np.nan?', np.isnan(arr[1]))\n",
    "print(type(arr), arr)\n",
    "\n",
    "print('Mean arr:', np.mean(arr))\n",
    "\n",
    "# Маскируем nans\n",
    "marr = np.ma.array(arr, mask=np.isnan(arr))   # масочный массив\n",
    "print(type(marr), marr)\n",
    "print('Mean marr:', np.mean(marr))"
   ]
  },
  {
   "cell_type": "code",
   "execution_count": null,
   "metadata": {},
   "outputs": [],
   "source": [
    "# Чтение плохо структурированного файла w7_nums.txt\n",
    "import numpy as np\n",
    "\n",
    "arr = np.genfromtxt('./data/w7_nums.txt', delimiter=';')\n",
    "print('Оригинал', arr.shape)\n",
    "print(arr)\n",
    "\n",
    "marr = np.ma.array(arr, mask= (np.isnan(arr)) | (arr < -900))\n",
    "print('После наложения маски', marr.shape)\n",
    "print(marr)"
   ]
  },
  {
   "cell_type": "markdown",
   "metadata": {},
   "source": [
    "<a id='filled'></a>\n",
    "### Заполнение замаскированных значений\n",
    "[Вверх](#up)\n",
    "\n",
    "Помимо игнорирования пропусков в данных, можно попробовать заменить пропущенные значения на какие-то значения. В случае использования масочных массивов задача сводится к заполнению замаскированных значений. \n",
    "\n",
    "Для восстановления целостности данных в массивах-масках, соответствующие True-значениям в маске элементы, можно применить несколько методов массивов-масок:\n",
    "\n",
    "+ **marr.fill_value** - определяет значение, которым будут заполнены замаскированные значения;\n",
    "\n",
    "+ **marr.filled()** - заполняет замаскированные значения с помощью атрибута fill_value или переданного значения.\n"
   ]
  },
  {
   "cell_type": "code",
   "execution_count": null,
   "metadata": {},
   "outputs": [],
   "source": [
    "import numpy as np\n",
    "\n",
    "arr = np.array([1., np.nan, 5.3, -0.9, np.nan, -0.3 ])\n",
    "\n",
    "marr = np.ma.array(arr, mask=((arr >= 5) | np.isnan(arr)))   # масочный массив\n",
    "\n",
    "print('Оригинал', marr)\n",
    "a2 = marr.filled(marr.mean())   # заполнение средним значением (по трём valid значениям)\n",
    "print('Заполнение константным методом', a2)"
   ]
  },
  {
   "cell_type": "code",
   "execution_count": null,
   "metadata": {},
   "outputs": [],
   "source": [
    "import numpy as np\n",
    "\n",
    "arr = np.arange(12)   # обычный массив\n",
    "marr = np.ma.array(arr, mask=(x <= 3), fill_value=-99)   # масочный массив\n",
    "\n",
    "print('Оригинал', marr)\n",
    "\n",
    "a1 = marr.filled()\n",
    "print('Заполнение с помощью атрибута fill_value', a1)\n",
    "\n",
    "marr.fill_value = 77\n",
    "a2 = marr.filled()\n",
    "print('Заполнение с помощью атрибута fill_value', a2)\n",
    "\n",
    "a3 = marr.filled(0)\n",
    "print('Заполнение константным методом', a3)"
   ]
  },
  {
   "cell_type": "markdown",
   "metadata": {},
   "source": [
    "Помимо заполнения или игнорирования пропусков, полнота данных также зависит от препроцессинга, подготовки данных, проверки на \"вылеты\" и экстремальные значения (которые могут не иметь физического смысла, а являться ошибкой при записи, копировании, передаче данных). Это перетекает в задачу наложения логического условия на значения элементов массива. \n",
    "\n",
    "Т.е. после заполнения пропусков механизм логической маски можно использовать для маскирования т.н. invalid данных (например, значений над континентами для массивов потоков тепла океана). И не заполнять их, если это не несёт физического смысла.\n",
    "\n",
    "В случае же анализа на неадекватные или ошибочные значения, можно повторить процедуру заполнения данных разумными значениями."
   ]
  },
  {
   "cell_type": "markdown",
   "metadata": {},
   "source": [
    "<a id='print_numpy'></a>\n",
    "## Управляемый вывод представления чисел\n",
    "[Вверх](#up)\n",
    "\n",
    "[Печать массивов с сайта PythonWorld](https://pythonworld.ru/numpy/1.html)\n",
    "\n",
    "Numpy много работает с действительными (и не только) числами. Часто на печать выводится много лишней числовой информации (вроде седьмого знака после запятой).\n",
    "\n",
    "Модуль **numpy** позволяет управлять выводом на экран числовой информации с помощью спецальной функции:\n",
    "\n",
    "> **np.set_printoptions()**\n",
    "\n",
    "Функция принимает ряд аргументов, среди которых: \n",
    "\n",
    "+ **precision** - количество отображаемых цифр после запятой (по умолчанию 8);\n",
    "\n",
    "+ **threshold** - количество элементов в массиве, вызывающее разрыв массива при выводе на экран (по умолчанию 1000);\n",
    "\n",
    "+ **edgeitems** - количество элементов в начале и в конце каждой размерности массива (по умолчанию 3);\n",
    "\n",
    "+ **linewidth** - количество символов в строке, после которых осуществляется перенос (по умолчанию 75);\n",
    "\n",
    "+ **suppress** - если True, то не выводит на экран небольшие значения в scientific notation (по умолчанию False);\n",
    "\n",
    "+ **nanstr** - строковое представление NaN (по умолчанию 'nan');\n",
    "\n",
    "+ **infstr** - строковое представление Inf (по умолчанию 'inf');\n",
    "\n",
    "+ **sign** - позволяет выводить унарные знаки (плюс, минус и пробел) перед числами (по умолчанию '-')"
   ]
  },
  {
   "cell_type": "code",
   "execution_count": null,
   "metadata": {},
   "outputs": [],
   "source": [
    "import numpy as np\n",
    "\n",
    "z = np.random.random((40, 20))*10.\n",
    "print('До \"урезания\" знаков после запятой до 3\\n', z)\n",
    "\n",
    "np.set_printoptions(precision=3, sign='+')\n",
    "print('После (3 знака после запятой), все положительные со знаком +\\n', z)"
   ]
  },
  {
   "cell_type": "markdown",
   "metadata": {},
   "source": [
    "[Наверх](#up)"
   ]
  }
 ],
 "metadata": {
  "anaconda-cloud": {},
  "kernelspec": {
   "display_name": "Python 3",
   "language": "python",
   "name": "python3"
  },
  "language_info": {
   "codemirror_mode": {
    "name": "ipython",
    "version": 3
   },
   "file_extension": ".py",
   "mimetype": "text/x-python",
   "name": "python",
   "nbconvert_exporter": "python",
   "pygments_lexer": "ipython3",
   "version": "3.7.0"
  }
 },
 "nbformat": 4,
 "nbformat_minor": 1
}
